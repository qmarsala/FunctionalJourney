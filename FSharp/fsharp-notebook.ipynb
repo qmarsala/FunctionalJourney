{
 "cells": [
  {
   "cell_type": "markdown",
   "metadata": {},
   "source": [
    "## Getting Started"
   ]
  },
  {
   "cell_type": "markdown",
   "metadata": {},
   "source": [
    "F# is a multi paradigm dotnet language that focuses on the function side. In contrast C# is a multi paradigm dotnet language that focuses on the OO side.  F# can interop with C# and leverage all the existing .net goodness."
   ]
  },
  {
   "cell_type": "code",
   "execution_count": null,
   "metadata": {
    "dotnet_interactive": {
     "language": "fsharp"
    },
    "vscode": {
     "languageId": "dotnet-interactive.fsharp"
    }
   },
   "outputs": [
    {
     "name": "stdout",
     "output_type": "stream",
     "text": [
      "From F#: Hello, World\r\n",
      "From System.Console: Hello, World\r\n"
     ]
    }
   ],
   "source": [
    "//F#\n",
    "let msg = \"Hello, World\"\n",
    "printfn $\"From F#: {msg}\"\n",
    "\n",
    "//C#\n",
    "Console.WriteLine($\"From System.Console: {msg}\")"
   ]
  },
  {
   "cell_type": "markdown",
   "metadata": {},
   "source": [
    "## Function values and Simple values"
   ]
  },
  {
   "cell_type": "markdown",
   "metadata": {},
   "source": [
    "Values are quantities of a specific type. `Binding` associates a name with a definition.    \n",
    "Use `let` to bind a name to a value."
   ]
  },
  {
   "cell_type": "code",
   "execution_count": null,
   "metadata": {
    "dotnet_interactive": {
     "language": "fsharp"
    },
    "vscode": {
     "languageId": "dotnet-interactive.fsharp"
    }
   },
   "outputs": [
    {
     "data": {
      "text/html": [
       "<div class=\"dni-plaintext\">3</div>"
      ]
     },
     "metadata": {},
     "output_type": "display_data"
    }
   ],
   "source": [
    "// a simple value\n",
    "let myValue = 2\n",
    "\n",
    "// a function value\n",
    "let addOne (x:int) = x + 1\n",
    "\n",
    "addOne myValue"
   ]
  },
  {
   "cell_type": "markdown",
   "metadata": {},
   "source": [
    "Notice that functions are values too. This is very powerful! It means we can do anything with a function.  Pass them around to other functions, return them from other functions, compose them together.  All sorts of stuff!   \n",
    "We will explore these ideas further later on."
   ]
  },
  {
   "cell_type": "markdown",
   "metadata": {},
   "source": [
    "Values are immutable by default.  This is an important aspect of functional programming.  The essence of the functional paradigm can be summerized as:    \n",
    "- Avoiding Mutation\n",
    "- Avoiding Side effects (more on this later)    \n",
    "\n",
    "Should you need mutation, you can declare a mutable like so:"
   ]
  },
  {
   "cell_type": "code",
   "execution_count": null,
   "metadata": {
    "dotnet_interactive": {
     "language": "fsharp"
    },
    "vscode": {
     "languageId": "dotnet-interactive.fsharp"
    }
   },
   "outputs": [
    {
     "data": {
      "text/html": [
       "<div class=\"dni-plaintext\">3</div>"
      ]
     },
     "metadata": {},
     "output_type": "display_data"
    }
   ],
   "source": [
    "let mutable x = 2\n",
    "x <- 3 // mutation syntax\n",
    "x"
   ]
  },
  {
   "cell_type": "markdown",
   "metadata": {},
   "source": [
    "curring  "
   ]
  },
  {
   "cell_type": "markdown",
   "metadata": {},
   "source": [
    "partial application "
   ]
  },
  {
   "cell_type": "markdown",
   "metadata": {},
   "source": [
    "function composition"
   ]
  },
  {
   "cell_type": "markdown",
   "metadata": {},
   "source": [
    "combinators "
   ]
  },
  {
   "cell_type": "markdown",
   "metadata": {},
   "source": [
    "function signatures   "
   ]
  },
  {
   "cell_type": "markdown",
   "metadata": {},
   "source": [
    " monads"
   ]
  }
 ],
 "metadata": {
  "kernelspec": {
   "display_name": ".NET (C#)",
   "language": "C#",
   "name": ".net-csharp"
  },
  "language_info": {
   "file_extension": ".cs",
   "mimetype": "text/x-csharp",
   "name": "C#",
   "pygments_lexer": "csharp",
   "version": "9.0"
  },
  "orig_nbformat": 4
 },
 "nbformat": 4,
 "nbformat_minor": 2
}
