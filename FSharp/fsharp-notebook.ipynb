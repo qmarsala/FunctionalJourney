{
 "cells": [
  {
   "cell_type": "markdown",
   "metadata": {},
   "source": [
    "## Getting Started"
   ]
  },
  {
   "cell_type": "markdown",
   "metadata": {},
   "source": [
    "F# is a multi paradigm dotnet language that focuses on the function side. In contrast C# is a multi paradigm dotnet language that focuses on the OO side.  F# can interop with C# and leverage all the existing .net goodness."
   ]
  },
  {
   "cell_type": "code",
   "execution_count": null,
   "metadata": {
    "dotnet_interactive": {
     "language": "fsharp"
    },
    "vscode": {
     "languageId": "dotnet-interactive.fsharp"
    }
   },
   "outputs": [
    {
     "name": "stdout",
     "output_type": "stream",
     "text": [
      "From F#: Hello, World\r\n",
      "From System.Console: Hello, World\r\n"
     ]
    }
   ],
   "source": [
    "//F#\n",
    "let msg = \"Hello, World\"\n",
    "printfn \"From F#: %s\" msg\n",
    "\n",
    "//C#\n",
    "Console.WriteLine($\"From System.Console: {msg}\")"
   ]
  },
  {
   "cell_type": "markdown",
   "metadata": {},
   "source": [
    "## Function values and Simple values"
   ]
  },
  {
   "cell_type": "markdown",
   "metadata": {},
   "source": [
    "curring  "
   ]
  },
  {
   "cell_type": "markdown",
   "metadata": {},
   "source": [
    "partial application "
   ]
  },
  {
   "cell_type": "markdown",
   "metadata": {},
   "source": [
    "function composition"
   ]
  },
  {
   "cell_type": "markdown",
   "metadata": {},
   "source": [
    "combinators "
   ]
  },
  {
   "cell_type": "markdown",
   "metadata": {},
   "source": [
    "function signatures   "
   ]
  },
  {
   "cell_type": "markdown",
   "metadata": {},
   "source": [
    " monads"
   ]
  }
 ],
 "metadata": {
  "kernelspec": {
   "display_name": ".NET (C#)",
   "language": "C#",
   "name": ".net-csharp"
  },
  "language_info": {
   "file_extension": ".cs",
   "mimetype": "text/x-csharp",
   "name": "C#",
   "pygments_lexer": "csharp",
   "version": "9.0"
  },
  "orig_nbformat": 4
 },
 "nbformat": 4,
 "nbformat_minor": 2
}
