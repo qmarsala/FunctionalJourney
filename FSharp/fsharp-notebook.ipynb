{
 "cells": [
  {
   "cell_type": "markdown",
   "metadata": {},
   "source": [
    "Getting Started"
   ]
  },
  {
   "cell_type": "code",
   "execution_count": null,
   "metadata": {
    "dotnet_interactive": {
     "language": "fsharp"
    },
    "vscode": {
     "languageId": "dotnet-interactive.fsharp"
    }
   },
   "outputs": [],
   "source": []
  },
  {
   "cell_type": "markdown",
   "metadata": {},
   "source": [
    "function values and simple values"
   ]
  },
  {
   "cell_type": "markdown",
   "metadata": {},
   "source": [
    "curring  "
   ]
  },
  {
   "cell_type": "markdown",
   "metadata": {},
   "source": [
    "partial application "
   ]
  },
  {
   "cell_type": "markdown",
   "metadata": {},
   "source": [
    "function composition"
   ]
  },
  {
   "cell_type": "markdown",
   "metadata": {},
   "source": [
    "combinators "
   ]
  },
  {
   "cell_type": "markdown",
   "metadata": {},
   "source": [
    "function signatures   "
   ]
  },
  {
   "cell_type": "markdown",
   "metadata": {},
   "source": [
    " monads"
   ]
  }
 ],
 "metadata": {
  "kernelspec": {
   "display_name": ".NET (C#)",
   "language": "C#",
   "name": ".net-csharp"
  },
  "language_info": {
   "file_extension": ".cs",
   "mimetype": "text/x-csharp",
   "name": "C#",
   "pygments_lexer": "csharp",
   "version": "9.0"
  },
  "orig_nbformat": 4
 },
 "nbformat": 4,
 "nbformat_minor": 2
}
