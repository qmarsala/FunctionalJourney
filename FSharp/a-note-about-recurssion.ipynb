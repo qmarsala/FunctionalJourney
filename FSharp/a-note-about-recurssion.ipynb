{
 "cells": [
  {
   "cell_type": "markdown",
   "metadata": {},
   "source": [
    "### Recurssion"
   ]
  },
  {
   "cell_type": "markdown",
   "metadata": {},
   "source": [
    "Functions can be recurrsive by including the rec keyword in the let expression"
   ]
  },
  {
   "cell_type": "code",
   "execution_count": null,
   "metadata": {
    "dotnet_interactive": {
     "language": "fsharp"
    },
    "vscode": {
     "languageId": "dotnet-interactive.fsharp"
    }
   },
   "outputs": [
    {
     "data": {
      "text/html": [
       "<div class=\"dni-plaintext\">89</div>"
      ]
     },
     "metadata": {},
     "output_type": "display_data"
    }
   ],
   "source": [
    "let rec fib n = \n",
    "    if n < 2 \n",
    "        then 1 \n",
    "    else \n",
    "        fib (n - 1) + fib (n - 2)\n",
    "        \n",
    "fib 10"
   ]
  },
  {
   "cell_type": "markdown",
   "metadata": {},
   "source": [
    "A note about recursion.    \n",
    "This fibinachi implementation is not utilizing \"tail recursion\".  Which means it needs to put all intermediate values inbetween 0..n on the stack. A more efficient way to implement this, is to utilize accumlator parameters in the recursive definition so that intermediate values can be passed in rather than put on the stack."
   ]
  },
  {
   "cell_type": "code",
   "execution_count": null,
   "metadata": {
    "dotnet_interactive": {
     "language": "fsharp"
    },
    "vscode": {
     "languageId": "dotnet-interactive.fsharp"
    }
   },
   "outputs": [
    {
     "data": {
      "text/html": [
       "<div class=\"dni-plaintext\">89</div>"
      ]
     },
     "metadata": {},
     "output_type": "display_data"
    }
   ],
   "source": [
    "let rec fib n1 n2 n = \n",
    "    match n with\n",
    "    | 0 -> n1\n",
    "    | 1 -> n2\n",
    "    | _ -> \n",
    "        fib n2 (n1 + n2) (n - 1)\n",
    "\n",
    "fib 0 1 11 // our first implementation started at 1 not 0"
   ]
  },
  {
   "cell_type": "markdown",
   "metadata": {},
   "source": [
    "Well that is unfortunate.  It is much harder to call, and even worse we have leaked implementation details!    \n",
    "We can solve this by using a nested function to hide the details and expose a cleaner interface like before"
   ]
  },
  {
   "cell_type": "code",
   "execution_count": null,
   "metadata": {
    "dotnet_interactive": {
     "language": "fsharp"
    },
    "vscode": {
     "languageId": "dotnet-interactive.fsharp"
    }
   },
   "outputs": [
    {
     "data": {
      "text/html": [
       "<div class=\"dni-plaintext\">89</div>"
      ]
     },
     "metadata": {},
     "output_type": "display_data"
    }
   ],
   "source": [
    "let fib n = \n",
    "    let rec loop n1 n2 n =\n",
    "        match n with\n",
    "        | 0 -> n1\n",
    "        | 1 -> n2\n",
    "        | _ -> \n",
    "            loop n2 (n1 + n2) (n - 1)\n",
    "    loop 0 1 n\n",
    "\n",
    "fib 11"
   ]
  },
  {
   "cell_type": "markdown",
   "metadata": {},
   "source": [
    "Et voila! We are back to the `int -> int` signature, and we have managed to remove intermediate stack allocations by giving the intermediate values somewhere to go. The compiler will recognize this and optimize it to something as a fast as a while loop."
   ]
  }
 ],
 "metadata": {
  "kernelspec": {
   "display_name": ".NET (C#)",
   "language": "C#",
   "name": ".net-csharp"
  },
  "language_info": {
   "file_extension": ".cs",
   "mimetype": "text/x-csharp",
   "name": "C#",
   "pygments_lexer": "csharp",
   "version": "9.0"
  },
  "orig_nbformat": 4
 },
 "nbformat": 4,
 "nbformat_minor": 2
}
