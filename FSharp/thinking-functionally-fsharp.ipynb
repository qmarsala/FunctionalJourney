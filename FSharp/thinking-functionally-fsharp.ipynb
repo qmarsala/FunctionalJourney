{
 "cells": [
  {
   "cell_type": "markdown",
   "metadata": {},
   "source": [
    "The essence of the functional paradigm can be summerized as:    \n",
    "- Avoiding Mutation\n",
    "- Avoiding Side Effects"
   ]
  },
  {
   "cell_type": "markdown",
   "metadata": {},
   "source": [
    "### Starting simple\n",
    "`add1 :: int -> int`    \n",
    "A function \"maps\" a value in the \"domain\" to a value in the \"range\". There is no \"computation\"."
   ]
  },
  {
   "cell_type": "code",
   "execution_count": null,
   "metadata": {
    "dotnet_interactive": {
     "language": "fsharp"
    },
    "vscode": {
     "languageId": "dotnet-interactive.fsharp"
    }
   },
   "outputs": [
    {
     "data": {
      "text/html": [
       "<div class=\"dni-plaintext\">6</div>"
      ]
     },
     "metadata": {},
     "output_type": "display_data"
    }
   ],
   "source": [
    "let add1 x = x + 1\n",
    "add1 5"
   ]
  },
  {
   "cell_type": "markdown",
   "metadata": {},
   "source": [
    "#### Important notes:    \n",
    "`x` is not something that can change once we pass 5 in.    \n",
    "This is not assignment - What is happening here is \"binding\".    \n",
    "Once a domain value is \"bound\" is cannot be changed.     \n",
    "`x` is a placeholder that can be referred to later, not changed.    \n",
    "**There are no \"variables\", only values**"
   ]
  },
  {
   "cell_type": "markdown",
   "metadata": {},
   "source": [
    "### Pure Functions\n",
    "Remember one of the essentials of functial programming `avoiding side effects`.  This is so important there is a special name for functions that have this property. `Pure Functions` a function with no side effects.  This is the goal!\n",
    "\n",
    "What a `side effect`?  aside from manipulating local memory (this gets a free pass), it is any change outside of the function.    \n",
    "Writing to the console, a file, a database. Changing a variablefs value that resides outside of the scope of your function. etc...    \n",
    "\n",
    "Of course you have to do these things at some point.  Though you should strive to keep as much code pure as you can, and push side effects to the very edges of your code.  There is also a helpul design pattern called `monads` that we will explore later."
   ]
  },
  {
   "cell_type": "markdown",
   "metadata": {
    "dotnet_interactive": {
     "language": "fsharp"
    },
    "vscode": {
     "languageId": "dotnet-interactive.fsharp"
    }
   },
   "source": [
    "### Simple Value and Function Values\n",
    "Values are quantities of a specific type. `Binding` associates a name with a definition.    \n",
    "Similarly - the name `add1` is just a \"binding\" to \"the function that adds one to its input\"    \n",
    "\"Every time you see the name `add1`, replace it with the function that adds one to its input\".    \n",
    "\n",
    "For example, we can \"bind\" `add1` to a new name.    \n",
    "`plus1` and `add1` are \"bound\" to the same value, which is the function that adds one to its input.    \n",
    "`plus1 :: int -> int`    \n",
    "\n",
    "Functions are values too that can be passed around - This is a key part of thinking functionaly: functions are values that can be passed around to other functions."
   ]
  },
  {
   "cell_type": "code",
   "execution_count": null,
   "metadata": {
    "dotnet_interactive": {
     "language": "fsharp"
    },
    "vscode": {
     "languageId": "dotnet-interactive.fsharp"
    }
   },
   "outputs": [
    {
     "name": "stdout",
     "output_type": "stream",
     "text": [
      "add1: 3\r\n",
      "plus1: 3\r\n",
      "applyFn add1: 3\r\n"
     ]
    }
   ],
   "source": [
    "let plus1 = add1\n",
    "let result1 = add1 2\n",
    "let result2 = plus1 2\n",
    "printfn $\"add1: {result1}\"\n",
    "printfn $\"plus1: {result2}\"\n",
    "\n",
    "let applyFn fn x = fn x\n",
    "let result3 = applyFn add1 2\n",
    "printfn $\"applyFn add1: {result3}\""
   ]
  },
  {
   "cell_type": "markdown",
   "metadata": {},
   "source": [
    "#### Higher-Order functions\n",
    "A function that takes a function as a paramater, or returns another function.   \n",
    "Example:\n",
    "`evalWith5ThenAdd2 :: (int -> int) -> int` "
   ]
  },
  {
   "cell_type": "code",
   "execution_count": null,
   "metadata": {
    "dotnet_interactive": {
     "language": "fsharp"
    },
    "vscode": {
     "languageId": "dotnet-interactive.fsharp"
    }
   },
   "outputs": [
    {
     "data": {
      "text/html": [
       "<div class=\"dni-plaintext\">8</div>"
      ]
     },
     "metadata": {},
     "output_type": "display_data"
    }
   ],
   "source": [
    "let evalWith5ThenAdd2 fn = (fn 5) + 2\n",
    "evalWith5ThenAdd2 add1"
   ]
  },
  {
   "cell_type": "markdown",
   "metadata": {},
   "source": [
    "In this function the domain is `(int -> int)` and the range is `int`.    \n",
    "This means the input is a function that maps ints to ints, and the output is just an int.    \n",
    "\n",
    "`timesThree :: int -> int`"
   ]
  },
  {
   "cell_type": "code",
   "execution_count": null,
   "metadata": {
    "dotnet_interactive": {
     "language": "fsharp"
    },
    "vscode": {
     "languageId": "dotnet-interactive.fsharp"
    }
   },
   "outputs": [
    {
     "data": {
      "text/html": [
       "<div class=\"dni-plaintext\">17</div>"
      ]
     },
     "metadata": {},
     "output_type": "display_data"
    }
   ],
   "source": [
    "let timesThree x = x * 3\n",
    "evalWith5ThenAdd2 timesThree"
   ]
  },
  {
   "cell_type": "markdown",
   "metadata": {
    "dotnet_interactive": {
     "language": "fsharp"
    }
   },
   "source": [
    "Now, lets return a function rather than use one as input.    \n",
    "`adderGenerator :: int -> (int -> int)`"
   ]
  },
  {
   "cell_type": "code",
   "execution_count": null,
   "metadata": {
    "dotnet_interactive": {
     "language": "fsharp"
    },
    "vscode": {
     "languageId": "dotnet-interactive.fsharp"
    }
   },
   "outputs": [
    {
     "name": "stdout",
     "output_type": "stream",
     "text": [
      "2 4 7"
     ]
    }
   ],
   "source": [
    "let adderGenerator x = \n",
    "    let add a b = a + b\n",
    "    add x\n",
    "\n",
    "let add2 = adderGenerator 2\n",
    "let add3 = adderGenerator 3\n",
    "\n",
    "let result1 = add1 1\n",
    "let result2 = add2 result1\n",
    "let result3 = add3 result2\n",
    "printf $\"{result1} {result2} {result3}\""
   ]
  },
  {
   "cell_type": "markdown",
   "metadata": {
    "dotnet_interactive": {
     "language": "fsharp"
    }
   },
   "source": [
    "### Currying\n",
    "If 'functionaly' we can only have one input, how do we pass multiple inputs?    \n",
    "1. tuples\n",
    "2. currying! - a series of functions that each take one paramater    \n",
    "\n",
    "Example: `printTwoParameters :: int -> int -> ()`"
   ]
  },
  {
   "cell_type": "code",
   "execution_count": null,
   "metadata": {
    "dotnet_interactive": {
     "language": "fsharp"
    },
    "vscode": {
     "languageId": "dotnet-interactive.fsharp"
    }
   },
   "outputs": [],
   "source": [
    "let printTwoParameters x = \n",
    "    let printParams y = \n",
    "        printfn $\"{x} {y}\"\n",
    "    printParams"
   ]
  },
  {
   "cell_type": "markdown",
   "metadata": {},
   "source": [
    "We now have a function that takes a single argument and returns a new function with that parameter baked in.  The new function also takes a single parameter.    "
   ]
  },
  {
   "cell_type": "code",
   "execution_count": null,
   "metadata": {
    "dotnet_interactive": {
     "language": "fsharp"
    },
    "vscode": {
     "languageId": "dotnet-interactive.fsharp"
    }
   },
   "outputs": [
    {
     "name": "stdout",
     "output_type": "stream",
     "text": [
      "1 2\r\n",
      "1 2\r\n"
     ]
    }
   ],
   "source": [
    "let printOneThenY = printTwoParameters 1 // create a new func that prints 1 and whatever else you give it.\n",
    "printOneThenY 2 // finish the function logic with the second parameter.\n",
    "//or\n",
    "printTwoParameters 1 2"
   ]
  },
  {
   "cell_type": "markdown",
   "metadata": {
    "dotnet_interactive": {
     "language": "fsharp"
    }
   },
   "source": [
    "### Partial Application\n",
    "Currying leads to 'partial application' - a powerful concept.    \n",
    "The idea is to take a function of N parameters and apply some of the arguments, returning a new function of the remaining arguments.    \n",
    "This is similar to `adderGenerator` but more generalized.    \n",
    "\n",
    "Example:    \n",
    "`add :: int -> int -> int`    \n",
    "partially apply 2 to get        \n",
    "`add2 :: int -> int`    \n",
    "\n",
    "`isLessThan :: int -> int -> bool`    \n",
    "partially apply 5 to get    \n",
    "`isLessThan5 :: int -> bool`"
   ]
  },
  {
   "cell_type": "code",
   "execution_count": null,
   "metadata": {
    "dotnet_interactive": {
     "language": "fsharp"
    },
    "vscode": {
     "languageId": "dotnet-interactive.fsharp"
    }
   },
   "outputs": [
    {
     "name": "stdout",
     "output_type": "stream",
     "text": [
      "3 True\r\n"
     ]
    }
   ],
   "source": [
    "let add x y = x + y\n",
    "let add2 = add 2 // partial application\n",
    "\n",
    "let result1 = add2 1\n",
    "\n",
    "let isLessThan x y = x > y \n",
    "let isLessThan5 = isLessThan 5 // partial application\n",
    "\n",
    "let result2 = isLessThan5 result1\n",
    "\n",
    "printfn $\"{result1} {result2}\""
   ]
  },
  {
   "cell_type": "markdown",
   "metadata": {},
   "source": [
    "### Function Composition \n",
    "Taking the output of one function, and using it as the input of another function.    \n",
    "\n",
    "Thes simplest form of this is a data proccesing pipeline that takes an integer and performs a series of calculations and returns a result."
   ]
  },
  {
   "cell_type": "markdown",
   "metadata": {},
   "source": [
    "#### Pipeline operator\n",
    "Passing functions is great! but can get hard to read, consider the following:"
   ]
  },
  {
   "cell_type": "code",
   "execution_count": null,
   "metadata": {
    "dotnet_interactive": {
     "language": "fsharp"
    },
    "vscode": {
     "languageId": "dotnet-interactive.fsharp"
    }
   },
   "outputs": [
    {
     "data": {
      "text/html": [
       "<div class=\"dni-plaintext\">7</div>"
      ]
     },
     "metadata": {},
     "output_type": "display_data"
    }
   ],
   "source": [
    "add3 (add2 (add1 1))"
   ]
  },
  {
   "cell_type": "markdown",
   "metadata": {},
   "source": [
    "First, we addOne to 0 which gives us 1    \n",
    "Then, we substractTwo to 1 which gives us -1    \n",
    "Then, we addOne to -1 to get to 0    \n",
    "Finally, weOne to 0 to get back to 1    \n",
    "\n",
    "But, we had to read the whole line to know where to start, and then work backwards... bleh    \n",
    "This is a common way to create data processing pipelines, there is even some helpful syntax: \n",
    "\n",
    "The Pipe! `|>` - it uses the output of one function as the input of the next.   "
   ]
  },
  {
   "cell_type": "code",
   "execution_count": null,
   "metadata": {
    "dotnet_interactive": {
     "language": "fsharp"
    },
    "vscode": {
     "languageId": "dotnet-interactive.fsharp"
    }
   },
   "outputs": [
    {
     "data": {
      "text/html": [
       "<div class=\"dni-plaintext\">7</div>"
      ]
     },
     "metadata": {},
     "output_type": "display_data"
    }
   ],
   "source": [
    "add1 1\n",
    "|> add2\n",
    "|> add3"
   ]
  },
  {
   "cell_type": "markdown",
   "metadata": {},
   "source": [
    "Much better!  Now it looks like what is actually does!    "
   ]
  },
  {
   "cell_type": "markdown",
   "metadata": {},
   "source": [
    "#### Composition operator"
   ]
  },
  {
   "cell_type": "markdown",
   "metadata": {},
   "source": [
    "Another form of this is taking two functions and returning a new function that is the result of binding one functions output to another functions input.\n",
    "\n",
    "For example, if you have a function that maps from T1 -> T2 and another function that maps from T2 -> T3, then you can compose them giving you a new function that maps from T1 -> T3.\n",
    "\n",
    "The composition operator `>>`"
   ]
  },
  {
   "cell_type": "code",
   "execution_count": null,
   "metadata": {
    "dotnet_interactive": {
     "language": "fsharp"
    },
    "vscode": {
     "languageId": "dotnet-interactive.fsharp"
    }
   },
   "outputs": [
    {
     "name": "stdout",
     "output_type": "stream",
     "text": [
      "5 5\r\n"
     ]
    }
   ],
   "source": [
    "let f x = x * 2\n",
    "let g x = x + 1\n",
    "\n",
    "let fg = f >> g\n",
    "let result1 = fg 2\n",
    "\n",
    "//similar without operator\n",
    "let fg2 x = g (f x)\n",
    "let result2 = fg2 2\n",
    "\n",
    "printfn $\"{result1} {result2}\""
   ]
  },
  {
   "cell_type": "markdown",
   "metadata": {},
   "source": [
    "### Combinators\n",
    "A combinator is a function whos results only depends on the functions parameters. That is to say, a combinator is a function that only combines its parameters in some way.    \n"
   ]
  },
  {
   "cell_type": "markdown",
   "metadata": {},
   "source": [
    "**Combinator Birds** "
   ]
  },
  {
   "cell_type": "code",
   "execution_count": null,
   "metadata": {
    "dotnet_interactive": {
     "language": "fsharp"
    },
    "vscode": {
     "languageId": "dotnet-interactive.fsharp"
    }
   },
   "outputs": [],
   "source": [
    "/// Identity function, or the Idiot bird\n",
    "let I x = x;\n",
    "\n",
    "/// The Kestrel\n",
    "let K x = fun y -> x\n",
    "\n",
    "/// The Mockingbird\n",
    "let M x = fun y -> x (x (y))\n",
    "\n",
    "/// The Thrush\n",
    "let T x = fun y -> y (x)\n",
    "\n",
    "/// The Queer bird\n",
    "let Q x = fun y -> fun z -> y (x (z))\n",
    "\n",
    "/// The Starling\n",
    "let S x = fun y -> fun z -> x (z, y (z))\n",
    "\n",
    "/// The infamous Y-combinator, or Sage bird\n",
    "let rec Y f = fun x -> f (Y (f), x)"
   ]
  },
  {
   "cell_type": "markdown",
   "metadata": {},
   "source": [
    "A combinator is the safest form of a function. There is nothing outside of the function that can change its result.        \n",
    "Using combitators from a combinator library is like using Lego from a lego set to create something new.    "
   ]
  },
  {
   "cell_type": "markdown",
   "metadata": {},
   "source": [
    "//todo    \n",
    "function signatures   \n",
    "monads"
   ]
  },
  {
   "cell_type": "markdown",
   "metadata": {},
   "source": []
  }
 ],
 "metadata": {
  "kernelspec": {
   "display_name": ".NET (C#)",
   "language": "C#",
   "name": ".net-csharp"
  },
  "language_info": {
   "file_extension": ".cs",
   "mimetype": "text/x-csharp",
   "name": "C#",
   "pygments_lexer": "csharp",
   "version": "9.0"
  },
  "orig_nbformat": 4,
  "vscode": {
   "interpreter": {
    "hash": "b8d5b8776fd99c39024aeb60ff3aaff8051302ed546e2c19e1f016edbc0f9459"
   }
  }
 },
 "nbformat": 4,
 "nbformat_minor": 2
}
