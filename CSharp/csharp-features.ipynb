{
 "cells": [
  {
   "attachments": {},
   "cell_type": "markdown",
   "metadata": {},
   "source": [
    "# Class and Records\n",
    "What is a record?\n",
    "- Indroduced in C# 9\n",
    "- reference type for encapsulating immutable types \n",
    "    - comes from functional programming where immutablilty is king\n",
    "        - data is kept seperate from logic in immutable types called records\n",
    "- C# 10 introduces record struct's\n",
    "\n",
    "What is the motivation for having a record?\n",
    "- Immutable by default\n",
    "    - concise syntax for creating immutable properties\n",
    "- Value semantics\n",
    "    - variables are equal based on value, rather than reference\n",
    "    - this is often what you want\n",
    "        - but is non trivial to achieve with regular reference type"
   ]
  },
  {
   "cell_type": "code",
   "execution_count": 157,
   "metadata": {
    "dotnet_interactive": {
     "language": "csharp"
    },
    "polyglot_notebook": {
     "kernelName": "csharp"
    },
    "vscode": {
     "languageId": "polyglot-notebook"
    }
   },
   "outputs": [],
   "source": [
    "class Person\n",
    "{\n",
    "    public int Age {get; set;}\n",
    "    public string Name {get; set;}\n",
    "\n",
    "    public Person() { }\n",
    "\n",
    "    public Person(int age, string name)\n",
    "    {\n",
    "        Age = age;\n",
    "        Name = name;\n",
    "    }\n",
    "}"
   ]
  },
  {
   "cell_type": "code",
   "execution_count": 158,
   "metadata": {
    "dotnet_interactive": {
     "language": "csharp"
    },
    "polyglot_notebook": {
     "kernelName": "csharp"
    },
    "vscode": {
     "languageId": "polyglot-notebook"
    }
   },
   "outputs": [
    {
     "name": "stdout",
     "output_type": "stream",
     "text": [
      "Person {Age = 1}, Name = {Quinten}\n",
      "Person {Age = 1}, Name = {Quinten}\n",
      "False\n",
      "Person {Age = 1}, Name = {Bob}\n"
     ]
    }
   ],
   "source": [
    "var q = new Person(1, \"Quinten\");\n",
    "var q1 = new Person \n",
    "{\n",
    "    Age = 1, \n",
    "    Name = \"Quinten\"\n",
    "};\n",
    "Console.WriteLine($\"Person {{Age = {q.Age}}}, Name = {{{q.Name}}}\");\n",
    "Console.WriteLine($\"Person {{Age = {q1.Age}}}, Name = {{{q1.Name}}}\");\n",
    "\n",
    "// but this is false even though we are tryint to represent the same Person.\n",
    "Console.WriteLine($\"{q == q1}\");\n",
    "\n",
    "// and this is mutable :(\n",
    "q.Name = \"Bob\";\n",
    "Console.WriteLine($\"Person {{Age = {q.Age}}}, Name = {{{q.Name}}}\");"
   ]
  },
  {
   "cell_type": "code",
   "execution_count": 159,
   "metadata": {
    "dotnet_interactive": {
     "language": "csharp"
    },
    "polyglot_notebook": {
     "kernelName": "csharp"
    },
    "vscode": {
     "languageId": "polyglot-notebook"
    }
   },
   "outputs": [],
   "source": [
    "class Person\n",
    "{\n",
    "    public int Age {get; private set;}\n",
    "    public string Name {get; private set;}\n",
    "\n",
    "    public Person() { }\n",
    "\n",
    "    public Person(int age, string name)\n",
    "    {\n",
    "        Age = age;\n",
    "        Name = name;\n",
    "    }\n",
    "}"
   ]
  },
  {
   "cell_type": "code",
   "execution_count": 160,
   "metadata": {
    "dotnet_interactive": {
     "language": "csharp"
    },
    "polyglot_notebook": {
     "kernelName": "csharp"
    },
    "vscode": {
     "languageId": "polyglot-notebook"
    }
   },
   "outputs": [
    {
     "name": "stdout",
     "output_type": "stream",
     "text": [
      "Person {Age = 1}, Name = {Quinten}\n",
      "Person {Age = 1}, Name = {Quinten}\n",
      "False\n"
     ]
    }
   ],
   "source": [
    "var q = new Person(1, \"Quinten\");\n",
    "var q1 = new Person(1, \"Quinten\");\n",
    "Console.WriteLine($\"Person {{Age = {q.Age}}}, Name = {{{q.Name}}}\");\n",
    "Console.WriteLine($\"Person {{Age = {q1.Age}}}, Name = {{{q1.Name}}}\");\n",
    "Console.WriteLine($\"{q == q1}\");"
   ]
  },
  {
   "attachments": {},
   "cell_type": "markdown",
   "metadata": {},
   "source": [
    "We could implement IEquatable and all the operators... or"
   ]
  },
  {
   "cell_type": "code",
   "execution_count": 161,
   "metadata": {
    "dotnet_interactive": {
     "language": "csharp"
    },
    "polyglot_notebook": {
     "kernelName": "csharp"
    },
    "vscode": {
     "languageId": "polyglot-notebook"
    }
   },
   "outputs": [
    {
     "name": "stdout",
     "output_type": "stream",
     "text": [
      "Person { Age = 1, Name = Quinten }\n",
      "Person { Age = 1, Name = Quinten }\n",
      "True\n"
     ]
    }
   ],
   "source": [
    "record Person(int Age, string Name);\n",
    "\n",
    "var q = new Person(1, \"Quinten\");\n",
    "var q1 = new Person(1, \"Quinten\");\n",
    "Console.WriteLine(q);\n",
    "Console.WriteLine(q1);\n",
    "Console.WriteLine($\"{q == q1}\");"
   ]
  },
  {
   "attachments": {},
   "cell_type": "markdown",
   "metadata": {},
   "source": [
    "### But I like object initialization syntax\n",
    "The `init` keyword allows you to create an immutable property that can be `initialized` during contruction."
   ]
  },
  {
   "cell_type": "code",
   "execution_count": 162,
   "metadata": {
    "dotnet_interactive": {
     "language": "csharp"
    },
    "polyglot_notebook": {
     "kernelName": "csharp"
    },
    "vscode": {
     "languageId": "polyglot-notebook"
    }
   },
   "outputs": [
    {
     "name": "stdout",
     "output_type": "stream",
     "text": [
      "Person { Age = 1, Name = Quinten }\n",
      "Person { Age = 1, Name = Quinten }\n",
      "True\n"
     ]
    }
   ],
   "source": [
    "record Person()\n",
    "{\n",
    "    public int Age {get; init;}\n",
    "    public string Name {get; init;}\n",
    "}\n",
    "\n",
    "var q = new Person\n",
    "{\n",
    "    Age = 1, \n",
    "    Name = \"Quinten\"\n",
    "};\n",
    "var q1 = new Person\n",
    "{\n",
    "    Age = 1, \n",
    "    Name = \"Quinten\"\n",
    "};\n",
    "Console.WriteLine(q);\n",
    "Console.WriteLine(q1);\n",
    "Console.WriteLine($\"{q == q1}\");"
   ]
  },
  {
   "cell_type": "code",
   "execution_count": 163,
   "metadata": {
    "dotnet_interactive": {
     "language": "csharp"
    },
    "polyglot_notebook": {
     "kernelName": "csharp"
    },
    "vscode": {
     "languageId": "polyglot-notebook"
    }
   },
   "outputs": [
    {
     "ename": "Error",
     "evalue": "(2,1): error CS8852: Init-only property or indexer 'Person.Name' can only be assigned in an object initializer, or on 'this' or 'base' in an instance constructor or an 'init' accessor.",
     "output_type": "error",
     "traceback": [
      "(2,1): error CS8852: Init-only property or indexer 'Person.Name' can only be assigned in an object initializer, or on 'this' or 'base' in an instance constructor or an 'init' accessor."
     ]
    }
   ],
   "source": [
    "// and immutablity is maintained\n",
    "q.Name = \"Bob\";"
   ]
  },
  {
   "attachments": {},
   "cell_type": "markdown",
   "metadata": {},
   "source": [
    "### What else does this enable?\n",
    "Nondestructive mutation\n",
    "- The result of a with expression is a shallow copy"
   ]
  },
  {
   "cell_type": "code",
   "execution_count": 164,
   "metadata": {
    "dotnet_interactive": {
     "language": "csharp"
    },
    "polyglot_notebook": {
     "kernelName": "csharp"
    },
    "vscode": {
     "languageId": "polyglot-notebook"
    }
   },
   "outputs": [
    {
     "name": "stdout",
     "output_type": "stream",
     "text": [
      "Person { Age = 1, Name = Quinten }\n",
      "Person { Age = 1, Name = Bob }\n",
      "False\n"
     ]
    }
   ],
   "source": [
    "var bob = q with {Name = \"Bob\"};\n",
    "Console.WriteLine(q); // we still have q :)\n",
    "Console.WriteLine(bob); // which means we have timetravel\n",
    "Console.WriteLine(q == bob) // and at this point, they are no longer the same person"
   ]
  },
  {
   "attachments": {},
   "cell_type": "markdown",
   "metadata": {},
   "source": [
    "^ did you notice the built in formatting? ^"
   ]
  },
  {
   "attachments": {},
   "cell_type": "markdown",
   "metadata": {},
   "source": [
    "# Introduction to Pattern Matching"
   ]
  },
  {
   "attachments": {},
   "cell_type": "markdown",
   "metadata": {},
   "source": [
    "Pattern matching in C# lets you test expressions for certain characteristics and take actions based on the first matching pattern. It can help you check for null values, types, and enum values more concisely and safely."
   ]
  },
  {
   "attachments": {},
   "cell_type": "markdown",
   "metadata": {},
   "source": [
    "`is`"
   ]
  },
  {
   "cell_type": "code",
   "execution_count": 165,
   "metadata": {
    "dotnet_interactive": {
     "language": "csharp"
    },
    "polyglot_notebook": {
     "kernelName": "csharp"
    },
    "vscode": {
     "languageId": "polyglot-notebook"
    }
   },
   "outputs": [
    {
     "ename": "Error",
     "evalue": "System.NullReferenceException: Object reference not set to an instance of an object.\r\n   at Submission#166.<<Initialize>>d__0.MoveNext()\r\n--- End of stack trace from previous location ---\r\n   at Microsoft.CodeAnalysis.Scripting.ScriptExecutionState.RunSubmissionsAsync[TResult](ImmutableArray`1 precedingExecutors, Func`2 currentExecutor, StrongBox`1 exceptionHolderOpt, Func`2 catchExceptionOpt, CancellationToken cancellationToken)",
     "output_type": "error",
     "traceback": [
      "System.NullReferenceException: Object reference not set to an instance of an object.\r\n",
      "   at Submission#166.<<Initialize>>d__0.MoveNext()\r\n",
      "--- End of stack trace from previous location ---\r\n",
      "   at Microsoft.CodeAnalysis.Scripting.ScriptExecutionState.RunSubmissionsAsync[TResult](ImmutableArray`1 precedingExecutors, Func`2 currentExecutor, StrongBox`1 exceptionHolderOpt, Func`2 catchExceptionOpt, CancellationToken cancellationToken)"
     ]
    }
   ],
   "source": [
    "class Circle {\n",
    "    public float Diameter => 1;\n",
    "}\n",
    "\n",
    "Circle circle;\n",
    "\n",
    "Console.WriteLine(circle.Diameter);"
   ]
  },
  {
   "attachments": {},
   "cell_type": "markdown",
   "metadata": {},
   "source": [
    "pattern matching to save the day"
   ]
  },
  {
   "cell_type": "code",
   "execution_count": 166,
   "metadata": {
    "dotnet_interactive": {
     "language": "csharp"
    },
    "polyglot_notebook": {
     "kernelName": "csharp"
    },
    "vscode": {
     "languageId": "polyglot-notebook"
    }
   },
   "outputs": [
    {
     "name": "stdout",
     "output_type": "stream",
     "text": [
      "0\n",
      "0\n"
     ]
    }
   ],
   "source": [
    "Console.WriteLine(circle is Circle c ? c.Diameter : 0f); \n",
    "Console.WriteLine(circle is not null ? circle.Diameter : 0f); "
   ]
  },
  {
   "attachments": {},
   "cell_type": "markdown",
   "metadata": {},
   "source": [
    "You should prefer pattern matching with `is` wherever possible, especially for `null` checks.\n",
    "This is because pattern matching is more efficient than equality checks.\n",
    "- there is no risk of overridden behavior\n",
    "- overloads do not need to run\n",
    "- it only checks exactly what is asked"
   ]
  },
  {
   "attachments": {},
   "cell_type": "markdown",
   "metadata": {},
   "source": [
    "`switch` (expression)"
   ]
  },
  {
   "attachments": {},
   "cell_type": "markdown",
   "metadata": {},
   "source": [
    "consice syntax for branching expression logic based on the shape of the data"
   ]
  },
  {
   "cell_type": "code",
   "execution_count": 167,
   "metadata": {
    "dotnet_interactive": {
     "language": "csharp"
    },
    "polyglot_notebook": {
     "kernelName": "csharp"
    },
    "vscode": {
     "languageId": "polyglot-notebook"
    }
   },
   "outputs": [
    {
     "name": "stdout",
     "output_type": "stream",
     "text": [
      "solid\n",
      "liquid\n",
      "gas\n"
     ]
    }
   ],
   "source": [
    "string WaterState(int tempInFahrenheit) =>\n",
    "    tempInFahrenheit switch\n",
    "    {\n",
    "        (> 32) and (< 212) => \"liquid\",\n",
    "        < 32 => \"solid\",\n",
    "        > 212 => \"gas\",\n",
    "        32 => \"solid/liquid transition\",\n",
    "        212 => \"liquid / gas transition\",\n",
    "    };\n",
    "\n",
    "Console.WriteLine(WaterState(1));\n",
    "Console.WriteLine(WaterState(33));\n",
    "Console.WriteLine(WaterState(220));"
   ]
  },
  {
   "cell_type": "code",
   "execution_count": 168,
   "metadata": {
    "dotnet_interactive": {
     "language": "csharp"
    },
    "polyglot_notebook": {
     "kernelName": "csharp"
    },
    "vscode": {
     "languageId": "polyglot-notebook"
    }
   },
   "outputs": [
    {
     "name": "stdout",
     "output_type": "stream",
     "text": [
      "0\n",
      "0.05\n"
     ]
    }
   ],
   "source": [
    "public record Order(int Items, decimal Cost);\n",
    "\n",
    "public decimal CalculateDiscount(Order order) =>\n",
    "    order switch\n",
    "    {\n",
    "        { Items: > 10, Cost: > 1000.00m } => 0.10m,\n",
    "        { Items: > 5, Cost: > 500.00m } => 0.05m,\n",
    "        { Cost: > 250.00m } => 0.02m,\n",
    "        null => throw new ArgumentNullException(nameof(order), \"Can't calculate discount on null order\"),\n",
    "        var someObject => 0m,\n",
    "    };\n",
    "\n",
    "var orders = new List<Order> { new Order(1, 100m), new Order(20,1000m) };\n",
    "orders\n",
    "    .Select(CalculateDiscount)\n",
    "    .ToList()\n",
    "    .ForEach(Console.WriteLine);"
   ]
  },
  {
   "cell_type": "code",
   "execution_count": 169,
   "metadata": {
    "vscode": {
     "languageId": "polyglot-notebook"
    }
   },
   "outputs": [
    {
     "name": "stdout",
     "output_type": "stream",
     "text": [
      ", New balance: $2,250.00SIT, Initialdeposit, 2250.00\n",
      ", New balance: $2,375.65SIT, Refund, 125.65\n",
      ", New balance: $3,201.30SIT, Paycheck, 825.65\n",
      ", New balance: $2,945.57DRAWAL, Debit, Groceries, 255.73\n",
      ", New balance: $845.57THDRAWAL, #1102, Rent, apt, 2100.00\n",
      ", New balance: $846.22TEREST, 0.65\n",
      ", New balance: $833.65THDRAWAL, Debit, Movies, 12.57\n",
      "Record: 04-15-2020, FEE, 5.55, New balance: $828.10\n"
     ]
    }
   ],
   "source": [
    "var input = \"\"\"\n",
    "04-01-2020,DEPOSIT,Initialdeposit,2250.00\n",
    "04-15-2020,DEPOSIT,Refund,125.65\n",
    "04-18-2020,DEPOSIT,Paycheck,825.65\n",
    "04-22-2020,WITHDRAWAL,Debit,Groceries,255.73\n",
    "05-01-2020,WITHDRAWAL,#1102,Rent,apt,2100.00\n",
    "05-02-2020,INTEREST,0.65\n",
    "05-07-2020,WITHDRAWAL,Debit,Movies,12.57\n",
    "04-15-2020,FEE,5.55\n",
    "\"\"\";\n",
    "\n",
    "// bonus feature, _ the discard\n",
    "decimal ParseTransaction(string[] transaction) => \n",
    "    transaction switch\n",
    "    {\n",
    "        [_, \"DEPOSIT\", _, var amount]     => decimal.Parse(amount),\n",
    "        [_, \"WITHDRAWAL\", .., var amount] => -decimal.Parse(amount),\n",
    "        [_, \"INTEREST\", var amount]       => decimal.Parse(amount),\n",
    "        [_, \"FEE\", var fee]               => -decimal.Parse(fee),\n",
    "        _                                 => throw new InvalidOperationException($\"Record {string.Join(\", \", transaction)} is not in the expected format!\"),\n",
    "    };\n",
    "\n",
    "var records = \n",
    "    from row in input.Split('\\n')\n",
    "    select row.Split(',');\n",
    "\n",
    "decimal balance = 0m;\n",
    "foreach (string[] transaction in records)\n",
    "{\n",
    "    balance += ParseTransaction(transaction);\n",
    "    Console.WriteLine($\"Record: {string.Join(\", \", transaction)}, New balance: {balance:C}\");\n",
    "}"
   ]
  }
 ],
 "metadata": {
  "language_info": {
   "name": "python"
  },
  "orig_nbformat": 4
 },
 "nbformat": 4,
 "nbformat_minor": 2
}
