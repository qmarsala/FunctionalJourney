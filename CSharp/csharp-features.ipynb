{
 "cells": [
  {
   "attachments": {},
   "cell_type": "markdown",
   "metadata": {},
   "source": [
    "# Class and Records\n",
    "What is a record?\n",
    "- Indroduced in C# 9\n",
    "- reference type for encapsulating immutable types \n",
    "    - comes from functional programming where immutablilty is king\n",
    "        - data is kept seperate from logic in immutable types called records\n",
    "- C# 10 introduces record struct's\n",
    "\n",
    "What is the motivation for having a record?\n",
    "- Immutable by default\n",
    "    - concise syntax for creating immutable properties\n",
    "- Value semantics\n",
    "    - variables are equal based on value, rather than reference\n",
    "    - this is often what you want\n",
    "        - but is non trivial to achieve with regular reference type"
   ]
  },
  {
   "cell_type": "code",
   "execution_count": 8,
   "metadata": {
    "dotnet_interactive": {
     "language": "csharp"
    },
    "polyglot_notebook": {
     "kernelName": "csharp"
    },
    "vscode": {
     "languageId": "polyglot-notebook"
    }
   },
   "outputs": [],
   "source": [
    "class Person\n",
    "{\n",
    "    public int Age {get; set;}\n",
    "    public string Name {get; set;}\n",
    "\n",
    "    public Person() { }\n",
    "\n",
    "    public Person(int age, string name)\n",
    "    {\n",
    "        Age = age;\n",
    "        Name = name;\n",
    "    }\n",
    "}"
   ]
  },
  {
   "cell_type": "code",
   "execution_count": 9,
   "metadata": {
    "dotnet_interactive": {
     "language": "csharp"
    },
    "polyglot_notebook": {
     "kernelName": "csharp"
    },
    "vscode": {
     "languageId": "polyglot-notebook"
    }
   },
   "outputs": [
    {
     "name": "stdout",
     "output_type": "stream",
     "text": [
      "Person {Age = 1, Name = Quinten}\n",
      "Person {Age = 1, Name = Quinten}\n",
      "False\n",
      "Person {Age = 1, Name = Bob}\n"
     ]
    }
   ],
   "source": [
    "var q = new Person(1, \"Quinten\");\n",
    "var q1 = new Person \n",
    "{\n",
    "    Age = 1, \n",
    "    Name = \"Quinten\"\n",
    "};\n",
    "Console.WriteLine($\"Person {{Age = {q.Age}, Name = {q.Name}}}\");\n",
    "Console.WriteLine($\"Person {{Age = {q1.Age}, Name = {q1.Name}}}\");\n",
    "\n",
    "// but this is false even though we are trying to represent the same Person.\n",
    "Console.WriteLine($\"{q == q1}\");\n",
    "\n",
    "// and this is mutable :(\n",
    "q.Name = \"Bob\";\n",
    "Console.WriteLine($\"Person {{Age = {q.Age}, Name = {q.Name}}}\");"
   ]
  },
  {
   "attachments": {},
   "cell_type": "markdown",
   "metadata": {},
   "source": [
    "Now its immutable"
   ]
  },
  {
   "cell_type": "code",
   "execution_count": 10,
   "metadata": {
    "dotnet_interactive": {
     "language": "csharp"
    },
    "polyglot_notebook": {
     "kernelName": "csharp"
    },
    "vscode": {
     "languageId": "polyglot-notebook"
    }
   },
   "outputs": [],
   "source": [
    "class Person\n",
    "{\n",
    "    public int Age {get; private set;}\n",
    "    public string Name {get; private set;}\n",
    "\n",
    "    public Person() { }\n",
    "\n",
    "    public Person(int age, string name)\n",
    "    {\n",
    "        Age = age;\n",
    "        Name = name;\n",
    "    }\n",
    "}"
   ]
  },
  {
   "attachments": {},
   "cell_type": "markdown",
   "metadata": {},
   "source": [
    "but equality is still not structural"
   ]
  },
  {
   "cell_type": "code",
   "execution_count": 11,
   "metadata": {
    "dotnet_interactive": {
     "language": "csharp"
    },
    "polyglot_notebook": {
     "kernelName": "csharp"
    },
    "vscode": {
     "languageId": "polyglot-notebook"
    }
   },
   "outputs": [
    {
     "name": "stdout",
     "output_type": "stream",
     "text": [
      "Person {Age = 1, Name = Quinten}\n",
      "Person {Age = 1, Name = Quinten}\n",
      "False\n"
     ]
    }
   ],
   "source": [
    "var q = new Person(1, \"Quinten\");\n",
    "var q1 = new Person(1, \"Quinten\");\n",
    "Console.WriteLine($\"Person {{Age = {q.Age}, Name = {q.Name}}}\");\n",
    "Console.WriteLine($\"Person {{Age = {q1.Age}, Name = {q1.Name}}}\");\n",
    "Console.WriteLine($\"{q == q1}\");"
   ]
  },
  {
   "attachments": {},
   "cell_type": "markdown",
   "metadata": {},
   "source": [
    "We could implement IEquatable and all the operators... or"
   ]
  },
  {
   "cell_type": "code",
   "execution_count": 12,
   "metadata": {
    "dotnet_interactive": {
     "language": "csharp"
    },
    "polyglot_notebook": {
     "kernelName": "csharp"
    },
    "vscode": {
     "languageId": "polyglot-notebook"
    }
   },
   "outputs": [
    {
     "name": "stdout",
     "output_type": "stream",
     "text": [
      "Person { Age = 1, Name = Quinten }\n",
      "Person { Age = 1, Name = Quinten }\n",
      "True\n"
     ]
    }
   ],
   "source": [
    "record Person(int Age, string Name);\n",
    "\n",
    "var q = new Person(1, \"Quinten\");\n",
    "var q1 = new Person(1, \"Quinten\");\n",
    "Console.WriteLine(q);\n",
    "Console.WriteLine(q1);\n",
    "Console.WriteLine($\"{q == q1}\");"
   ]
  },
  {
   "attachments": {},
   "cell_type": "markdown",
   "metadata": {},
   "source": [
    "### But I like object initialization syntax\n",
    "The `init` keyword allows you to create an immutable property that can be `initialized` during contruction."
   ]
  },
  {
   "cell_type": "code",
   "execution_count": 13,
   "metadata": {
    "dotnet_interactive": {
     "language": "csharp"
    },
    "polyglot_notebook": {
     "kernelName": "csharp"
    },
    "vscode": {
     "languageId": "polyglot-notebook"
    }
   },
   "outputs": [
    {
     "name": "stdout",
     "output_type": "stream",
     "text": [
      "Person { Name = Quinten, Age = 1 }\n",
      "Person { Name = Quinten, Age = 1 }\n",
      "True\n"
     ]
    }
   ],
   "source": [
    "record Person\n",
    "{\n",
    "    public string Name {get; init;}\n",
    "    public int Age {get; init;}\n",
    "}\n",
    "\n",
    "var q = new Person\n",
    "{\n",
    "    Age = 1, \n",
    "    Name = \"Quinten\"\n",
    "};\n",
    "var q1 = new Person\n",
    "{\n",
    "    Age = 1, \n",
    "    Name = \"Quinten\"\n",
    "};\n",
    "Console.WriteLine(q);\n",
    "Console.WriteLine(q1);\n",
    "Console.WriteLine($\"{q == q1}\");"
   ]
  },
  {
   "cell_type": "code",
   "execution_count": 14,
   "metadata": {
    "dotnet_interactive": {
     "language": "csharp"
    },
    "polyglot_notebook": {
     "kernelName": "csharp"
    },
    "vscode": {
     "languageId": "polyglot-notebook"
    }
   },
   "outputs": [
    {
     "ename": "Error",
     "evalue": "(1,1): error CS8852: Init-only property or indexer 'Person.Name' can only be assigned in an object initializer, or on 'this' or 'base' in an instance constructor or an 'init' accessor.",
     "output_type": "error",
     "traceback": [
      "(1,1): error CS8852: Init-only property or indexer 'Person.Name' can only be assigned in an object initializer, or on 'this' or 'base' in an instance constructor or an 'init' accessor."
     ]
    }
   ],
   "source": [
    "q.Name = \"Bob\";"
   ]
  },
  {
   "attachments": {},
   "cell_type": "markdown",
   "metadata": {},
   "source": [
    "Using `required` we can still get constructor like constraints, with `init` syntax."
   ]
  },
  {
   "cell_type": "code",
   "execution_count": 15,
   "metadata": {
    "dotnet_interactive": {
     "language": "csharp"
    },
    "polyglot_notebook": {
     "kernelName": "csharp"
    },
    "vscode": {
     "languageId": "polyglot-notebook"
    }
   },
   "outputs": [],
   "source": [
    "record Person\n",
    "{\n",
    "    public required string Name {get; init;}\n",
    "    public required int Age {get; init;}\n",
    "    public string Description {get;init;} = string.Empty;\n",
    "}\n",
    "\n",
    "var q = new Person\n",
    "{\n",
    "    Name = \"Quinten\",\n",
    "    Age = 1\n",
    "};"
   ]
  },
  {
   "cell_type": "code",
   "execution_count": 16,
   "metadata": {
    "dotnet_interactive": {
     "language": "csharp"
    },
    "polyglot_notebook": {
     "kernelName": "csharp"
    },
    "vscode": {
     "languageId": "polyglot-notebook"
    }
   },
   "outputs": [
    {
     "ename": "Error",
     "evalue": "(1,15): error CS9035: Required member 'Person.Name' must be set in the object initializer or attribute constructor.",
     "output_type": "error",
     "traceback": [
      "(1,15): error CS9035: Required member 'Person.Name' must be set in the object initializer or attribute constructor."
     ]
    }
   ],
   "source": [
    "var bob = new Person {\n",
    "    Age = 1,\n",
    "    Description = \"Just a nice guy\"\n",
    "};"
   ]
  },
  {
   "attachments": {},
   "cell_type": "markdown",
   "metadata": {},
   "source": [
    "### What else does this enable?\n",
    "Nondestructive mutation\n",
    "- The result of a `with` expression is a shallow copy"
   ]
  },
  {
   "cell_type": "code",
   "execution_count": 17,
   "metadata": {
    "dotnet_interactive": {
     "language": "csharp"
    },
    "polyglot_notebook": {
     "kernelName": "csharp"
    },
    "vscode": {
     "languageId": "polyglot-notebook"
    }
   },
   "outputs": [
    {
     "name": "stdout",
     "output_type": "stream",
     "text": [
      "Person { Name = Quinten, Age = 1, Description =  }\n",
      "Person { Name = Bob, Age = 1, Description = Just a nice guy }\n",
      "False\n"
     ]
    }
   ],
   "source": [
    "var bob = q with {Name = \"Bob\", Description = \"Just a nice guy\"};\n",
    "Console.WriteLine(q); // we still have q :)\n",
    "Console.WriteLine(bob); // which means we have timetravel\n",
    "Console.WriteLine(q == bob) // and at this point, they are no longer the same person"
   ]
  },
  {
   "attachments": {},
   "cell_type": "markdown",
   "metadata": {},
   "source": [
    "^ did you notice the built in formatting? ^"
   ]
  },
  {
   "attachments": {},
   "cell_type": "markdown",
   "metadata": {},
   "source": [
    "### Serialization\n",
    "It just works"
   ]
  },
  {
   "cell_type": "code",
   "execution_count": 18,
   "metadata": {
    "dotnet_interactive": {
     "language": "csharp"
    },
    "polyglot_notebook": {
     "kernelName": "csharp"
    },
    "vscode": {
     "languageId": "polyglot-notebook"
    }
   },
   "outputs": [
    {
     "ename": "Error",
     "evalue": "(3,19): error CS0103: The name 'JsonSerializer' does not exist in the current context",
     "output_type": "error",
     "traceback": [
      "(3,19): error CS0103: The name 'JsonSerializer' does not exist in the current context"
     ]
    }
   ],
   "source": [
    "using System.Text.Json.Serialization;\n",
    "\n",
    "Console.WriteLine(JsonSerializer.Serialize(q));"
   ]
  },
  {
   "attachments": {},
   "cell_type": "markdown",
   "metadata": {},
   "source": [
    "You can still decorate the consise syntax with attributes"
   ]
  },
  {
   "cell_type": "code",
   "execution_count": 19,
   "metadata": {
    "dotnet_interactive": {
     "language": "csharp"
    },
    "polyglot_notebook": {
     "kernelName": "csharp"
    },
    "vscode": {
     "languageId": "polyglot-notebook"
    }
   },
   "outputs": [
    {
     "name": "stdout",
     "output_type": "stream",
     "text": [
      "{\"person_age\":1,\"person_name\":\"Quinten\"}\r\n"
     ]
    }
   ],
   "source": [
    "using System.Text.Json.Serialization;\n",
    "\n",
    "record Person(\n",
    "    [property: JsonPropertyName(\"person_age\")] int Age, \n",
    "    [property: JsonPropertyName(\"person_name\")] string Name\n",
    ");\n",
    "\n",
    "var q = new Person(1,\"Quinten\");\n",
    "Console.WriteLine(System.Text.Json.JsonSerializer.Serialize(q));"
   ]
  },
  {
   "attachments": {},
   "cell_type": "markdown",
   "metadata": {},
   "source": [
    "### So what exactly is a record?\n",
    "syntax sugar for a class that implements `IEquatable<T>`"
   ]
  },
  {
   "cell_type": "code",
   "execution_count": 20,
   "metadata": {
    "dotnet_interactive": {
     "language": "csharp"
    },
    "polyglot_notebook": {
     "kernelName": "csharp"
    },
    "vscode": {
     "languageId": "polyglot-notebook"
    }
   },
   "outputs": [
    {
     "name": "stdout",
     "output_type": "stream",
     "text": [
      "Person { Name = Quinten, Age = 1 }\n",
      "Person { Name = Quinten, Age = 1 }\n",
      "True\n"
     ]
    }
   ],
   "source": [
    "class Person : IEquatable<Person>\n",
    "{\n",
    "    private readonly string name;\n",
    "    private readonly int age;\n",
    "\n",
    "    protected virtual Type EqualityContract\n",
    "    {\n",
    "        get\n",
    "        {\n",
    "            return typeof(Person);\n",
    "        }\n",
    "    }\n",
    "    public string Name\n",
    "    {\n",
    "        get\n",
    "        {\n",
    "            return name;\n",
    "        }\n",
    "        init\n",
    "        {\n",
    "            name = value;\n",
    "        }\n",
    "    }\n",
    "    public int Age\n",
    "    {\n",
    "        get\n",
    "        {\n",
    "            return age;\n",
    "        }\n",
    "        init\n",
    "        {\n",
    "            age = value;\n",
    "        }\n",
    "    }\n",
    "    public Person(){}\n",
    "    public Person(int age, string name)\n",
    "    {\n",
    "        this.age = age;\n",
    "        this.name = name;\n",
    "    }\n",
    "    public override string ToString()\n",
    "    {\n",
    "        StringBuilder stringBuilder = new StringBuilder();\n",
    "        stringBuilder.Append(\"Person\");\n",
    "        stringBuilder.Append(\" { \");\n",
    "        if (PrintMembers(stringBuilder))\n",
    "        {\n",
    "            stringBuilder.Append(\" \");\n",
    "        }\n",
    "        stringBuilder.Append(\"}\");\n",
    "        return stringBuilder.ToString();\n",
    "    }\n",
    "    protected virtual bool PrintMembers(StringBuilder builder)\n",
    "    {\n",
    "        builder.Append(\"Name\");\n",
    "        builder.Append(\" = \");\n",
    "        builder.Append((object)Name);\n",
    "        builder.Append(\", \");\n",
    "        builder.Append(\"Age\");\n",
    "        builder.Append(\" = \");\n",
    "        builder.Append((object)Age);\n",
    "        return true;\n",
    "    }\n",
    "    public static bool operator !=(Person left, Person right)\n",
    "    {\n",
    "        return !(left == right);\n",
    "    }\n",
    "    public static bool operator ==(Person left, Person right)\n",
    "    {\n",
    "        return (object)left == right || ((object)left != null && left.Equals(right));\n",
    "    }\n",
    "    public override int GetHashCode()\n",
    "    {\n",
    "        return (EqualityComparer<Type>.Default.GetHashCode(EqualityContract) * -1521134295 + EqualityComparer<string>.Default.GetHashCode(name)) * -1521134295 + EqualityComparer<int>.Default.GetHashCode(Age);\n",
    "    }\n",
    "    public override bool Equals(object obj)\n",
    "    {\n",
    "        return Equals(obj as Person);\n",
    "    }\n",
    "    public virtual bool Equals(Person other)\n",
    "    {\n",
    "        return (object)this == other || ((object)other != null && EqualityContract == other.EqualityContract && EqualityComparer<string>.Default.Equals(name, other.name) && EqualityComparer<int>.Default.Equals(Age, other.Age));\n",
    "    }\n",
    "    public virtual Person Clone()\n",
    "    {\n",
    "        return new Person(this);\n",
    "    }\n",
    "    protected Person(Person original)\n",
    "    {\n",
    "        name = original.name;\n",
    "        age = original.age;\n",
    "    }\n",
    "    public void Deconstruct(out string Name, out int Age)\n",
    "    {\n",
    "        Name = this.Name;\n",
    "        Age = this.Age;\n",
    "    }\n",
    "}\n",
    "\n",
    "var q = new Person(1, \"Quinten\");\n",
    "var q1 = new Person {Age = 1, Name = \"Quinten\"};\n",
    "Console.WriteLine(q);\n",
    "Console.WriteLine(q1);\n",
    "Console.WriteLine(q == q1);\n"
   ]
  },
  {
   "cell_type": "code",
   "execution_count": 21,
   "metadata": {
    "dotnet_interactive": {
     "language": "csharp"
    },
    "polyglot_notebook": {
     "kernelName": "csharp"
    },
    "vscode": {
     "languageId": "polyglot-notebook"
    }
   },
   "outputs": [
    {
     "ename": "Error",
     "evalue": "(1,1): error CS8852: Init-only property or indexer 'Person.Name' can only be assigned in an object initializer, or on 'this' or 'base' in an instance constructor or an 'init' accessor.",
     "output_type": "error",
     "traceback": [
      "(1,1): error CS8852: Init-only property or indexer 'Person.Name' can only be assigned in an object initializer, or on 'this' or 'base' in an instance constructor or an 'init' accessor."
     ]
    }
   ],
   "source": [
    "q.Name = \"Bob\";"
   ]
  },
  {
   "attachments": {},
   "cell_type": "markdown",
   "metadata": {},
   "source": [
    "### So, Class or Record?\n",
    "record, the answer is record"
   ]
  },
  {
   "attachments": {},
   "cell_type": "markdown",
   "metadata": {},
   "source": [
    "when creating data objects, use a record"
   ]
  },
  {
   "cell_type": "code",
   "execution_count": 22,
   "metadata": {
    "dotnet_interactive": {
     "language": "csharp"
    },
    "polyglot_notebook": {
     "kernelName": "csharp"
    },
    "vscode": {
     "languageId": "polyglot-notebook"
    }
   },
   "outputs": [],
   "source": [
    "record Greeting(DateTime GeneratedAt, string Message);\n",
    "record Person(string Name);\n",
    "\n",
    "var q = new Person(\"Quinten\");"
   ]
  },
  {
   "attachments": {},
   "cell_type": "markdown",
   "metadata": {},
   "source": [
    "when creating service objects to encapsulate functionality, use a class"
   ]
  },
  {
   "cell_type": "code",
   "execution_count": 23,
   "metadata": {
    "dotnet_interactive": {
     "language": "csharp"
    },
    "polyglot_notebook": {
     "kernelName": "csharp"
    },
    "vscode": {
     "languageId": "polyglot-notebook"
    }
   },
   "outputs": [
    {
     "name": "stdout",
     "output_type": "stream",
     "text": [
      "Greeting { GeneratedAt = 3/27/2023 3:11:11 PM, Message = Hello, Quinten }\r\n"
     ]
    }
   ],
   "source": [
    "class MyGreeterService \n",
    "{\n",
    "    public Greeting GreetPerson(Person person) => \n",
    "        new Greeting(\n",
    "            DateTime.UtcNow, \n",
    "            $\"Hello, {person.Name}\");\n",
    "}\n",
    "\n",
    "var greeting = new MyGreeterService().GreetPerson(q);\n",
    "Console.WriteLine(greeting);"
   ]
  },
  {
   "attachments": {},
   "cell_type": "markdown",
   "metadata": {},
   "source": [
    "# Introduction to Pattern Matching"
   ]
  },
  {
   "attachments": {},
   "cell_type": "markdown",
   "metadata": {},
   "source": [
    "Pattern matching in C# lets you test expressions for certain characteristics and take actions based on the first matching pattern. It can help you check for null values, types, and enum values more concisely and safely."
   ]
  },
  {
   "attachments": {},
   "cell_type": "markdown",
   "metadata": {},
   "source": [
    "`is`"
   ]
  },
  {
   "cell_type": "code",
   "execution_count": 24,
   "metadata": {
    "dotnet_interactive": {
     "language": "csharp"
    },
    "polyglot_notebook": {
     "kernelName": "csharp"
    },
    "vscode": {
     "languageId": "polyglot-notebook"
    }
   },
   "outputs": [
    {
     "ename": "Error",
     "evalue": "System.NullReferenceException: Object reference not set to an instance of an object.\r\n   at Submission#25.<<Initialize>>d__0.MoveNext()\r\n--- End of stack trace from previous location ---\r\n   at Microsoft.CodeAnalysis.Scripting.ScriptExecutionState.RunSubmissionsAsync[TResult](ImmutableArray`1 precedingExecutors, Func`2 currentExecutor, StrongBox`1 exceptionHolderOpt, Func`2 catchExceptionOpt, CancellationToken cancellationToken)",
     "output_type": "error",
     "traceback": [
      "System.NullReferenceException: Object reference not set to an instance of an object.\r\n",
      "   at Submission#25.<<Initialize>>d__0.MoveNext()\r\n",
      "--- End of stack trace from previous location ---\r\n",
      "   at Microsoft.CodeAnalysis.Scripting.ScriptExecutionState.RunSubmissionsAsync[TResult](ImmutableArray`1 precedingExecutors, Func`2 currentExecutor, StrongBox`1 exceptionHolderOpt, Func`2 catchExceptionOpt, CancellationToken cancellationToken)"
     ]
    }
   ],
   "source": [
    "class Circle {\n",
    "    public float Diameter => 1;\n",
    "}\n",
    "\n",
    "Circle circle;\n",
    "\n",
    "Console.WriteLine(circle.Diameter);"
   ]
  },
  {
   "attachments": {},
   "cell_type": "markdown",
   "metadata": {},
   "source": [
    "pattern matching to save the day"
   ]
  },
  {
   "cell_type": "code",
   "execution_count": 25,
   "metadata": {
    "dotnet_interactive": {
     "language": "csharp"
    },
    "polyglot_notebook": {
     "kernelName": "csharp"
    },
    "vscode": {
     "languageId": "polyglot-notebook"
    }
   },
   "outputs": [
    {
     "name": "stdout",
     "output_type": "stream",
     "text": [
      "0\n",
      "0\n"
     ]
    }
   ],
   "source": [
    "Console.WriteLine(circle is Circle c ? c.Diameter : 0f); \n",
    "Console.WriteLine(circle is not null ? circle.Diameter : 0f); "
   ]
  },
  {
   "attachments": {},
   "cell_type": "markdown",
   "metadata": {},
   "source": [
    "You should prefer pattern matching with `is` wherever possible, especially for `null` checks.\n",
    "This is because pattern matching is more efficient than equality checks.\n",
    "- there is no risk of overridden behavior\n",
    "- overloads do not need to run\n",
    "- it only checks exactly what is asked"
   ]
  },
  {
   "attachments": {},
   "cell_type": "markdown",
   "metadata": {},
   "source": [
    "`switch` (expression)"
   ]
  },
  {
   "attachments": {},
   "cell_type": "markdown",
   "metadata": {},
   "source": [
    "consice syntax for branching expression logic based on the shape of the data"
   ]
  },
  {
   "cell_type": "code",
   "execution_count": 26,
   "metadata": {
    "dotnet_interactive": {
     "language": "csharp"
    },
    "polyglot_notebook": {
     "kernelName": "csharp"
    },
    "vscode": {
     "languageId": "polyglot-notebook"
    }
   },
   "outputs": [
    {
     "name": "stdout",
     "output_type": "stream",
     "text": [
      "solid\n",
      "liquid\n",
      "gas\n"
     ]
    }
   ],
   "source": [
    "string WaterState(int tempInFahrenheit) =>\n",
    "    tempInFahrenheit switch\n",
    "    {\n",
    "        (> 32) and (< 212) => \"liquid\",\n",
    "        < 32 => \"solid\",\n",
    "        > 212 => \"gas\",\n",
    "        32 => \"solid/liquid transition\",\n",
    "        212 => \"liquid / gas transition\",\n",
    "    };\n",
    "\n",
    "Console.WriteLine(WaterState(1));\n",
    "Console.WriteLine(WaterState(33));\n",
    "Console.WriteLine(WaterState(220));"
   ]
  },
  {
   "cell_type": "code",
   "execution_count": 27,
   "metadata": {
    "dotnet_interactive": {
     "language": "csharp"
    },
    "polyglot_notebook": {
     "kernelName": "csharp"
    },
    "vscode": {
     "languageId": "polyglot-notebook"
    }
   },
   "outputs": [
    {
     "name": "stdout",
     "output_type": "stream",
     "text": [
      "0\n",
      "0.05\n"
     ]
    }
   ],
   "source": [
    "public record Order(int Items, decimal Cost);\n",
    "\n",
    "public decimal CalculateDiscount(Order order) =>\n",
    "    order switch\n",
    "    {\n",
    "        { Items: > 10, Cost: > 1000.00m } => 0.10m,\n",
    "        { Items: > 5, Cost: > 500.00m } => 0.05m,\n",
    "        { Cost: > 250.00m } => 0.02m,\n",
    "        null => throw new ArgumentNullException(nameof(order), \"Can't calculate discount on null order\"),\n",
    "        var someObject => 0m,\n",
    "    };\n",
    "\n",
    "var orders = new List<Order> { new Order(1, 100m), new Order(20,1000m) };\n",
    "orders\n",
    "    .Select(CalculateDiscount)\n",
    "    .ToList()\n",
    "    .ForEach(Console.WriteLine);"
   ]
  },
  {
   "cell_type": "code",
   "execution_count": 28,
   "metadata": {
    "dotnet_interactive": {
     "language": "csharp"
    },
    "polyglot_notebook": {
     "kernelName": "csharp"
    },
    "vscode": {
     "languageId": "polyglot-notebook"
    }
   },
   "outputs": [
    {
     "name": "stdout",
     "output_type": "stream",
     "text": [
      "Record: 04-01-2020, DEPOSIT, Initialdeposit, 2250.00, New balance: $2,250.00\n",
      "Record: 04-15-2020, DEPOSIT, Refund, 125.65, New balance: $2,375.65\n",
      "Record: 04-18-2020, DEPOSIT, Paycheck, 825.65, New balance: $3,201.30\n",
      "Record: 04-22-2020, WITHDRAWAL, Debit, Groceries, 255.73, New balance: $2,945.57\n",
      "Record: 05-01-2020, WITHDRAWAL, #1102, Rent, apt, 2100.00, New balance: $845.57\n",
      "Record: 05-02-2020, INTEREST, 0.65, New balance: $846.22\n",
      "Record: 05-07-2020, WITHDRAWAL, Debit, Movies, 12.57, New balance: $833.65\n",
      "Record: 04-15-2020, FEE, 5.55, New balance: $828.10\n"
     ]
    }
   ],
   "source": [
    "var input = \"\"\"\n",
    "04-01-2020,DEPOSIT,Initialdeposit,2250.00\n",
    "04-15-2020,DEPOSIT,Refund,125.65\n",
    "04-18-2020,DEPOSIT,Paycheck,825.65\n",
    "04-22-2020,WITHDRAWAL,Debit,Groceries,255.73\n",
    "05-01-2020,WITHDRAWAL,#1102,Rent,apt,2100.00\n",
    "05-02-2020,INTEREST,0.65\n",
    "05-07-2020,WITHDRAWAL,Debit,Movies,12.57\n",
    "04-15-2020,FEE,5.55\n",
    "\"\"\";\n",
    "\n",
    "// bonus feature, _ the discard\n",
    "decimal ParseTransaction(string[] transaction) => \n",
    "    transaction switch\n",
    "    {\n",
    "        [_, \"DEPOSIT\", _, var amount]     => decimal.Parse(amount),\n",
    "        [_, \"WITHDRAWAL\", .., var amount] => -decimal.Parse(amount),\n",
    "        [_, \"INTEREST\", var amount]       => decimal.Parse(amount),\n",
    "        [_, \"FEE\", var fee]               => -decimal.Parse(fee),\n",
    "        _                                 => throw new InvalidOperationException($\"Record {string.Join(\", \", transaction)} is not in the expected format!\"),\n",
    "    };\n",
    "\n",
    "var records = \n",
    "    from row in input.Split('\\n')\n",
    "    select row.Split(',');\n",
    "\n",
    "decimal balance = 0m;\n",
    "foreach (string[] transaction in records)\n",
    "{\n",
    "    balance += ParseTransaction(transaction);\n",
    "    Console.WriteLine($\"Record: {string.Join(\", \", transaction)}, New balance: {balance:C}\");\n",
    "}"
   ]
  }
 ],
 "metadata": {
  "language_info": {
   "name": "python"
  },
  "orig_nbformat": 4
 },
 "nbformat": 4,
 "nbformat_minor": 2
}
