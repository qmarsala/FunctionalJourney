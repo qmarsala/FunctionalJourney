{
 "cells": [
  {
   "cell_type": "markdown",
   "metadata": {},
   "source": [
    "Following this course: https://github.com/louthy/language-ext/wiki/Thinking-Functionally    "
   ]
  },
  {
   "cell_type": "code",
   "execution_count": null,
   "metadata": {
    "dotnet_interactive": {
     "language": "csharp"
    },
    "vscode": {
     "languageId": "dotnet-interactive.csharp"
    }
   },
   "outputs": [
    {
     "data": {
      "text/html": [
       "<div><div></div><div></div><div><strong>Installed Packages</strong><ul><li><span>LanguageExt.Core, 4.2.9</span></li><li><span>Shouldly, 4.0.3</span></li></ul></div></div>"
      ]
     },
     "metadata": {},
     "output_type": "display_data"
    }
   ],
   "source": [
    "// quick setup\n",
    "#r \"nuget:Shouldly\"\n",
    "#r \"nuget:LanguageExt.Core\"\n",
    "using Shouldly;\n",
    "using LanguageExt;\n",
    "using static LanguageExt.Prelude;"
   ]
  },
  {
   "cell_type": "markdown",
   "metadata": {},
   "source": [
    "### Sarting simple\n",
    "`AddOne :: int -> int`    \n",
    "A function \"maps\" a value in the \"domain\" to a value in the \"range\". There is no \"computation\"."
   ]
  },
  {
   "cell_type": "code",
   "execution_count": null,
   "metadata": {
    "dotnet_interactive": {
     "language": "csharp"
    },
    "vscode": {
     "languageId": "dotnet-interactive.csharp"
    }
   },
   "outputs": [
    {
     "data": {
      "text/html": [
       "<div class=\"dni-plaintext\">6</div>"
      ]
     },
     "metadata": {},
     "output_type": "display_data"
    }
   ],
   "source": [
    "int AddOne(int x) => x + 1;\n",
    "return AddOne(5);"
   ]
  },
  {
   "cell_type": "markdown",
   "metadata": {},
   "source": [
    "#### Important notes:    \n",
    "`x` is not something that can change once we pass 5 in.    \n",
    "This is not assignment - What is happening here is \"binding\".    \n",
    "Once a domain value is \"bound\" is cannot be changed.     \n",
    "`x` is a placeholder that can be referred to later, not changed.    \n",
    "**There are no \"variables\", only values**\n",
    "\n",
    "_side note, yes x is a variable being assigned a value - but it is forbidden 'functionaly'_"
   ]
  },
  {
   "cell_type": "markdown",
   "metadata": {},
   "source": [
    "### Function Values\n",
    "`Func<domain, range>`    \n",
    "\n",
    "Similarly - the name `AddOne` is just a \"binding\" to \"the function that adds one to its input\"    \n",
    "\"Every time you see the name `AddOne`, replace it with the function that adds one to its input\".    \n",
    "\n",
    "For example, we can \"bind\" `AddOne` to a new name.    \n",
    "`PlusOne` and `AddOne` are \"bound\" to the same value, which is the function that adds one to its input.    "
   ]
  },
  {
   "cell_type": "code",
   "execution_count": null,
   "metadata": {
    "dotnet_interactive": {
     "language": "csharp"
    },
    "vscode": {
     "languageId": "dotnet-interactive.csharp"
    }
   },
   "outputs": [
    {
     "data": {
      "text/html": [
       "<table><thead><tr><th>Item1</th><th>Item2</th></tr></thead><tbody><tr><td><div class=\"dni-plaintext\">6</div></td><td><div class=\"dni-plaintext\">6</div></td></tr></tbody></table>"
      ]
     },
     "metadata": {},
     "output_type": "display_data"
    }
   ],
   "source": [
    "Func<int, int> PlusOne = AddOne;\n",
    "return (PlusOne(5), AddOne(5));"
   ]
  },
  {
   "cell_type": "markdown",
   "metadata": {},
   "source": [
    "### Simple Value\n",
    "Imagine an operation that always returns `5` - this is a constant.    \n",
    "in \"C#\" you can easily define that with the following: `const int C = 5;` or `static int C => 5; //Func<int>`.      \n",
    "simple values do not need to be evaluated once \"bound\" - This is the subtle difference between them and function values, otherwise they are both values of Func.\n",
    "\n",
    "With this, `5` and `Five` are both just values that can be passed around. - This is a key part of thinking functionaly: functions are values that can be passed around to other functions.\n",
    "\n",
    "A constant function for `5` would be defined as:    \n",
    "`Func<Unit, int>`   "
   ]
  },
  {
   "cell_type": "code",
   "execution_count": null,
   "metadata": {
    "dotnet_interactive": {
     "language": "csharp"
    },
    "vscode": {
     "languageId": "dotnet-interactive.csharp"
    }
   },
   "outputs": [
    {
     "data": {
      "text/html": [
       "<table><thead><tr><th>Item1</th><th>Item2</th><th>Item3</th><th>Item4</th></tr></thead><tbody><tr><td><div class=\"dni-plaintext\">6</div></td><td><div class=\"dni-plaintext\">6</div></td><td><div class=\"dni-plaintext\">6</div></td><td><div class=\"dni-plaintext\">6</div></td></tr></tbody></table>"
      ]
     },
     "metadata": {},
     "output_type": "display_data"
    }
   ],
   "source": [
    "const int C = 5;\n",
    "//or\n",
    "static int C_alt => 5;\n",
    "//or\n",
    "Func<Unit, int> Five = _ => 5;\n",
    "//or\n",
    "static int Five_alt(Unit _) => 5;\n",
    "\n",
    "return (AddOne(C), AddOne(C_alt), AddOne(Five(unit)), AddOne(Five_alt(unit)));\n",
    "\n",
    "// the presence of \"Unit\" is a bit annoying, this gets cleaned up later on."
   ]
  },
  {
   "cell_type": "markdown",
   "metadata": {},
   "source": [
    "### \"Objects\" vs \"Values\"\n",
    "\n",
    "Values:\n",
    "- A member of a domain. The domain of ints, strings, functions that map ints to strings, etc...    \n",
    "- They are immutable\n",
    "- They have no behaviour\n",
    "\n",
    "Objects: \n",
    "- Encapsulation of data with associated behaviour\n",
    "- Mutable\n",
    "\n",
    "Avoid using \"object\" for standard values for functional C#.    \n",
    "It should only be used to refer to true classes, or values that expose member functions."
   ]
  },
  {
   "cell_type": "markdown",
   "metadata": {},
   "source": [
    "### How types work with functions\n",
    "\n",
    "Type notation: `domain -> range` == (C#) `Func<domain, range>`\n",
    "\n",
    "\"Higher-Order functions\": A function that takes a function as a paramater, or returns another function.    \n",
    "Think of LINQ `Select` or `Where`.\n",
    "\n",
    "Example:"
   ]
  },
  {
   "cell_type": "code",
   "execution_count": null,
   "metadata": {
    "dotnet_interactive": {
     "language": "csharp"
    },
    "vscode": {
     "languageId": "dotnet-interactive.csharp"
    }
   },
   "outputs": [
    {
     "data": {
      "text/html": [
       "<div class=\"dni-plaintext\">8</div>"
      ]
     },
     "metadata": {},
     "output_type": "display_data"
    }
   ],
   "source": [
    "static int EvalWith5ThenAdd2(Func<int, int> fn) => \n",
    "    fn(5) + 2;\n",
    "\n",
    "return EvalWith5ThenAdd2(AddOne);"
   ]
  },
  {
   "cell_type": "markdown",
   "metadata": {},
   "source": [
    "In this function the domain is `(int -> int)` and the range is `int`.    \n",
    "This means the input is a function that maps ints to ints, and the output is just an int."
   ]
  },
  {
   "cell_type": "code",
   "execution_count": null,
   "metadata": {
    "dotnet_interactive": {
     "language": "csharp"
    },
    "vscode": {
     "languageId": "dotnet-interactive.csharp"
    }
   },
   "outputs": [
    {
     "data": {
      "text/html": [
       "<div class=\"dni-plaintext\">17</div>"
      ]
     },
     "metadata": {},
     "output_type": "display_data"
    }
   ],
   "source": [
    "Func<int, int> TimesThree = x => x * 3;\n",
    "\n",
    "return EvalWith5ThenAdd2(TimesThree);"
   ]
  },
  {
   "cell_type": "markdown",
   "metadata": {},
   "source": [
    "Now, lets return a function rather than use one as input.    \n",
    "`int -> (int -> int)`"
   ]
  },
  {
   "cell_type": "code",
   "execution_count": null,
   "metadata": {
    "dotnet_interactive": {
     "language": "csharp"
    },
    "vscode": {
     "languageId": "dotnet-interactive.csharp"
    }
   },
   "outputs": [
    {
     "data": {
      "text/html": [
       "<table><thead><tr><th>Item1</th><th>Item2</th></tr></thead><tbody><tr><td><div class=\"dni-plaintext\">2</div></td><td><div class=\"dni-plaintext\">3</div></td></tr></tbody></table>"
      ]
     },
     "metadata": {},
     "output_type": "display_data"
    }
   ],
   "source": [
    "static Func<int, int> AdderGenerator(int numberToAdd) => \n",
    "    x =>  x + numberToAdd;\n",
    "\n",
    "//or\n",
    "\n",
    "Func<int, Func<int,int>> AdderGenerator_alt = numberToAdd => \n",
    "    x => x + numberToAdd;\n",
    "\n",
    "// create new adders\n",
    "var add1 = AdderGenerator(1);\n",
    "var add2 = AdderGenerator_alt(2);\n",
    "\n",
    "return (add1(1), add2(1));"
   ]
  },
  {
   "cell_type": "markdown",
   "metadata": {},
   "source": [
    "### void?\n",
    "\n",
    "How do we deal with something like:\n",
    "```csharp\n",
    "void PrintInt(int x)\n",
    "{\n",
    "    Console.WriteLine(x);\n",
    "}\n",
    "```\n",
    "We cannot have `int -> void` since void is the absence of a value. But our function must have a range to map to.  Every function must have some output to map to.    \n",
    "`Unit` to the rescue - it is like a `bool` which has two possible values `true`, `false`, though it only has one possible value `unit`.\n"
   ]
  },
  {
   "cell_type": "markdown",
   "metadata": {},
   "source": [
    "In Funtional langauges the `Unit` type is often reffered to as `()` - however in C# this is a method invocation with no inputs.    \n",
    "Since declaring this concept in c# fully is a bit verbose as we saw earlier with `Five` it is often omitted as an input.    \n",
    "\n",
    "Example:"
   ]
  },
  {
   "cell_type": "code",
   "execution_count": null,
   "metadata": {
    "dotnet_interactive": {
     "language": "csharp"
    },
    "vscode": {
     "languageId": "dotnet-interactive.csharp"
    }
   },
   "outputs": [],
   "source": [
    "Unit WhatIsThis(Unit _) => unit;\n",
    "// or better yet - which captures a bit of that functional syntax by omitting the unit input\n",
    "Unit WhatIsThis() => unit;\n",
    "\n",
    "// doesn't compile because we must return a unit\n",
    "/*\n",
    "Unit DoSomething() => 1 + 1; \n",
    "*/\n",
    "Unit DoSomething() => ignore(1 + 1); // ignore is a wrapper to satisfy the c# compiler"
   ]
  },
  {
   "cell_type": "markdown",
   "metadata": {},
   "source": [
    "#### Other useful types"
   ]
  },
  {
   "cell_type": "code",
   "execution_count": null,
   "metadata": {
    "dotnet_interactive": {
     "language": "csharp"
    },
    "vscode": {
     "languageId": "dotnet-interactive.csharp"
    }
   },
   "outputs": [],
   "source": [
    "var tuples = (\"Hello\", 1);\n",
    "Lst<int> list = List(1,2,3); // immutable, fixed size\n",
    "Arr<int> arr = Array(1,2,3); // immutable, fixed size\n",
    "Seq<int> seq = Seq(Range(1,10)); // similar to IEnumerable, but not infinite\n",
    "\n",
    "Option<int> someInt = Some(1); // options wrap values that may be missing\n",
    "Option<int> noInt = None;"
   ]
  }
 ],
 "metadata": {
  "kernelspec": {
   "display_name": ".NET (C#)",
   "language": "C#",
   "name": ".net-csharp"
  },
  "language_info": {
   "name": "C#"
  }
 },
 "nbformat": 4,
 "nbformat_minor": 2
}
