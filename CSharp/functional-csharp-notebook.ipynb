{
 "cells": [
  {
   "cell_type": "markdown",
   "metadata": {},
   "source": [
    "Following this course: https://github.com/louthy/language-ext/wiki/Thinking-Functionally    "
   ]
  },
  {
   "cell_type": "code",
   "execution_count": null,
   "metadata": {
    "dotnet_interactive": {
     "language": "csharp"
    },
    "vscode": {
     "languageId": "dotnet-interactive.csharp"
    }
   },
   "outputs": [
    {
     "data": {
      "text/html": [
       "<div><div></div><div></div><div><strong>Installed Packages</strong><ul><li><span>LanguageExt.Core, 4.2.9</span></li></ul></div></div>"
      ]
     },
     "metadata": {},
     "output_type": "display_data"
    }
   ],
   "source": [
    "// quick setup\n",
    "#r \"nuget:LanguageExt.Core\"\n",
    "using LanguageExt;\n",
    "using LanguageExt.ClassInstances;\n",
    "using static LanguageExt.Prelude;\n",
    "using static LanguageExt.List;\n",
    "using static System.Console;"
   ]
  },
  {
   "cell_type": "markdown",
   "metadata": {},
   "source": [
    "### Starting simple\n",
    "`AddOne :: int -> int`    \n",
    "A function \"maps\" a value in the \"domain\" to a value in the \"range\". There is no \"computation\"."
   ]
  },
  {
   "cell_type": "code",
   "execution_count": null,
   "metadata": {
    "dotnet_interactive": {
     "language": "csharp"
    },
    "vscode": {
     "languageId": "dotnet-interactive.csharp"
    }
   },
   "outputs": [
    {
     "data": {
      "text/html": [
       "<div class=\"dni-plaintext\">6</div>"
      ]
     },
     "metadata": {},
     "output_type": "display_data"
    }
   ],
   "source": [
    "int AddOne(int x) => x + 1;\n",
    "return AddOne(5);"
   ]
  },
  {
   "cell_type": "markdown",
   "metadata": {},
   "source": [
    "#### Important notes:    \n",
    "`x` is not something that can change once we pass 5 in.    \n",
    "This is not assignment - What is happening here is \"binding\".    \n",
    "Once a domain value is \"bound\" is cannot be changed.     \n",
    "`x` is a placeholder that can be referred to later, not changed.    \n",
    "**There are no \"variables\", only values**\n",
    "\n",
    "_side note, yes x is a variable being assigned a value - but it is forbidden 'functionaly'_"
   ]
  },
  {
   "cell_type": "markdown",
   "metadata": {},
   "source": [
    "### Function Values\n",
    "`Func<domain, range>`    \n",
    "\n",
    "Similarly - the name `addOne` is just a \"binding\" to \"the function that adds one to its input\"    \n",
    "\"Every time you see the name `addOne`, replace it with the function that adds one to its input\".    \n",
    "\n",
    "For example, we can \"bind\" `addOne` to a new name.    \n",
    "`plusOne` and `addOne` are \"bound\" to the same value, which is the function that adds one to its input.    \n",
    "`plusOne :: int -> int`"
   ]
  },
  {
   "cell_type": "code",
   "execution_count": null,
   "metadata": {
    "dotnet_interactive": {
     "language": "csharp"
    },
    "vscode": {
     "languageId": "dotnet-interactive.csharp"
    }
   },
   "outputs": [
    {
     "data": {
      "text/html": [
       "<table><thead><tr><th>Item1</th><th>Item2</th></tr></thead><tbody><tr><td><div class=\"dni-plaintext\">6</div></td><td><div class=\"dni-plaintext\">6</div></td></tr></tbody></table>"
      ]
     },
     "metadata": {},
     "output_type": "display_data"
    }
   ],
   "source": [
    "Func<int, int> plusOne = AddOne;\n",
    "return (plusOne(5), AddOne(5));"
   ]
  },
  {
   "cell_type": "markdown",
   "metadata": {},
   "source": [
    "### Simple Value\n",
    "Imagine an operation that always returns `5` - this is a constant.    \n",
    "in \"C#\" you can easily define that with the following: `const int C = 5;` or `static int C => 5; //Func<int>`.      \n",
    "simple values do not need to be evaluated once \"bound\" - This is the subtle difference between them and function values, otherwise they are both values of Func.\n",
    "\n",
    "With this, `5` and `five` are both just values that can be passed around. - This is a key part of thinking functionaly: functions are values that can be passed around to other functions.\n",
    "\n",
    "A constant function for `5` would be defined as:    \n",
    "`Func<Unit, int>`   \n",
    "`five :: () -> int`"
   ]
  },
  {
   "cell_type": "code",
   "execution_count": null,
   "metadata": {
    "dotnet_interactive": {
     "language": "csharp"
    },
    "vscode": {
     "languageId": "dotnet-interactive.csharp"
    }
   },
   "outputs": [
    {
     "data": {
      "text/html": [
       "<table><thead><tr><th>Item1</th><th>Item2</th><th>Item3</th><th>Item4</th></tr></thead><tbody><tr><td><div class=\"dni-plaintext\">6</div></td><td><div class=\"dni-plaintext\">6</div></td><td><div class=\"dni-plaintext\">6</div></td><td><div class=\"dni-plaintext\">6</div></td></tr></tbody></table>"
      ]
     },
     "metadata": {},
     "output_type": "display_data"
    }
   ],
   "source": [
    "const int C = 5;\n",
    "//or\n",
    "int C_alt => 5;\n",
    "//or\n",
    "Func<Unit, int> five = _ => 5;\n",
    "//or\n",
    "int Five(Unit _) => 5;\n",
    "\n",
    "return (AddOne(C), AddOne(C_alt), AddOne(five(unit)), AddOne(Five(unit)));\n",
    "\n",
    "// the presence of \"Unit\" is a bit annoying, this gets cleaned up later on."
   ]
  },
  {
   "cell_type": "markdown",
   "metadata": {},
   "source": [
    "### \"Objects\" vs \"Values\"\n",
    "\n",
    "Values:\n",
    "- A member of a domain. The domain of ints, strings, functions that map ints to strings, etc...    \n",
    "- They are immutable\n",
    "- They have no behaviour\n",
    "\n",
    "Objects: \n",
    "- Encapsulation of data with associated behaviour\n",
    "- Mutable\n",
    "\n",
    "Avoid using \"object\" for standard values for functional C#.    \n",
    "It should only be used to refer to true classes, or values that expose member functions."
   ]
  },
  {
   "cell_type": "markdown",
   "metadata": {},
   "source": [
    "### How types work with functions\n",
    "\n",
    "Type notation: `domain -> range` == (C#) `Func<domain, range>`\n",
    "\n",
    "\"Higher-Order functions\": A function that takes a function as a paramater, or returns another function.    \n",
    "Think of LINQ `Select` or `Where`.\n",
    "\n",
    "Example:\n",
    "`EvalWith5ThenAdd2 :: (int -> int) -> int`"
   ]
  },
  {
   "cell_type": "code",
   "execution_count": null,
   "metadata": {
    "dotnet_interactive": {
     "language": "csharp"
    },
    "vscode": {
     "languageId": "dotnet-interactive.csharp"
    }
   },
   "outputs": [
    {
     "data": {
      "text/html": [
       "<div class=\"dni-plaintext\">8</div>"
      ]
     },
     "metadata": {},
     "output_type": "display_data"
    }
   ],
   "source": [
    "int EvalWith5ThenAdd2(Func<int, int> fn) => \n",
    "    fn(5) + 2;\n",
    "\n",
    "return EvalWith5ThenAdd2(AddOne);"
   ]
  },
  {
   "cell_type": "markdown",
   "metadata": {},
   "source": [
    "In this function the domain is `(int -> int)` and the range is `int`.    \n",
    "This means the input is a function that maps ints to ints, and the output is just an int.    \n",
    "\n",
    "`timesThree :: int -> int`"
   ]
  },
  {
   "cell_type": "code",
   "execution_count": null,
   "metadata": {
    "dotnet_interactive": {
     "language": "csharp"
    },
    "vscode": {
     "languageId": "dotnet-interactive.csharp"
    }
   },
   "outputs": [
    {
     "data": {
      "text/html": [
       "<div class=\"dni-plaintext\">17</div>"
      ]
     },
     "metadata": {},
     "output_type": "display_data"
    }
   ],
   "source": [
    "Func<int, int> timesThree = x => x * 3;\n",
    "\n",
    "return EvalWith5ThenAdd2(timesThree);"
   ]
  },
  {
   "cell_type": "markdown",
   "metadata": {},
   "source": [
    "Now, lets return a function rather than use one as input.    \n",
    "`AdderGenerator :: int -> (int -> int)`"
   ]
  },
  {
   "cell_type": "code",
   "execution_count": null,
   "metadata": {
    "dotnet_interactive": {
     "language": "csharp"
    },
    "vscode": {
     "languageId": "dotnet-interactive.csharp"
    }
   },
   "outputs": [
    {
     "data": {
      "text/html": [
       "<table><thead><tr><th>Item1</th><th>Item2</th></tr></thead><tbody><tr><td><div class=\"dni-plaintext\">2</div></td><td><div class=\"dni-plaintext\">3</div></td></tr></tbody></table>"
      ]
     },
     "metadata": {},
     "output_type": "display_data"
    }
   ],
   "source": [
    "Func<int, int> AdderGenerator(int numberToAdd) => \n",
    "    x =>  x + numberToAdd;\n",
    "\n",
    "//or\n",
    "\n",
    "Func<int, Func<int,int>> AdderGenerator_alt = numberToAdd => \n",
    "    x => x + numberToAdd;\n",
    "\n",
    "// create new adders\n",
    "var add1 = AdderGenerator(1);\n",
    "var add2 = AdderGenerator_alt(2);\n",
    "\n",
    "return (add1(1), add2(1));"
   ]
  },
  {
   "cell_type": "markdown",
   "metadata": {},
   "source": [
    "### void?\n",
    "\n",
    "How do we deal with something like:\n",
    "```csharp\n",
    "void PrintInt(int x)\n",
    "{\n",
    "    Console.WriteLine(x);\n",
    "}\n",
    "```\n",
    "We cannot have `int -> void` since void is the absence of a value. But our function must have a range to map to.  Every function must have some output to map to.    \n",
    "`Unit` to the rescue - it is like a `bool` which has two possible values `true`, `false`, though it only has one possible value `unit`.\n"
   ]
  },
  {
   "cell_type": "markdown",
   "metadata": {},
   "source": [
    "In Funtional langauges the `Unit` type is often reffered to as `()` - however in C# this is a method invocation with no inputs.    \n",
    "Since declaring this concept in c# fully is a bit verbose as we saw earlier with `Five` it is often omitted as an input.    \n",
    "\n",
    "Example:\n",
    "`WhatIsThis :: () -> ()`"
   ]
  },
  {
   "cell_type": "code",
   "execution_count": null,
   "metadata": {
    "dotnet_interactive": {
     "language": "csharp"
    },
    "vscode": {
     "languageId": "dotnet-interactive.csharp"
    }
   },
   "outputs": [
    {
     "data": {
      "text/html": [
       "<table><thead><tr><th>Item1</th><th>Item2</th></tr></thead><tbody><tr><td><div class=\"dni-plaintext\">5</div></td><td><div class=\"dni-plaintext\">5</div></td></tr></tbody></table>"
      ]
     },
     "metadata": {},
     "output_type": "display_data"
    }
   ],
   "source": [
    "Unit WhatIsThis(Unit _) => unit;\n",
    "// or better yet - which captures a bit of that functional syntax by omitting the unit input\n",
    "Unit WhatIsThis() => unit;\n",
    "\n",
    "// doesn't compile because we must return a unit\n",
    "/*\n",
    "Unit DoSomething() => 1 + 1; \n",
    "*/\n",
    "Unit DoSomething() => ignore(1 + 1); // ignore is a wrapper to satisfy the c# compiler\n",
    "\n",
    "// five could now be expressed as\n",
    "Func<int> five = () => 5;\n",
    "//or\n",
    "int Five() => 5;\n",
    "\n",
    "return (five(), Five()); // much better"
   ]
  },
  {
   "cell_type": "markdown",
   "metadata": {},
   "source": [
    "#### Other useful types"
   ]
  },
  {
   "cell_type": "code",
   "execution_count": null,
   "metadata": {
    "dotnet_interactive": {
     "language": "csharp"
    },
    "vscode": {
     "languageId": "dotnet-interactive.csharp"
    }
   },
   "outputs": [],
   "source": [
    "var tuples = (\"Hello\", 1);\n",
    "Lst<int> list = List(1,2,3); // immutable, fixed size\n",
    "Arr<int> arr = Array(1,2,3); // immutable, fixed size\n",
    "Seq<int> seq = Seq(Range(1,10)); // similar to IEnumerable, but not infinite\n",
    "\n",
    "Option<int> someInt = Some(1); // options wrap values that may be missing\n",
    "Option<int> noInt = None;"
   ]
  },
  {
   "cell_type": "markdown",
   "metadata": {},
   "source": [
    "### Currying\n",
    "If 'functionaly' we can only have one input, how do we pass multiple inputs?    \n",
    "1. tuples\n",
    "2. currying! - a series of functions that each take one paramater    \n",
    "\n",
    "Example: `PrintTwoParameters :: int -> int -> ()`"
   ]
  },
  {
   "cell_type": "code",
   "execution_count": null,
   "metadata": {
    "dotnet_interactive": {
     "language": "csharp"
    },
    "vscode": {
     "languageId": "dotnet-interactive.csharp"
    }
   },
   "outputs": [],
   "source": [
    "Func<int, Func<int, Unit>> printTwoParameters = x => y => \n",
    "{\n",
    "    Console.WriteLine($\"x:{x}, y:{y}\");\n",
    "    return unit;\n",
    "};"
   ]
  },
  {
   "cell_type": "markdown",
   "metadata": {},
   "source": [
    "We now have a function that takes a single argument and returns a new function with that parameter baked in.  The new function also takes a single parameter.    "
   ]
  },
  {
   "cell_type": "code",
   "execution_count": null,
   "metadata": {
    "dotnet_interactive": {
     "language": "csharp"
    },
    "vscode": {
     "languageId": "dotnet-interactive.csharp"
    }
   },
   "outputs": [
    {
     "name": "stdout",
     "output_type": "stream",
     "text": [
      "x:1, y:2\r\n",
      "x:1, y:2\r\n"
     ]
    }
   ],
   "source": [
    "var printOneThenY = printTwoParameters(1); // create a new func that prints 1 and whatever else you give it.\n",
    "printOneThenY(2); // finish the function logic with the second parameter.\n",
    "//or\n",
    "printTwoParameters(1)(2);"
   ]
  },
  {
   "cell_type": "markdown",
   "metadata": {},
   "source": [
    "Decalring functions the 'functional way' is a bit verbose and has a runtime cost in c#, so just declare them the 'classical way'"
   ]
  },
  {
   "cell_type": "code",
   "execution_count": null,
   "metadata": {
    "dotnet_interactive": {
     "language": "csharp"
    },
    "vscode": {
     "languageId": "dotnet-interactive.csharp"
    }
   },
   "outputs": [
    {
     "name": "stdout",
     "output_type": "stream",
     "text": [
      "x=1, y=2\r\n"
     ]
    }
   ],
   "source": [
    "static Unit PrintTwoParameters_classical(int x, int y)\n",
    "{\n",
    "    Console.WriteLine($\"x={x}, y={y}\");\n",
    "    return unit;\n",
    "}\n",
    "\n",
    "PrintTwoParameters_classical(1,2);"
   ]
  },
  {
   "cell_type": "markdown",
   "metadata": {},
   "source": [
    "Declaring functions \"the classical way\" misses out on the power of \"curring\"    \n",
    "Language-ext has a prelude function to help restore this missing power."
   ]
  },
  {
   "cell_type": "code",
   "execution_count": null,
   "metadata": {
    "dotnet_interactive": {
     "language": "csharp"
    },
    "vscode": {
     "languageId": "dotnet-interactive.csharp"
    }
   },
   "outputs": [
    {
     "name": "stdout",
     "output_type": "stream",
     "text": [
      "x=1, y=2\r\n",
      "x=1, y=2\r\n"
     ]
    }
   ],
   "source": [
    "var printTwoParmeters_curry = curry<int, int, Unit>(PrintTwoParameters_classical);\n",
    "var x = 1;\n",
    "var y = 2;\n",
    "var printOneThenY_curry = printTwoParmeters_curry(x);\n",
    "var result  = printOneThenY_curry(y);\n",
    "printTwoParmeters_curry(x)(y);\n",
    "\n",
    "// or if input is a 'Func'\n",
    "Func<int,int,Unit> printTwoParameters_classicalFunc = (x, y) => \n",
    "{\n",
    "    Console.WriteLine($\"x={x}, y={y}\");\n",
    "    return unit;\n",
    "};\n",
    "var alt = curry(printTwoParameters_classicalFunc); // input as 'Func' allows you to ommit type params"
   ]
  },
  {
   "cell_type": "markdown",
   "metadata": {},
   "source": [
    "### Partial Application\n"
   ]
  },
  {
   "cell_type": "markdown",
   "metadata": {},
   "source": [
    "Currying leads to 'partial application' - a powerful concept.    \n",
    "The idea is to take a function of N parameters and apply some of the arguments, returning a new function of the remaining arguments.    \n",
    "This is similar to `AdderGenerator` but more generalized.    \n",
    "\n",
    "Example:    \n",
    "`add :: int -> int -> int`    \n",
    "partially apply 2 to get        \n",
    "`addTwo :: int -> int`    \n",
    "\n",
    "`isLessThan :: int -> int -> bool`    \n",
    "partially apply 5 to get    \n",
    "`isLessThan5 :: int -> bool`"
   ]
  },
  {
   "cell_type": "code",
   "execution_count": null,
   "metadata": {
    "dotnet_interactive": {
     "language": "csharp"
    },
    "vscode": {
     "languageId": "dotnet-interactive.csharp"
    }
   },
   "outputs": [
    {
     "name": "stdout",
     "output_type": "stream",
     "text": [
      "3\r\n",
      "(True, False)\r\n",
      "(True, False)\r\n"
     ]
    }
   ],
   "source": [
    "Func<int, int, int> add = (x, y) => x + y;\n",
    "// partial application can be a bit messy in c# so language-ext helps out here.\n",
    "Func<int,int> addTwo = par(add, 2); // partial application\n",
    "\n",
    "WriteLine(addTwo(1));\n",
    "\n",
    "Func<int, int, bool> isLessThan = (x, y) => x > y;\n",
    "Func<int, bool> isLessThan5 = par(isLessThan, 5); \n",
    "Func<int, bool> isGreaterThan5 = lpar(isLessThan, 5);\n",
    "\n",
    "WriteLine((isLessThan5(4), isGreaterThan5(4)));\n",
    "\n",
    "// closer look at par and lpar\n",
    "var isLessThan_fn = (int x) => (int y) => x > y; // a curry-able version of isLessThan, could also expressed as isLessThan_fn = curry(isLessThan);\n",
    "Func<int, bool> isLessThan5_fn = isLessThan_fn(5); // partially apply 5\n",
    "Func<int, bool> isGreaterThan5_fn = x => isLessThan_fn(x)(5); // partially apply 5 'from the left' - basically reverse par\n",
    "\n",
    "WriteLine((isLessThan5_fn(4), isGreaterThan5_fn(4)));\n",
    "\n",
    "// more examples\n"
   ]
  },
  {
   "cell_type": "markdown",
   "metadata": {},
   "source": [
    "A few more examples    \n",
    "\n",
    "Later on, we will revisit this example to show how much more powerful this can be."
   ]
  },
  {
   "cell_type": "code",
   "execution_count": null,
   "metadata": {
    "dotnet_interactive": {
     "language": "csharp"
    },
    "vscode": {
     "languageId": "dotnet-interactive.csharp"
    }
   },
   "outputs": [
    {
     "name": "stdout",
     "output_type": "stream",
     "text": [
      "x=2\r\n",
      "y=4\r\n",
      "x+y=6\r\n",
      "x=6\r\n",
      "y=3\r\n",
      "x+y=9\r\n"
     ]
    }
   ],
   "source": [
    "Func<Func<string, int, Unit>, int, int, int> adderWithPluggableLogger = (logger, x, y) =>  \n",
    "{\n",
    "    logger(\"x\", x);\n",
    "    logger(\"y\", y);\n",
    "    var result = x + y;\n",
    "    logger(\"x+y\", result);\n",
    "    return result;\n",
    "};\n",
    "\n",
    "Func<string, int, Unit> consoleLogger = (name, val) => \n",
    "{\n",
    "    Console.WriteLine($\"{name}={val}\"); \n",
    "    return unit;\n",
    "};\n",
    "\n",
    "var addWithConsoleLogging = par(adderWithPluggableLogger, consoleLogger);\n",
    "var six = addWithConsoleLogging(2,4);\n",
    "\n",
    "var addSixWithConsoleLogging = par(addWithConsoleLogging, six);\n",
    "addSixWithConsoleLogging(3);"
   ]
  },
  {
   "cell_type": "markdown",
   "metadata": {},
   "source": [
    "### Function Composition \n",
    "Taking the output of one function, and using it as the input of another function.    \n",
    "\n",
    "For example, if you have a function that maps from T1 -> T2 and another function that maps from T2 -> T3, then you can compose them giving you a new function that maps from T1 -> T3.    "
   ]
  },
  {
   "cell_type": "code",
   "execution_count": null,
   "metadata": {
    "dotnet_interactive": {
     "language": "csharp"
    },
    "vscode": {
     "languageId": "dotnet-interactive.csharp"
    }
   },
   "outputs": [
    {
     "data": {
      "text/html": [
       "<div class=\"dni-plaintext\">True</div>"
      ]
     },
     "metadata": {},
     "output_type": "display_data"
    }
   ],
   "source": [
    "// f(x)\n",
    "Func<string, int> f = x => x.Length;\n",
    "// g(x)\n",
    "Func<int, bool> g = x => x < 3;\n",
    "\n",
    "// a new function that uses the output of f(x) as the input of g(x)\n",
    "// h(x) = g o f - that is g of f, or g after f\n",
    "Func<string, bool> h = x => g(f(x));\n",
    "//or using language-ext\n",
    "Func<string, bool> h_composed = compose(f, g);\n",
    "//language-ext alt\n",
    "Func<string, bool> h_composed_alt = f.Compose(g);\n",
    "//classical\n",
    "bool h_classical (string x)\n",
    "{\n",
    "    var y = f(x);\n",
    "    return g(y);\n",
    "}\n",
    "\n",
    "\n",
    "return h(\"hi\");"
   ]
  },
  {
   "cell_type": "markdown",
   "metadata": {},
   "source": [
    "### Combinators\n",
    "A combinator is a function whos results only depends on the functions parameters. That is to say, a combinator is a function that only combines its parameters in some way.    \n",
    "`compose` for example is a combinator, while `Console.WriteLine` is not.    \n",
    "`compose` only uses its parameters, while `Console.WriteLine` depends on I/O."
   ]
  },
  {
   "cell_type": "markdown",
   "metadata": {},
   "source": [
    "**Combinator Birds**"
   ]
  },
  {
   "cell_type": "code",
   "execution_count": null,
   "metadata": {
    "dotnet_interactive": {
     "language": "csharp"
    },
    "vscode": {
     "languageId": "dotnet-interactive.csharp"
    }
   },
   "outputs": [],
   "source": [
    "/// Identity function, or the Idiot bird\n",
    "A I<A>(A x) => x;\n",
    "\n",
    "/// The Kestrel\n",
    "Func<B,A> K<A,B>(A x) => (B y) => x;\n",
    "\n",
    "/// The Mockingbird\n",
    "Func<A, A> M<A>(Func<A,A> x) => a => x(x(a));\n",
    "\n",
    "/// The Thrush\n",
    "Func<Func<A, B>, B> T<A, B>(A x) => (Func<A, B> y) => y(x);\n",
    "\n",
    "/// The Queer bird\n",
    "Func<Func<B, C>, Func<A, C>> Q<A, B, C>(Func<A, B> x) => (Func<B, C> y) => (A z) \n",
    "    => y(x(z));\n",
    "\n",
    "/// The Starling\n",
    "Func<Func<A, B>, Func<A, C>> S<A, B, C>(Func<A, B, C> x) => (Func<A, B> y) => (A z) =>\n",
    "    x(z, y(z));\n",
    "\n",
    "/// The infamous Y-combinator, or Sage bird\n",
    "Func<A, B> Y<A, B>(Func<Func<A, B>, A, B> f) => (A x) =>\n",
    "    f(Y<A, B>(f), x);"
   ]
  },
  {
   "cell_type": "markdown",
   "metadata": {},
   "source": [
    "We will explore thes combinator mose closely when we use a different language such as Haskell, JS, or raw lambda calculus.  It is a bit messy in C#.    \n",
    "That being said, here are a few cool things about these combinatos.    \n",
    "`The Kestral`: This combinator is used to define \"true\", a const, or the first of two things.  It is also the same pattern you use when you create a fluent api in c# (returning yourself).    \n",
    "`The Thrush`: applies x to y, this is the \"pipe\" opperator.    \n",
    "`The Queer bird`: forward composition - 'f andThen g', where backards composition would ge 'f after g'.    \n",
    "`Y-combinator or Sage bird`: Recursion!"
   ]
  },
  {
   "cell_type": "markdown",
   "metadata": {},
   "source": [
    "A combinator is the safest form of a function. There is nothing outside of the function that can change its result.        \n",
    "Using combitators from a combinator library is like using Lego from a lego set to create something new.    \n",
    "\n",
    "Example:"
   ]
  },
  {
   "cell_type": "code",
   "execution_count": null,
   "metadata": {
    "dotnet_interactive": {
     "language": "csharp"
    },
    "vscode": {
     "languageId": "dotnet-interactive.csharp"
    }
   },
   "outputs": [
    {
     "data": {
      "text/html": [
       "<div><div></div><div></div><div><strong>Installed Packages</strong><ul><li><span>LanguageExt.Parsec, 4.2.9</span></li></ul></div></div>"
      ]
     },
     "metadata": {},
     "output_type": "display_data"
    }
   ],
   "source": [
    "// combinator lib for parsing\n",
    "\n",
    "#r \"nuget:LanguageExt.Parsec\"\n",
    "using LanguageExt.Parsec;\n",
    "using static LanguageExt.Parsec.Prim;\n",
    "using static LanguageExt.Parsec.Char;\n",
    "using static LanguageExt.Parsec.Expr;\n",
    "using static LanguageExt.Parsec.Token;"
   ]
  },
  {
   "cell_type": "markdown",
   "metadata": {},
   "source": [
    "Lets parse some characters!"
   ]
  },
  {
   "cell_type": "code",
   "execution_count": null,
   "metadata": {
    "dotnet_interactive": {
     "language": "csharp"
    },
    "vscode": {
     "languageId": "dotnet-interactive.csharp"
    }
   },
   "outputs": [
    {
     "data": {
      "text/html": [
       "<div class=\"dni-plaintext\">a</div>"
      ]
     },
     "metadata": {},
     "output_type": "display_data"
    }
   ],
   "source": [
    "var parser = ch('a'); // creates a parser that can read 'a'.\n",
    "var result = parse(parser, \"abcde\");\n",
    "\n",
    "return result.Reply.Result;"
   ]
  },
  {
   "cell_type": "code",
   "execution_count": null,
   "metadata": {
    "dotnet_interactive": {
     "language": "csharp"
    },
    "vscode": {
     "languageId": "dotnet-interactive.csharp"
    }
   },
   "outputs": [
    {
     "data": {
      "text/html": [
       "<table><thead><tr><th>Item1</th><th>Item2</th></tr></thead><tbody><tr><td><div class=\"dni-plaintext\">a</div></td><td><div class=\"dni-plaintext\">b</div></td></tr></tbody></table>"
      ]
     },
     "metadata": {},
     "output_type": "display_data"
    }
   ],
   "source": [
    "var parser = satisfy(System.Char.IsLetter); // create a parser that can look for things based on a predicate, in this case all letters.\n",
    "var aResult = parse(parser, \"abcde\");\n",
    "var bResult = parse(letter, \"bcdea\"); // lang-ext built in letter parser\n",
    "\n",
    "return (aResult.Reply.Result, bResult.Reply.Result);"
   ]
  },
  {
   "cell_type": "markdown",
   "metadata": {},
   "source": [
    "Great! but this only reads one character.  What if we want to read more?"
   ]
  },
  {
   "cell_type": "code",
   "execution_count": null,
   "metadata": {
    "dotnet_interactive": {
     "language": "csharp"
    },
    "vscode": {
     "languageId": "dotnet-interactive.csharp"
    }
   },
   "outputs": [
    {
     "data": {
      "text/html": [
       "<table><thead><tr><th><i>index</i></th><th>value</th></tr></thead><tbody><tr><td>0</td><td><div class=\"dni-plaintext\">a</div></td></tr><tr><td>1</td><td><div class=\"dni-plaintext\">b</div></td></tr><tr><td>2</td><td><div class=\"dni-plaintext\">c</div></td></tr><tr><td>3</td><td><div class=\"dni-plaintext\">d</div></td></tr><tr><td>4</td><td><div class=\"dni-plaintext\">e</div></td></tr></tbody></table>"
      ]
     },
     "metadata": {},
     "output_type": "display_data"
    }
   ],
   "source": [
    "var parser = many1(letter); // many1 will execute 'letter' 1 or more times and return a Seq\n",
    "var result = parse(parser, \"abcde\");\n",
    "\n",
    "return result.Reply.Result;"
   ]
  },
  {
   "cell_type": "code",
   "execution_count": null,
   "metadata": {
    "dotnet_interactive": {
     "language": "csharp"
    },
    "vscode": {
     "languageId": "dotnet-interactive.csharp"
    }
   },
   "outputs": [
    {
     "data": {
      "text/html": [
       "<table><thead><tr><th><i>index</i></th><th>value</th></tr></thead><tbody><tr><td>0</td><td><div class=\"dni-plaintext\">t</div></td></tr><tr><td>1</td><td><div class=\"dni-plaintext\">w</div></td></tr><tr><td>2</td><td><div class=\"dni-plaintext\">o</div></td></tr></tbody></table>"
      ]
     },
     "metadata": {},
     "output_type": "display_data"
    }
   ],
   "source": [
    "var parser = many1(letter);\n",
    "var result = parse(parser, \"two words\");\n",
    "\n",
    "return result.Reply.Result; // oh no! it stopped after the space - it isn't a letter"
   ]
  },
  {
   "cell_type": "code",
   "execution_count": null,
   "metadata": {
    "dotnet_interactive": {
     "language": "csharp"
    },
    "vscode": {
     "languageId": "dotnet-interactive.csharp"
    }
   },
   "outputs": [
    {
     "data": {
      "text/html": [
       "<table><thead><tr><th><i>index</i></th><th>value</th></tr></thead><tbody><tr><td>0</td><td><div class=\"dni-plaintext\">t</div></td></tr><tr><td>1</td><td><div class=\"dni-plaintext\">w</div></td></tr><tr><td>2</td><td><div class=\"dni-plaintext\">o</div></td></tr></tbody></table>"
      ]
     },
     "metadata": {},
     "output_type": "display_data"
    }
   ],
   "source": [
    "var spaces = many(satisfy(System.Char.IsWhiteSpace)); // many is 0 or more times\n",
    "var word = from w in many1(letter)\n",
    "           from s in spaces\n",
    "           select w;\n",
    "\n",
    "var result = parse(word, \"two words\");\n",
    "return result.Reply.Result; // so far it doesn't seem any better, but since we handle spaces now lets try and apply our \"word\" parser \"many\" times."
   ]
  },
  {
   "cell_type": "code",
   "execution_count": null,
   "metadata": {
    "dotnet_interactive": {
     "language": "csharp"
    },
    "vscode": {
     "languageId": "dotnet-interactive.csharp"
    }
   },
   "outputs": [
    {
     "data": {
      "text/html": [
       "<table><thead><tr><th><i>index</i></th><th>value</th></tr></thead><tbody><tr><td>0</td><td><div class=\"dni-plaintext\">[ t, w, o ]</div></td></tr><tr><td>1</td><td><div class=\"dni-plaintext\">[ w, o, r, d, s ]</div></td></tr></tbody></table>"
      ]
     },
     "metadata": {},
     "output_type": "display_data"
    }
   ],
   "source": [
    "var parser = many1(word);\n",
    "var result = parse(parser, \"two words\");\n",
    "\n",
    "return result.Reply.Result;"
   ]
  },
  {
   "cell_type": "code",
   "execution_count": null,
   "metadata": {
    "dotnet_interactive": {
     "language": "csharp"
    },
    "vscode": {
     "languageId": "dotnet-interactive.csharp"
    }
   },
   "outputs": [
    {
     "data": {
      "text/html": [
       "<table><thead><tr><th><i>index</i></th><th>value</th></tr></thead><tbody><tr><td>0</td><td>two</td></tr><tr><td>1</td><td>words</td></tr></tbody></table>"
      ]
     },
     "metadata": {},
     "output_type": "display_data"
    }
   ],
   "source": [
    "// and with a little adjustment to the inner parser to return the words rather than chars\n",
    "var word = from w in asString(many1(letter))\n",
    "           from s in spaces\n",
    "           select w;\n",
    "var parser = many1(word);\n",
    "var result = parse(parser, \"two words\");\n",
    "\n",
    "return result.Reply.Result;"
   ]
  },
  {
   "cell_type": "markdown",
   "metadata": {},
   "source": [
    "So far it has been pretty easy to build up a parser from these existing peices.  But what about when we need to parse integers?"
   ]
  },
  {
   "cell_type": "code",
   "execution_count": null,
   "metadata": {
    "dotnet_interactive": {
     "language": "csharp"
    },
    "vscode": {
     "languageId": "dotnet-interactive.csharp"
    }
   },
   "outputs": [
    {
     "data": {
      "text/html": [
       "<table><thead><tr><th><i>index</i></th><th>value</th></tr></thead><tbody><tr><td>0</td><td><div class=\"dni-plaintext\">123</div></td></tr><tr><td>1</td><td><div class=\"dni-plaintext\">1</div></td></tr><tr><td>2</td><td><div class=\"dni-plaintext\">2</div></td></tr><tr><td>3</td><td><div class=\"dni-plaintext\">3</div></td></tr></tbody></table>"
      ]
     },
     "metadata": {},
     "output_type": "display_data"
    }
   ],
   "source": [
    "var number = from d in asString(many1(digit))   // similar as before but we want a digit, not letter\n",
    "             from s in spaces                   // check it out! we are reusing our spaces parser from before!\n",
    "             select Int32.Parse(d);\n",
    "\n",
    "var parser = many1(number);\n",
    "var result = parse(parser, \"123 1 2 3\");\n",
    "\n",
    "return result.Reply.Result;\n"
   ]
  },
  {
   "cell_type": "markdown",
   "metadata": {},
   "source": [
    "Great! we can read numbers now! We are also starting to see the power of combinators in action.    \n",
    "We can easily create and chain together new parsers that 'just work' because it is all Parser in Parser out.    \n",
    "What about both letters and numbers at the same time?!\n",
    "\n",
    "First we need a common abstraction for numbers and words"
   ]
  },
  {
   "cell_type": "code",
   "execution_count": null,
   "metadata": {
    "dotnet_interactive": {
     "language": "csharp"
    },
    "vscode": {
     "languageId": "dotnet-interactive.csharp"
    }
   },
   "outputs": [],
   "source": [
    "abstract class Term { };\n",
    "\n",
    "class Word : Term\n",
    "{\n",
    "    public readonly string Value;\n",
    "    public Word(string value) => Value = value;\n",
    "}\n",
    "\n",
    "class Number : Term\n",
    "{\n",
    "    public readonly int Value;\n",
    "    public Number(int value) => Value = value;\n",
    "}"
   ]
  },
  {
   "cell_type": "markdown",
   "metadata": {},
   "source": [
    "Next we need to introduce a new combinator: `either`.  This combinator takes two parsers and returns a new parser that will try both sub parsers if needed.    \n",
    "For example: if a digit comes in, then the `word` parser will fail.  Should that happen, our new parer is now smart enough to try a second parser `digit`."
   ]
  },
  {
   "cell_type": "code",
   "execution_count": null,
   "metadata": {
    "dotnet_interactive": {
     "language": "csharp"
    },
    "vscode": {
     "languageId": "dotnet-interactive.csharp"
    }
   },
   "outputs": [
    {
     "data": {
      "text/html": [
       "<table><thead><tr><th><i>index</i></th><th><i>type</i></th><th>Value</th></tr></thead><tbody><tr><td>0</td><td>Submission#110+Word</td><td>Hello</td></tr><tr><td>1</td><td>Submission#110+Number</td><td><div class=\"dni-plaintext\">123</div></td></tr></tbody></table>"
      ]
     },
     "metadata": {},
     "output_type": "display_data"
    }
   ],
   "source": [
    "// small updates to our word and number parsers to use the \"terms\" abstraction\n",
    "var word = from w in asString(many1(letter))\n",
    "           from s in spaces\n",
    "           select new Word(w) as Term;\n",
    "\n",
    "var number = from d in asString(many1(digit))\n",
    "             from s in spaces\n",
    "             select new Number(Int32.Parse(d)) as Term;\n",
    "\n",
    "var term = either<Term>(word, number);\n",
    "\n",
    "// create our final parser that removes leading white space and invokes `term` many times\n",
    "var parser = from sp in spaces\n",
    "             from ws in many1(term)\n",
    "             select ws;\n",
    "\n",
    "var result = parser.Parse(\"Hello 123\");\n",
    "return result.Reply.Result;"
   ]
  },
  {
   "cell_type": "markdown",
   "metadata": {},
   "source": [
    "Boom! We solved a simple problem (parsing a single character) and through the power of function values and combinators, built up a parser that can handle numbers and words! \n",
    "\n",
    "Lets keep going, we have one more problem to solve in this example.   \n",
    "You may have noticed we always need `from s in spaces`.  As we add more parsable types this will get annoying.  Lets fix it!    \n",
    "\n",
    "We will do this by creating one more parser `token`.  Its job will be to 'tokenize' the term, and by that I mean it will remove trailing spaces."
   ]
  },
  {
   "cell_type": "code",
   "execution_count": null,
   "metadata": {
    "dotnet_interactive": {
     "language": "csharp"
    },
    "vscode": {
     "languageId": "dotnet-interactive.csharp"
    }
   },
   "outputs": [],
   "source": [
    "Parser<A> token<A>(Parser<A> parserA) =>\n",
    "    from res in parserA\n",
    "    from spc in spaces\n",
    "    select res;"
   ]
  },
  {
   "cell_type": "markdown",
   "metadata": {},
   "source": [
    "easy peasy! lets use it!"
   ]
  },
  {
   "cell_type": "code",
   "execution_count": null,
   "metadata": {
    "dotnet_interactive": {
     "language": "csharp"
    },
    "vscode": {
     "languageId": "dotnet-interactive.csharp"
    }
   },
   "outputs": [
    {
     "data": {
      "text/html": [
       "<table><thead><tr><th><i>index</i></th><th><i>type</i></th><th>Value</th></tr></thead><tbody><tr><td>0</td><td>Submission#110+Number</td><td><div class=\"dni-plaintext\">321</div></td></tr><tr><td>1</td><td>Submission#110+Word</td><td>Hello</td></tr><tr><td>2</td><td>Submission#110+Number</td><td><div class=\"dni-plaintext\">123</div></td></tr></tbody></table>"
      ]
     },
     "metadata": {},
     "output_type": "display_data"
    }
   ],
   "source": [
    "var word = from w in token(asString(many1(letter)))\n",
    "           select new Word(w) as Term;\n",
    "\n",
    "var number = from d in token(asString(many1(digit)))\n",
    "             select new Number(Int32.Parse(d)) as Term;\n",
    "\n",
    "var term = either<Term>(word, number);\n",
    "\n",
    "// create our final parser that removes leading white space and invokes `term` many times\n",
    "var parser = from sp in spaces\n",
    "             from ws in many1(term)\n",
    "             select ws;\n",
    "\n",
    "var result = parser.Parse(\"   321Hello 123\");\n",
    "return result.Reply.Result;"
   ]
  },
  {
   "cell_type": "markdown",
   "metadata": {},
   "source": [
    "\"321Hello\" was parsed as \"321\" and \"Hello\".  This may or may not be what we want. It happened this way because our spaces parser is looking for `0` or more spaces, and therefore succedded when there was no space.    \n",
    "\n",
    "What if we wanted space delimited numbers and words but not words that contain numbers?"
   ]
  },
  {
   "cell_type": "code",
   "execution_count": null,
   "metadata": {
    "dotnet_interactive": {
     "language": "csharp"
    },
    "vscode": {
     "languageId": "dotnet-interactive.csharp"
    }
   },
   "outputs": [
    {
     "name": "stdout",
     "output_type": "stream",
     "text": [
      "Faulted: False, Result: error at (line 1, column 19): unexpected end of stream, expecting letter or digit\r\n",
      "Faulted: False, Result: [Submission#110+Number, Submission#110+Word, Submission#110+Word, Submission#110+Word]\r\n"
     ]
    },
    {
     "data": {
      "text/html": [
       "<table><thead><tr><th><i>index</i></th><th><i>type</i></th><th>Value</th></tr></thead><tbody><tr><td>0</td><td>Submission#110+Number</td><td><div class=\"dni-plaintext\">4</div></td></tr><tr><td>1</td><td>Submission#110+Word</td><td>terms</td></tr><tr><td>2</td><td>Submission#110+Word</td><td>are</td></tr><tr><td>3</td><td>Submission#110+Word</td><td>here</td></tr></tbody></table>"
      ]
     },
     "metadata": {},
     "output_type": "display_data"
    }
   ],
   "source": [
    "// update spaces to utilize either\n",
    "// we want to enforce `1` space - but can't fail on eof.\n",
    "var spaces = either(\n",
    "    eof,\n",
    "    // we don't care about the spaces, and we need a common abstaction with eof parser\n",
    "    // so we map to unit to create a parser<unit>\n",
    "    many1(satisfy(System.Char.IsWhiteSpace)).Map(_ => unit) \n",
    ");\n",
    "\n",
    "var word = from w in token(asString(many1(letter)))\n",
    "           select new Word(w) as Term;\n",
    "\n",
    "var number = from d in token(asString(many1(digit)))\n",
    "             select new Number(Int32.Parse(d)) as Term;\n",
    "\n",
    "var term = either<Term>(word, number);\n",
    "\n",
    "var parser = from sp in spaces\n",
    "             from ws in many1(term)\n",
    "             select ws;\n",
    "\n",
    "var result = parse(parser, \"   4terms are here\");\n",
    "Console.WriteLine($\"Faulted: {result.IsFaulted}, Result: {result.Reply.Error}\"); // an error showing us what went wrong\n",
    "\n",
    "var result2 = parse(parser, \"   4 terms are here\");\n",
    "Console.WriteLine($\"Faulted: {result2.IsFaulted}, Result: {result2.Reply.Result}\"); // [number, word, word, word]\n",
    "return result2.Reply.Result;"
   ]
  },
  {
   "cell_type": "markdown",
   "metadata": {},
   "source": [
    "Success! - sorta, we broke our parser in cases where there is no leading space."
   ]
  },
  {
   "cell_type": "code",
   "execution_count": null,
   "metadata": {
    "dotnet_interactive": {
     "language": "csharp"
    },
    "vscode": {
     "languageId": "dotnet-interactive.csharp"
    }
   },
   "outputs": [
    {
     "data": {
      "text/html": [
       "<table><thead><tr><th><i>index</i></th><th><i>type</i></th><th>Value</th></tr></thead><tbody><tr><td>0</td><td>Submission#110+Word</td><td>no</td></tr><tr><td>1</td><td>Submission#110+Word</td><td>leading</td></tr><tr><td>2</td><td>Submission#110+Word</td><td>space</td></tr><tr><td>3</td><td>Submission#110+Number</td><td><div class=\"dni-plaintext\">7</div></td></tr><tr><td>4</td><td>Submission#110+Word</td><td>terms</td></tr><tr><td>5</td><td>Submission#110+Word</td><td>are</td></tr><tr><td>6</td><td>Submission#110+Word</td><td>here</td></tr></tbody></table>"
      ]
     },
     "metadata": {},
     "output_type": "display_data"
    }
   ],
   "source": [
    "// perhaps we could just create a seperate spaces paser for when we are ok with `0` spaces\n",
    "var maybeSpaces = many(satisfy(System.Char.IsWhiteSpace)); // perhaps isSpace = satisfy(System.Char.IsWhiteSpace) could be abstracted\n",
    "var parser = from sp in maybeSpaces\n",
    "             from ws in many1(term)\n",
    "             select ws;\n",
    "\n",
    "var result2 = parse(parser, \"no leading space   7 terms are here\");\n",
    "return result2.Reply.Result;"
   ]
  },
  {
   "cell_type": "markdown",
   "metadata": {},
   "source": [
    "Our final parsing code"
   ]
  },
  {
   "cell_type": "code",
   "execution_count": null,
   "metadata": {
    "dotnet_interactive": {
     "language": "csharp"
    },
    "vscode": {
     "languageId": "dotnet-interactive.csharp"
    }
   },
   "outputs": [
    {
     "name": "stdout",
     "output_type": "stream",
     "text": [
      "Faulted: True, Result: error at (line 1, column 5): unexpected t, expecting digit or end of input\r\n",
      "Faulted: False, Result: [Number { Value = 4 }, Word { Value = terms }, Word { Value = are }, Word { Value = here }]\r\n",
      "Faulted: False, Result: [Word { Value = no }, Word { Value = leading }, Word { Value = spaces }, Number { Value = 7 }, Word { Value = terms }, Word { Value = are }, Word { Value = here }]\r\n"
     ]
    },
    {
     "data": {
      "text/html": [
       "<table><thead><tr><th><i>index</i></th><th><i>type</i></th><th>Value</th></tr></thead><tbody><tr><td>0</td><td>Submission#116+Word</td><td>no</td></tr><tr><td>1</td><td>Submission#116+Word</td><td>leading</td></tr><tr><td>2</td><td>Submission#116+Word</td><td>spaces</td></tr><tr><td>3</td><td>Submission#116+Number</td><td><div class=\"dni-plaintext\">7</div></td></tr><tr><td>4</td><td>Submission#116+Word</td><td>terms</td></tr><tr><td>5</td><td>Submission#116+Word</td><td>are</td></tr><tr><td>6</td><td>Submission#116+Word</td><td>here</td></tr></tbody></table>"
      ]
     },
     "metadata": {},
     "output_type": "display_data"
    }
   ],
   "source": [
    "abstract record Term { };\n",
    "record Word(string Value) : Term;\n",
    "record Number(int Value) : Term;\n",
    "\n",
    "var isSpace = satisfy(System.Char.IsWhiteSpace);\n",
    "var spaces = either(eof, many1(isSpace).Map(_ => unit));\n",
    "\n",
    "Parser<A> token<A>(Parser<A> parserA) =>\n",
    "    from res in parserA\n",
    "    from spc in spaces\n",
    "    select res;\n",
    "\n",
    "var word = \n",
    "    from w in token(asString(many1(letter)))\n",
    "    select new Word(w) as Term;\n",
    "\n",
    "var number = \n",
    "    from d in token(asString(many1(digit)))\n",
    "    select new Number(Int32.Parse(d)) as Term;\n",
    "\n",
    "var term = either<Term>(word, number);\n",
    "\n",
    "var parser = \n",
    "    from sp in many(isSpace)\n",
    "    from ws in many1(term)\n",
    "    select ws;\n",
    "\n",
    "var result = parse(parser, \"   4terms are here\");\n",
    "Console.WriteLine($\"Faulted: {result.IsFaulted}, Result: {result.Reply.Error}\"); // an error showing us what went wrong\n",
    "\n",
    "var result2 = parse(parser, \"   4 terms are here\");\n",
    "Console.WriteLine($\"Faulted: {result2.IsFaulted}, Result: {result2.Reply.Result}\"); // [number, word, word, word]\n",
    "\n",
    "var result3 = parse(parser, \"no leading spaces   7 terms are here\");\n",
    "Console.WriteLine($\"Faulted: {result3.IsFaulted}, Result: {result3.Reply.Result}\"); // [word, word, word, number, word, word, word]\n",
    "return result3.Reply.Result;"
   ]
  },
  {
   "cell_type": "markdown",
   "metadata": {},
   "source": [
    "I'm not very familure with query syntax - What would this look like in method syntax?"
   ]
  },
  {
   "cell_type": "code",
   "execution_count": null,
   "metadata": {
    "dotnet_interactive": {
     "language": "csharp"
    },
    "vscode": {
     "languageId": "dotnet-interactive.csharp"
    }
   },
   "outputs": [
    {
     "name": "stdout",
     "output_type": "stream",
     "text": [
      "Faulted: True, Result: error at (line 1, column 5): unexpected t, expecting digit or end of input\r\n",
      "Faulted: False, Result: [Number { Value = 4 }, Word { Value = terms }, Word { Value = are }, Word { Value = here }]\r\n",
      "Faulted: False, Result: [Word { Value = no }, Word { Value = leading }, Word { Value = spaces }, Number { Value = 7 }, Word { Value = terms }, Word { Value = are }, Word { Value = here }]\r\n"
     ]
    },
    {
     "data": {
      "text/html": [
       "<table><thead><tr><th><i>index</i></th><th><i>type</i></th><th>Value</th></tr></thead><tbody><tr><td>0</td><td>Submission#117+Word</td><td>no</td></tr><tr><td>1</td><td>Submission#117+Word</td><td>leading</td></tr><tr><td>2</td><td>Submission#117+Word</td><td>spaces</td></tr><tr><td>3</td><td>Submission#117+Number</td><td><div class=\"dni-plaintext\">7</div></td></tr><tr><td>4</td><td>Submission#117+Word</td><td>terms</td></tr><tr><td>5</td><td>Submission#117+Word</td><td>are</td></tr><tr><td>6</td><td>Submission#117+Word</td><td>here</td></tr></tbody></table>"
      ]
     },
     "metadata": {},
     "output_type": "display_data"
    }
   ],
   "source": [
    "abstract record Term { };\n",
    "record Word(string Value) : Term;\n",
    "record Number(int Value) : Term;\n",
    "\n",
    "var isSpace = satisfy(System.Char.IsWhiteSpace);\n",
    "var spaces = either(eof, many1(isSpace).Map(_ => unit));\n",
    "\n",
    "Parser<A> token<A>(Parser<A> parserA) =>\n",
    "    parserA\n",
    "        .SelectMany(\n",
    "            inp => spaces, \n",
    "            (res, sp) => res\n",
    "        );\n",
    "\n",
    "var word = \n",
    "    token(asString(many1(letter)))\n",
    "        .Map(w => new Word(w) as Term);\n",
    "\n",
    "var number = \n",
    "    token(asString(many1(digit)))\n",
    "        .Map(d => new Number(Int32.Parse(d)) as Term);\n",
    "\n",
    "var term = either<Term>(word, number);\n",
    "\n",
    "var parser = \n",
    "    many(isSpace)\n",
    "        .SelectMany(\n",
    "            inp => many1(term), \n",
    "            (sp, ws) => ws\n",
    "        );\n",
    "\n",
    "var result = parse(parser, \"   4terms are here\");\n",
    "Console.WriteLine($\"Faulted: {result.IsFaulted}, Result: {result.Reply.Error}\"); // an error showing us what went wrong\n",
    "\n",
    "var result2 = parse(parser, \"   4 terms are here\");\n",
    "Console.WriteLine($\"Faulted: {result2.IsFaulted}, Result: {result2.Reply.Result}\"); // [number, word, word, word]\n",
    "\n",
    "var result3 = parse(parser, \"no leading spaces   7 terms are here\");\n",
    "Console.WriteLine($\"Faulted: {result3.IsFaulted}, Result: {result3.Reply.Result}\"); // [word, word, word, number, word, word, word]\n",
    "return result3.Reply.Result;"
   ]
  },
  {
   "cell_type": "markdown",
   "metadata": {},
   "source": [
    "Not bad, personally I think I prefer the query expression syntax.  It would be worth getting more familure with it.  As things get more complex, it seems easier to read and think about than the method syntax."
   ]
  },
  {
   "cell_type": "markdown",
   "metadata": {},
   "source": [
    "### Function Signatures"
   ]
  },
  {
   "cell_type": "markdown",
   "metadata": {},
   "source": [
    "Documentation only goes so far and gets stale. Type systems can help you communicate with compile time checking.    \n",
    "Strive for declarative signatures.\n",
    "\n",
    "Example:\n",
    "```csharp\n",
    "// Create Date takes 3 ints... but in what order?\n",
    "DateTime CreateDate(int a, int b, int c);\n",
    "// Ok - year, month, day... but any int?\n",
    "DateTime CreateDate(int year, int month, int day);\n",
    "// Oh Ok! A valid year, month, day\n",
    "DateTime CreateDate(Year year, Month month, Day day);\n",
    "```"
   ]
  },
  {
   "cell_type": "markdown",
   "metadata": {},
   "source": [
    "Creating a type for every invidiual usage of int would be insane!  What does Year, Month, Day really look like?    \n",
    "\n",
    "Language-Ext has some generic types to help create new constrained typed:"
   ]
  },
  {
   "cell_type": "code",
   "execution_count": null,
   "metadata": {
    "dotnet_interactive": {
     "language": "csharp"
    },
    "vscode": {
     "languageId": "dotnet-interactive.csharp"
    }
   },
   "outputs": [],
   "source": [
    "public class Year : NumType<Year, TInt, int>\n",
    "{\n",
    "    Year(int x) : base(x) { }\n",
    "}\n",
    "\n",
    "public class Month : NumType<Month, TInt, int>\n",
    "{\n",
    "    Month(int x) : base(x) { }\n",
    "}\n",
    "\n",
    "public class Day : NumType<Day, TInt, int>\n",
    "{\n",
    "    Day(int x) : base(x) { }\n",
    "}\n",
    "\n",
    "var day = Day.New(1);\n",
    "var month = Month.New(1);\n",
    "var year = Year.New(2000);"
   ]
  },
  {
   "cell_type": "markdown",
   "metadata": {},
   "source": [
    "Great! A day is not a month, but we can still have a day of 100 in the month of 20...    \n",
    "\n",
    "Time for some constrains:"
   ]
  },
  {
   "cell_type": "markdown",
   "metadata": {},
   "source": [
    "constructors with exceptions"
   ]
  },
  {
   "cell_type": "code",
   "execution_count": null,
   "metadata": {
    "dotnet_interactive": {
     "language": "csharp"
    },
    "vscode": {
     "languageId": "dotnet-interactive.csharp"
    }
   },
   "outputs": [],
   "source": [
    "public class Year : NumType<Year, TInt, int>\n",
    "{\n",
    "    Year(int x) : base(x) \n",
    "    { \n",
    "       if(x < 1970 || x > 2050) throw new ArgumentException(\"Invalid year\");\n",
    "    }\n",
    "}\n",
    "\n",
    "public class Month : NumType<Month, TInt, int>\n",
    "{\n",
    "    Month(int x) : base(x)\n",
    "    { \n",
    "       if(x < 1 || x > 12) throw new ArgumentException(\"Invalid month\");\n",
    "    }\n",
    "}\n",
    "\n",
    "public class Day : NumType<Day, TInt, int>\n",
    "{\n",
    "    Day(int x) : base(x)\n",
    "    { \n",
    "       if(x < 1 || x > 31) throw new ArgumentException(\"Invalid day\");\n",
    "    }\n",
    "}"
   ]
  },
  {
   "cell_type": "markdown",
   "metadata": {},
   "source": [
    "Or - Declarative Types"
   ]
  },
  {
   "cell_type": "code",
   "execution_count": null,
   "metadata": {
    "dotnet_interactive": {
     "language": "csharp"
    },
    "vscode": {
     "languageId": "dotnet-interactive.csharp"
    }
   },
   "outputs": [],
   "source": [
    "using LanguageExt.ClassInstances;\n",
    "using LanguageExt.ClassInstances.Const;\n",
    "using LanguageExt.ClassInstances.Pred;\n",
    "\n",
    "public class Year : NumType<Year, TInt, int, Range<TInt, int, I1970, I2050>>\n",
    "{\n",
    "    Year(int x) : base(x) { }\n",
    "}\n",
    "\n",
    "public class Month : NumType<Month, TInt, int, Range<TInt, int, I1, I12>>\n",
    "{\n",
    "    Month(int x) : base(x) { }\n",
    "}\n",
    "\n",
    "public class Day : NumType<Day, TInt, int, Range<TInt, int, I1, I31>>\n",
    "{\n",
    "    Day(int x) : base(x) { }\n",
    "}"
   ]
  },
  {
   "cell_type": "markdown",
   "metadata": {},
   "source": [
    "The Declarative approach may take some getting used to, but you can look at the type signature and see everything you need to know. Its hard to go wrong, and you have the type system working for you.    \n",
    "Your validators can be reusable, and you can easily navigate to the validators in you IDE."
   ]
  },
  {
   "cell_type": "markdown",
   "metadata": {},
   "source": [
    "Consider the following:"
   ]
  },
  {
   "cell_type": "code",
   "execution_count": null,
   "metadata": {
    "dotnet_interactive": {
     "language": "csharp"
    },
    "vscode": {
     "languageId": "dotnet-interactive.csharp"
    }
   },
   "outputs": [
    {
     "ename": "Error",
     "evalue": "System.ArgumentException: List must not be empty\r\n   at Submission#121.DoSomethingWithAList(Lst`1 list)\r\n   at Submission#121.<<Initialize>>d__0.MoveNext()\r\n--- End of stack trace from previous location ---\r\n   at Microsoft.CodeAnalysis.Scripting.ScriptExecutionState.RunSubmissionsAsync[TResult](ImmutableArray`1 precedingExecutors, Func`2 currentExecutor, StrongBox`1 exceptionHolderOpt, Func`2 catchExceptionOpt, CancellationToken cancellationToken)",
     "output_type": "error",
     "traceback": [
      "System.ArgumentException: List must not be empty\r\n",
      "   at Submission#121.DoSomethingWithAList(Lst`1 list)\r\n",
      "   at Submission#121.<<Initialize>>d__0.MoveNext()\r\n",
      "--- End of stack trace from previous location ---\r\n",
      "   at Microsoft.CodeAnalysis.Scripting.ScriptExecutionState.RunSubmissionsAsync[TResult](ImmutableArray`1 precedingExecutors, Func`2 currentExecutor, StrongBox`1 exceptionHolderOpt, Func`2 catchExceptionOpt, CancellationToken cancellationToken)"
     ]
    }
   ],
   "source": [
    "int DoSomethingWithAList(Lst<int> list)\n",
    "{\n",
    "    if(list.IsEmpty) throw new ArgumentException(\"List must not be empty\");\n",
    "    return list.Count;\n",
    "}\n",
    "\n",
    "DoSomethingWithAList(Lst<int>.Empty);"
   ]
  },
  {
   "cell_type": "markdown",
   "metadata": {},
   "source": [
    "VS"
   ]
  },
  {
   "cell_type": "code",
   "execution_count": null,
   "metadata": {
    "dotnet_interactive": {
     "language": "csharp"
    },
    "vscode": {
     "languageId": "dotnet-interactive.csharp"
    }
   },
   "outputs": [
    {
     "ename": "Error",
     "evalue": "System.ArgumentException: List must not be empty\r\n   at Submission#121.DoSomethingWithAList(Lst`1 list)\r\n   at Submission#122.<<Initialize>>d__0.MoveNext()\r\n--- End of stack trace from previous location ---\r\n   at Microsoft.CodeAnalysis.Scripting.ScriptExecutionState.RunSubmissionsAsync[TResult](ImmutableArray`1 precedingExecutors, Func`2 currentExecutor, StrongBox`1 exceptionHolderOpt, Func`2 catchExceptionOpt, CancellationToken cancellationToken)",
     "output_type": "error",
     "traceback": [
      "System.ArgumentException: List must not be empty\r\n",
      "   at Submission#121.DoSomethingWithAList(Lst`1 list)\r\n",
      "   at Submission#122.<<Initialize>>d__0.MoveNext()\r\n",
      "--- End of stack trace from previous location ---\r\n",
      "   at Microsoft.CodeAnalysis.Scripting.ScriptExecutionState.RunSubmissionsAsync[TResult](ImmutableArray`1 precedingExecutors, Func`2 currentExecutor, StrongBox`1 exceptionHolderOpt, Func`2 catchExceptionOpt, CancellationToken cancellationToken)"
     ]
    }
   ],
   "source": [
    "int DoSomethingWithAList(Lst<NonEmpty, int> list)\n",
    "{\n",
    "    // List can't ever be empty here\n",
    "    return list.Count;\n",
    "}\n",
    "\n",
    "\n",
    "DoSomethingWithAList(Lst<int>.Empty);"
   ]
  },
  {
   "cell_type": "markdown",
   "metadata": {},
   "source": [
    "Same end result - But! NonEmpty is reusable and communicating to the caller through the type system. Nifty!"
   ]
  },
  {
   "cell_type": "markdown",
   "metadata": {},
   "source": [
    "After all this, what if we still manage to pass an invalid date, what does this do?\n",
    "```csharp\n",
    "string CreateDateString(Year year, Month month, Day day);\n",
    "```\n",
    "Is string null? exception thrown?  How do we communicate that?    \n",
    "\n",
    "\n",
    "Time for a new word - Enter the Monad!    \n",
    "Monads help you get rid of repetative boilerplate, and provide a safe wrapper for our values to live in.    \n",
    "We will get to a better defenition, but for now let's look at an example:"
   ]
  },
  {
   "cell_type": "code",
   "execution_count": null,
   "metadata": {
    "dotnet_interactive": {
     "language": "csharp"
    },
    "vscode": {
     "languageId": "dotnet-interactive.csharp"
    }
   },
   "outputs": [],
   "source": [
    "Try<string> CreateDateString(Year year, Month month, Day day) => () =>\n",
    "        new DateTime(year.Value, month.Value, day.Value).ToShortDateString();"
   ]
  },
  {
   "cell_type": "markdown",
   "metadata": {},
   "source": [
    "What is happening here?    \n",
    "First, we can see that the return type is now trying to tell us something.  `Try<A>` - perhaps this could fail then?    \n",
    "Next, you should notice it is a delegate - we are returning a new func `=> () =>`    \n",
    "This is done so we can wrap the exception based validation happening in `DateTime` and work with a safe value in all cases.    \n",
    "Lets use it!"
   ]
  },
  {
   "cell_type": "code",
   "execution_count": null,
   "metadata": {
    "dotnet_interactive": {
     "language": "csharp"
    },
    "vscode": {
     "languageId": "dotnet-interactive.csharp"
    }
   },
   "outputs": [
    {
     "data": {
      "text/plain": [
       "Invalid date"
      ]
     },
     "metadata": {},
     "output_type": "display_data"
    }
   ],
   "source": [
    "Try<string> date = CreateDateString(Year.New(2000), Month.New(2), Day.New(30));\n",
    "return date.IfFail(\"Invalid date\");"
   ]
  },
  {
   "cell_type": "markdown",
   "metadata": {},
   "source": [
    "Sweet! What else can we do with a try? - Pattern Matching!"
   ]
  },
  {
   "cell_type": "code",
   "execution_count": null,
   "metadata": {
    "dotnet_interactive": {
     "language": "csharp"
    },
    "vscode": {
     "languageId": "dotnet-interactive.csharp"
    }
   },
   "outputs": [
    {
     "data": {
      "text/html": [
       "<table><thead><tr><th>Item1</th><th>Item2</th></tr></thead><tbody><tr><td><div class=\"dni-plaintext\">Invalid date (Year, Month, and Day parameters describe an un-representable DateTime.)</div></td><td><div class=\"dni-plaintext\">The date is 2/14/2000</div></td></tr></tbody></table>"
      ]
     },
     "metadata": {},
     "output_type": "display_data"
    }
   ],
   "source": [
    "Try<string> date = CreateDateString(Year.New(2000), Month.New(2), Day.New(30));\n",
    "Try<string> date2 = CreateDateString(Year.New(2000), Month.New(2), Day.New(14));\n",
    "var getMessage = (string dt) => $\"The date is {dt}\";\n",
    "var getErrorMessage = (Exception ex) => $\"Invalid date ({ex.Message})\";\n",
    "\n",
    "var invalidDate = date.Match(\n",
    "    Succ: getMessage,\n",
    "    Fail: getErrorMessage\n",
    "    );\n",
    "var validDate = date2.Match(\n",
    "    Succ: getMessage,\n",
    "    Fail: getErrorMessage\n",
    "    );\n",
    "return (invalidDate, validDate);"
   ]
  },
  {
   "cell_type": "markdown",
   "metadata": {},
   "source": [
    "Nice - we either have a good value to process, or a useful default.    \n",
    "But why? - you can't process the message until you know there is something there.  goodbye null refs!\n",
    "\n",
    "Lets look at a more complicated example:"
   ]
  },
  {
   "cell_type": "markdown",
   "metadata": {},
   "source": [
    "Here we will create a DateTime and a simple calculation on the dates."
   ]
  },
  {
   "cell_type": "code",
   "execution_count": null,
   "metadata": {
    "dotnet_interactive": {
     "language": "csharp"
    },
    "vscode": {
     "languageId": "dotnet-interactive.csharp"
    }
   },
   "outputs": [
    {
     "name": "stdout",
     "output_type": "stream",
     "text": [
      "6349.00:00:00\r\n"
     ]
    }
   ],
   "source": [
    "public static Try<DateTime> ToDate(this (Year year, Month month, Day day) date) => () =>\n",
    "    new DateTime(date.year.Value, date.month.Value, date.day.Value);\n",
    "\n",
    "Try<DateTime> fromDate = (Year.New(2000), Month.New(1), Day.New(1)).ToDate();\n",
    "Try<DateTime> toDate = (Year.New(2017), Month.New(5), Day.New(20)).ToDate();\n",
    "\n",
    "TimeSpan result = fromDate.Match(\n",
    "    Succ: begin =>\n",
    "        toDate.Match(\n",
    "            Succ: end => end - begin,\n",
    "            Fail: ex  => TimeSpan.Zero),\n",
    "    Fail: ex => TimeSpan.Zero);\n",
    "\n",
    "Console.WriteLine($\"{result}\")"
   ]
  },
  {
   "cell_type": "markdown",
   "metadata": {},
   "source": [
    "... That isn't super great to look at.  It isn't bad, but what if we ended up with more nested lambdas?  Ahh!!!\n",
    "\n",
    "Remember the query expression we saw earlier?  They are C#'s way of doing mondas - our new fancy word.  So how can that clean this up?"
   ]
  },
  {
   "cell_type": "code",
   "execution_count": null,
   "metadata": {
    "dotnet_interactive": {
     "language": "csharp"
    },
    "vscode": {
     "languageId": "dotnet-interactive.csharp"
    }
   },
   "outputs": [
    {
     "name": "stdout",
     "output_type": "stream",
     "text": [
      "6349.00:00:00\r\n"
     ]
    }
   ],
   "source": [
    "var result = \n",
    "    from begin in fromDate\n",
    "    from end in toDate\n",
    "    select end - begin;\n",
    "\n",
    "result.IfSucc(r => Console.WriteLine($\"{r}\"));"
   ]
  },
  {
   "cell_type": "markdown",
   "metadata": {},
   "source": [
    "Way easier to read, and you may have noticed it also keeps us in the monadic context.  It is best to stay monadic until you really need a value."
   ]
  },
  {
   "cell_type": "markdown",
   "metadata": {},
   "source": [
    "What if we shouldn't ever have an exception, but we may not have the value we want?"
   ]
  },
  {
   "cell_type": "code",
   "execution_count": null,
   "metadata": {
    "dotnet_interactive": {
     "language": "csharp"
    },
    "vscode": {
     "languageId": "dotnet-interactive.csharp"
    }
   },
   "outputs": [],
   "source": [
    "Option<int> ParseInt(string value) =>\n",
    "    Int32.TryParse(value, out var result)\n",
    "        ? Some(result)\n",
    "        : None;"
   ]
  },
  {
   "cell_type": "markdown",
   "metadata": {},
   "source": [
    "Now we either have a good value, or a safe way of saying we don't have a good default for this. - You may be wondering, how is 'None' different than 'null'? it is nothing after all.    \n",
    "Well - `null` is actually nothing and we can't work with that. On the other hand `None` is a value, just like `Some(value)` is."
   ]
  },
  {
   "cell_type": "code",
   "execution_count": null,
   "metadata": {
    "dotnet_interactive": {
     "language": "csharp"
    },
    "vscode": {
     "languageId": "dotnet-interactive.csharp"
    }
   },
   "outputs": [
    {
     "data": {
      "text/html": [
       "<table><thead><tr><th>Item1</th><th>Item2</th></tr></thead><tbody><tr><td><div class=\"dni-plaintext\">[ 60 ]</div></td><td><div class=\"dni-plaintext\">[  ]</div></td></tr></tbody></table>"
      ]
     },
     "metadata": {},
     "output_type": "display_data"
    }
   ],
   "source": [
    "var calculate = (string x, string y, string z) => \n",
    "    from a in ParseInt(x)\n",
    "    from b in ParseInt(y)\n",
    "    from c in ParseInt(z)\n",
    "    select a + b + c;\n",
    "\n",
    "var valid = calculate(\"10\", \"20\", \"30\");\n",
    "var invalid =  calculate(\"invalid number\", \"10\", \"20\");\n",
    "return (valid, invalid);"
   ]
  },
  {
   "cell_type": "markdown",
   "metadata": {},
   "source": [
    "No weird assumed default, no exceptions, no null refs - just values.  And we avoided nested `if` hell!\n",
    "\n",
    "So why are monads cool?  Here is the alternative - you tell me"
   ]
  },
  {
   "cell_type": "code",
   "execution_count": null,
   "metadata": {
    "dotnet_interactive": {
     "language": "csharp"
    },
    "vscode": {
     "languageId": "dotnet-interactive.csharp"
    }
   },
   "outputs": [
    {
     "data": {
      "text/html": [
       "<table><thead><tr><th>Item1</th><th>Item2</th></tr></thead><tbody><tr><td><div class=\"dni-plaintext\">60</div></td><td><div class=\"dni-plaintext\">&lt;null&gt;</div></td></tr></tbody></table>"
      ]
     },
     "metadata": {},
     "output_type": "display_data"
    }
   ],
   "source": [
    "int? ParseInt(string value) =>\n",
    "    Int32.TryParse(value, out var result)\n",
    "        ? result\n",
    "        : null;\n",
    "\n",
    "int? Calculate(string a, string b, string c)\n",
    "{\n",
    "    var aNum = ParseInt(a);\n",
    "    if (aNum is not null)\n",
    "    {\n",
    "        var bNum = ParseInt(b);\n",
    "        if (bNum is not null)\n",
    "        {\n",
    "            var cNum = ParseInt(c);\n",
    "            if (cNum is not null)\n",
    "            {   \n",
    "                return aNum + bNum + cNum;\n",
    "            }\n",
    "        }\n",
    "    }\n",
    "    return null;\n",
    "}\n",
    "\n",
    "var valid = Calculate(\"10\", \"20\", \"30\");\n",
    "var invalid = Calculate(\"invalid number\", \"10\", \"20\");\n",
    "return (valid, invalid); // return null gross!"
   ]
  },
  {
   "cell_type": "markdown",
   "metadata": {},
   "source": [
    "### What is a monad anyway?\n",
    "\n",
    "Monads come from category theory, and a few basic ways to define them are:\n",
    "- Design patterns that eliminate error prone boilerplate\n",
    "- Encapsulated functionality (with a couple rules)\n",
    "\n",
    "C#'s LINQ is actually an example of monads. Let's take a closer look at what they are.   \n",
    "\n",
    "the `IEnumerable<A>` monad frees you from writing this looping behavior\n",
    "```csharp\n",
    "foreach(var a in listA)\n",
    "{\n",
    "    foreach(var b in listB)\n",
    "    {\n",
    "        yield return Process(a, b);\n",
    "    }\n",
    "}\n",
    "```\n",
    "and instead allows you to write something like this\n",
    "```csharp\n",
    "var result = \n",
    "    from a in listA\n",
    "    from b in listB\n",
    "    select Process(a, b);\n",
    "```\n",
    "\n",
    "This is simple example, and may seem like a small win - but we have traded statements for expressions!"
   ]
  },
  {
   "cell_type": "markdown",
   "metadata": {},
   "source": [
    "Lets take another look at the `Option` monad we introduced in the last section and see what error prone boilerplate it can remove.\n"
   ]
  },
  {
   "cell_type": "code",
   "execution_count": null,
   "metadata": {
    "dotnet_interactive": {
     "language": "csharp"
    },
    "vscode": {
     "languageId": "dotnet-interactive.csharp"
    }
   },
   "outputs": [
    {
     "data": {
      "text/html": [
       "<table><thead><tr><th>Item1</th><th>Item2</th></tr></thead><tbody><tr><td><div class=\"dni-plaintext\">[ Hello, World ]</div></td><td><div class=\"dni-plaintext\">[  ]</div></td></tr></tbody></table>"
      ]
     },
     "metadata": {},
     "output_type": "display_data"
    }
   ],
   "source": [
    "using static LanguageExt.Prelude;\n",
    "\n",
    "Option<string> optionA = Some(\"Hello, \");\n",
    "Option<string> optionB = Some(\"World\");\n",
    "Option<string> optionNone = None;\n",
    "\n",
    "var result1 = \n",
    "    from x in optionA\n",
    "    from y in optionB\n",
    "    select x + y;\n",
    "\n",
    "var result2 = \n",
    "    from x in optionA\n",
    "    from y in optionB\n",
    "    from z in optionNone\n",
    "    select x + y + z;\n",
    "\n",
    "return (result1, result2);"
   ]
  },
  {
   "cell_type": "markdown",
   "metadata": {},
   "source": [
    "Result1 succesfully concatinated two strings and shows us \"Hello, World\".    \n",
    "Result2 failed because there was a bad string value and shows us \"\".    \n",
    "\n",
    "So, what did `Option` hide?"
   ]
  },
  {
   "cell_type": "code",
   "execution_count": null,
   "metadata": {
    "dotnet_interactive": {
     "language": "csharp"
    },
    "vscode": {
     "languageId": "dotnet-interactive.csharp"
    }
   },
   "outputs": [
    {
     "data": {
      "text/html": [
       "<table><thead><tr><th>Item1</th><th>Item2</th></tr></thead><tbody><tr><td><div class=\"dni-plaintext\">Hello, World</div></td><td><div class=\"dni-plaintext\">&lt;null&gt;</div></td></tr></tbody></table>"
      ]
     },
     "metadata": {},
     "output_type": "display_data"
    }
   ],
   "source": [
    "string valueA = \"Hello, \";\n",
    "string valueB = \"World\";\n",
    "string valueC = null;\n",
    "\n",
    "string result1 = null;\n",
    "if(valueA != null)\n",
    "{\n",
    "    if(valueB != null)\n",
    "    {\n",
    "       result1 = valueA + valueB; \n",
    "    }\n",
    "}\n",
    "\n",
    "string result2 = null;\n",
    "if(valueA != null)\n",
    "{\n",
    "    if(valueB != null)\n",
    "    {\n",
    "        if(valueC != null)\n",
    "        {\n",
    "           result2 = valueA + valueB + valueC; \n",
    "        }\n",
    "    }\n",
    "}\n",
    "\n",
    "return (result1, result2);"
   ]
  },
  {
   "cell_type": "markdown",
   "metadata": {},
   "source": [
    "Similar results - though that pesky `null` made a return! :(    \n",
    "    \n",
    "What else though?    \n",
    "We must manualy check for good values before our calculation using if statements    \n",
    "We may have introduced a bug \n",
    "- we cold have accidentally calculated `result1 = valueA + valueB + valueC;` which would be impossible in our first example. \n",
    "- we have no `else` and are not accounting for when the value is `null`, whad do wi actually want in this case?      \n",
    "\n",
    "We have introduced a higher Cyclomatic Complexity (even if you refactor nested ifs to &&'s)    "
   ]
  },
  {
   "cell_type": "markdown",
   "metadata": {},
   "source": [
    "What does this mean?\n",
    "```csharp\n",
    "from a in ma\n",
    "```\n",
    "This is saying \"Get the value a out of the monad ma\".    \n",
    "If the monad is IEnumerable then its the value in the stream.    \n",
    "If the monad is Option then its the value if it is not in a None state.    \n",
    "\n",
    "So how does this work?\n",
    "```csharp\n",
    "from a in ma\n",
    "from b in mb\n",
    "```\n",
    "This is saying \"If we got a value a, then get the value b out of mb\".  \n",
    "So if there was no value for ma, then we never try to get b out of mb.    \n",
    "This is capturing the if behaviour from before. The process is known as *binding*.\n",
    "\n",
    "finally we `select` - this means \"put the value a + b back into a new monad\".\n",
    "```csharp\n",
    "from a in ma\n",
    "from b in mb\n",
    "select a + b;\n",
    "```\n",
    "For IEnumerable this would mean \"create a new stream of values to put the result in\"    \n",
    "For Option this would mean \"create a new Option and put the results in\"\n",
    "\n",
    "\n",
    "In C# `Select` and `SelectMany` make a type monadic."
   ]
  },
  {
   "cell_type": "markdown",
   "metadata": {},
   "source": [
    "#### The Monad rules\n",
    "\n",
    "return: `a -> ma` (not c# return, think constructor)    \n",
    "bind: `ma -> (a -> mb) -> mb`\n",
    "\n",
    "So - a monad can put a value inside, and bind to another monad"
   ]
  }
 ],
 "metadata": {
  "kernelspec": {
   "display_name": ".NET (C#)",
   "language": "C#",
   "name": ".net-csharp"
  },
  "language_info": {
   "name": "C#"
  }
 },
 "nbformat": 4,
 "nbformat_minor": 2
}
