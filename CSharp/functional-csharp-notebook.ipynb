{
 "cells": [
  {
   "cell_type": "markdown",
   "metadata": {},
   "source": [
    "Following this course: https://github.com/louthy/language-ext/wiki/Thinking-Functionally    "
   ]
  },
  {
   "cell_type": "code",
   "execution_count": null,
   "metadata": {
    "dotnet_interactive": {
     "language": "csharp"
    },
    "vscode": {
     "languageId": "dotnet-interactive.csharp"
    }
   },
   "outputs": [
    {
     "data": {
      "text/html": [
       "<div><div></div><div></div><div><strong>Installed Packages</strong><ul><li><span>LanguageExt.Core, 4.2.9</span></li><li><span>Shouldly, 4.0.3</span></li></ul></div></div>"
      ]
     },
     "metadata": {},
     "output_type": "display_data"
    }
   ],
   "source": [
    "// quick setup\n",
    "#r \"nuget:Shouldly\"\n",
    "#r \"nuget:LanguageExt.Core\"\n",
    "using Shouldly;\n",
    "using LanguageExt;"
   ]
  },
  {
   "cell_type": "markdown",
   "metadata": {},
   "source": [
    "### Sarting simple\n",
    "`AddOne :: int -> int`    \n",
    "A function \"maps\" a value in the \"domain\" to a value in the \"range\". There is no \"computation\"."
   ]
  },
  {
   "cell_type": "code",
   "execution_count": null,
   "metadata": {
    "dotnet_interactive": {
     "language": "csharp"
    },
    "vscode": {
     "languageId": "dotnet-interactive.csharp"
    }
   },
   "outputs": [
    {
     "data": {
      "text/html": [
       "<div class=\"dni-plaintext\">6</div>"
      ]
     },
     "metadata": {},
     "output_type": "display_data"
    }
   ],
   "source": [
    "int AddOne(int x) => x + 1;\n",
    "return AddOne(5);"
   ]
  },
  {
   "cell_type": "markdown",
   "metadata": {},
   "source": [
    "#### Important notes:    \n",
    "`x` is not something that can change once we pass 5 in.    \n",
    "This is not assignment - What is happening here is \"binding\".    \n",
    "Once a domain value is \"bound\" is cannot be changed.     \n",
    "`x` is a placeholder that can be referred to later, not changed.    \n",
    "**There are no \"variables\", only values**\n",
    "\n",
    "_side note, yes x is a variable being assigned a value - but it is forbidden 'functionaly'_"
   ]
  },
  {
   "cell_type": "markdown",
   "metadata": {},
   "source": [
    "### Function Values\n",
    "`Func<domain, range>`    \n",
    "\n",
    "Similarly - the name `AddOne` is just a \"binding\" to \"the function that adds one to its input\"    \n",
    "\"Every time you see the name `AddOne`, replace it with the function that adds one to its input\".    \n",
    "\n",
    "For example, we can \"bind\" `AddOne` to a new name.    \n",
    "`PlusOne` and `AddOne` are \"bound\" to the same value, which is the function that adds one to its input.    "
   ]
  },
  {
   "cell_type": "code",
   "execution_count": null,
   "metadata": {
    "dotnet_interactive": {
     "language": "csharp"
    },
    "vscode": {
     "languageId": "dotnet-interactive.csharp"
    }
   },
   "outputs": [
    {
     "data": {
      "text/html": [
       "<table><thead><tr><th>Item1</th><th>Item2</th></tr></thead><tbody><tr><td><div class=\"dni-plaintext\">6</div></td><td><div class=\"dni-plaintext\">6</div></td></tr></tbody></table>"
      ]
     },
     "metadata": {},
     "output_type": "display_data"
    }
   ],
   "source": [
    "Func<int, int> PlusOne = AddOne;\n",
    "return (PlusOne(5), AddOne(5));"
   ]
  },
  {
   "cell_type": "markdown",
   "metadata": {},
   "source": [
    "### Simple Value\n",
    "Imagine an operation that always returns `5` - this is a constant.    \n",
    "in \"C#\" you can easily define that with the following: `const int C = 5;` or `static int C => 5; //Func<int>`.      \n",
    "simple values do not need to be evaluated once \"bound\" - This is the subtle difference between them and function values, otherwise they are both values of Func.\n",
    "\n",
    "With this, `5` and `Five` are both just values that can be passed around. - This is a key part of thinking functionaly: functions are values that can be passed around to other functions.\n",
    "\n",
    "A constant function for `5` would be defined as:    \n",
    "`Func<Unit, int>`   "
   ]
  },
  {
   "cell_type": "code",
   "execution_count": null,
   "metadata": {
    "dotnet_interactive": {
     "language": "csharp"
    },
    "vscode": {
     "languageId": "dotnet-interactive.csharp"
    }
   },
   "outputs": [
    {
     "data": {
      "text/html": [
       "<table><thead><tr><th>Item1</th><th>Item2</th><th>Item3</th><th>Item4</th></tr></thead><tbody><tr><td><div class=\"dni-plaintext\">6</div></td><td><div class=\"dni-plaintext\">6</div></td><td><div class=\"dni-plaintext\">6</div></td><td><div class=\"dni-plaintext\">6</div></td></tr></tbody></table>"
      ]
     },
     "metadata": {},
     "output_type": "display_data"
    }
   ],
   "source": [
    "const int C = 5;\n",
    "//or\n",
    "static int C_alt => 5;\n",
    "//or\n",
    "static int Five_alt(Unit _) => 5;\n",
    "//or\n",
    "Func<Unit, int> Five = _ => 5;\n",
    "\n",
    "return (AddOne(C), AddOne(C_alt), AddOne(Five(Unit.Default)), AddOne(Five_alt(Unit.Default)));"
   ]
  },
  {
   "cell_type": "markdown",
   "metadata": {},
   "source": [
    "### \"Objects\" vs \"Values\"\n",
    "\n",
    "Values:\n",
    "- A member of a domain. The domain of ints, strings, functions that map ints to strings, etc...    \n",
    "- They are immutable\n",
    "- They have no behaviour\n",
    "\n",
    "Objects: \n",
    "- Encapsulation of data with associated behaviour\n",
    "- Mutable\n",
    "\n",
    "Avoid using \"object\" for standard values for functional C#.    \n",
    "It should only be used to refer to true classes, or values that expose member functions."
   ]
  },
  {
   "cell_type": "markdown",
   "metadata": {},
   "source": [
    "### How types work with functions\n"
   ]
  }
 ],
 "metadata": {
  "kernelspec": {
   "display_name": ".NET (C#)",
   "language": "C#",
   "name": ".net-csharp"
  },
  "language_info": {
   "name": "C#"
  }
 },
 "nbformat": 4,
 "nbformat_minor": 2
}
