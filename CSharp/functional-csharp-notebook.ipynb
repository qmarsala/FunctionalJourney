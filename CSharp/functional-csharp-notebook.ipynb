{
 "cells": [
  {
   "cell_type": "markdown",
   "metadata": {},
   "source": [
    "Following this course: https://github.com/louthy/language-ext/wiki/Thinking-Functionally    "
   ]
  },
  {
   "cell_type": "code",
   "execution_count": null,
   "metadata": {
    "dotnet_interactive": {
     "language": "csharp"
    },
    "vscode": {
     "languageId": "dotnet-interactive.csharp"
    }
   },
   "outputs": [
    {
     "data": {
      "text/html": [
       "<div><div></div><div></div><div><strong>Installed Packages</strong><ul><li><span>LanguageExt.Core, 4.2.9</span></li></ul></div></div>"
      ]
     },
     "metadata": {},
     "output_type": "display_data"
    }
   ],
   "source": [
    "// quick setup\n",
    "#r \"nuget:LanguageExt.Core\"\n",
    "using LanguageExt;\n",
    "using LanguageExt.ClassInstances;\n",
    "using static LanguageExt.Prelude;\n",
    "using static LanguageExt.List;\n",
    "using static System.Console;"
   ]
  },
  {
   "cell_type": "markdown",
   "metadata": {},
   "source": [
    "### Starting simple\n",
    "`AddOne :: int -> int`    \n",
    "A function \"maps\" a value in the \"domain\" to a value in the \"range\". There is no \"computation\"."
   ]
  },
  {
   "cell_type": "code",
   "execution_count": null,
   "metadata": {
    "dotnet_interactive": {
     "language": "csharp"
    },
    "vscode": {
     "languageId": "dotnet-interactive.csharp"
    }
   },
   "outputs": [
    {
     "data": {
      "text/html": [
       "<div class=\"dni-plaintext\">6</div>"
      ]
     },
     "metadata": {},
     "output_type": "display_data"
    }
   ],
   "source": [
    "int AddOne(int x) => x + 1;\n",
    "return AddOne(5);"
   ]
  },
  {
   "cell_type": "markdown",
   "metadata": {},
   "source": [
    "#### Important notes:    \n",
    "`x` is not something that can change once we pass 5 in.    \n",
    "This is not assignment - What is happening here is \"binding\".    \n",
    "Once a domain value is \"bound\" is cannot be changed.     \n",
    "`x` is a placeholder that can be referred to later, not changed.    \n",
    "**There are no \"variables\", only values**\n",
    "\n",
    "_side note, yes x is a variable being assigned a value - but it is forbidden 'functionaly'_"
   ]
  },
  {
   "cell_type": "markdown",
   "metadata": {},
   "source": [
    "### Function Values\n",
    "`Func<domain, range>`    \n",
    "\n",
    "Similarly - the name `addOne` is just a \"binding\" to \"the function that adds one to its input\"    \n",
    "\"Every time you see the name `addOne`, replace it with the function that adds one to its input\".    \n",
    "\n",
    "For example, we can \"bind\" `addOne` to a new name.    \n",
    "`plusOne` and `addOne` are \"bound\" to the same value, which is the function that adds one to its input.    \n",
    "`plusOne :: int -> int`"
   ]
  },
  {
   "cell_type": "code",
   "execution_count": null,
   "metadata": {
    "dotnet_interactive": {
     "language": "csharp"
    },
    "vscode": {
     "languageId": "dotnet-interactive.csharp"
    }
   },
   "outputs": [
    {
     "data": {
      "text/html": [
       "<table><thead><tr><th>Item1</th><th>Item2</th></tr></thead><tbody><tr><td><div class=\"dni-plaintext\">6</div></td><td><div class=\"dni-plaintext\">6</div></td></tr></tbody></table>"
      ]
     },
     "metadata": {},
     "output_type": "display_data"
    }
   ],
   "source": [
    "Func<int, int> plusOne = AddOne;\n",
    "return (plusOne(5), AddOne(5));"
   ]
  },
  {
   "cell_type": "markdown",
   "metadata": {},
   "source": [
    "### Simple Value\n",
    "Imagine an operation that always returns `5` - this is a constant.    \n",
    "in \"C#\" you can easily define that with the following: `const int C = 5;` or `static int C => 5; //Func<int>`.      \n",
    "simple values do not need to be evaluated once \"bound\" - This is the subtle difference between them and function values, otherwise they are both values of Func.\n",
    "\n",
    "With this, `5` and `five` are both just values that can be passed around. - This is a key part of thinking functionaly: functions are values that can be passed around to other functions.\n",
    "\n",
    "A constant function for `5` would be defined as:    \n",
    "`Func<Unit, int>`   \n",
    "`five :: () -> int`"
   ]
  },
  {
   "cell_type": "code",
   "execution_count": null,
   "metadata": {
    "dotnet_interactive": {
     "language": "csharp"
    },
    "vscode": {
     "languageId": "dotnet-interactive.csharp"
    }
   },
   "outputs": [
    {
     "data": {
      "text/html": [
       "<table><thead><tr><th>Item1</th><th>Item2</th><th>Item3</th><th>Item4</th></tr></thead><tbody><tr><td><div class=\"dni-plaintext\">6</div></td><td><div class=\"dni-plaintext\">6</div></td><td><div class=\"dni-plaintext\">6</div></td><td><div class=\"dni-plaintext\">6</div></td></tr></tbody></table>"
      ]
     },
     "metadata": {},
     "output_type": "display_data"
    }
   ],
   "source": [
    "const int C = 5;\n",
    "//or\n",
    "int C_alt => 5;\n",
    "//or\n",
    "Func<Unit, int> five = _ => 5;\n",
    "//or\n",
    "int Five(Unit _) => 5;\n",
    "\n",
    "return (AddOne(C), AddOne(C_alt), AddOne(five(unit)), AddOne(Five(unit)));\n",
    "\n",
    "// the presence of \"Unit\" is a bit annoying, this gets cleaned up later on."
   ]
  },
  {
   "cell_type": "markdown",
   "metadata": {},
   "source": [
    "### \"Objects\" vs \"Values\"\n",
    "\n",
    "Values:\n",
    "- A member of a domain. The domain of ints, strings, functions that map ints to strings, etc...    \n",
    "- They are immutable\n",
    "- They have no behaviour\n",
    "\n",
    "Objects: \n",
    "- Encapsulation of data with associated behaviour\n",
    "- Mutable\n",
    "\n",
    "Avoid using \"object\" for standard values for functional C#.    \n",
    "It should only be used to refer to true classes, or values that expose member functions."
   ]
  },
  {
   "cell_type": "markdown",
   "metadata": {},
   "source": [
    "### How types work with functions\n",
    "\n",
    "Type notation: `domain -> range` == (C#) `Func<domain, range>`\n",
    "\n",
    "\"Higher-Order functions\": A function that takes a function as a paramater, or returns another function.    \n",
    "Think of LINQ `Select` or `Where`.\n",
    "\n",
    "Example:\n",
    "`EvalWith5ThenAdd2 :: (int -> int) -> int`"
   ]
  },
  {
   "cell_type": "code",
   "execution_count": null,
   "metadata": {
    "dotnet_interactive": {
     "language": "csharp"
    },
    "vscode": {
     "languageId": "dotnet-interactive.csharp"
    }
   },
   "outputs": [
    {
     "data": {
      "text/html": [
       "<div class=\"dni-plaintext\">8</div>"
      ]
     },
     "metadata": {},
     "output_type": "display_data"
    }
   ],
   "source": [
    "int EvalWith5ThenAdd2(Func<int, int> fn) => \n",
    "    fn(5) + 2;\n",
    "\n",
    "return EvalWith5ThenAdd2(AddOne);"
   ]
  },
  {
   "cell_type": "markdown",
   "metadata": {},
   "source": [
    "In this function the domain is `(int -> int)` and the range is `int`.    \n",
    "This means the input is a function that maps ints to ints, and the output is just an int.    \n",
    "\n",
    "`timesThree :: int -> int`"
   ]
  },
  {
   "cell_type": "code",
   "execution_count": null,
   "metadata": {
    "dotnet_interactive": {
     "language": "csharp"
    },
    "vscode": {
     "languageId": "dotnet-interactive.csharp"
    }
   },
   "outputs": [
    {
     "data": {
      "text/html": [
       "<div class=\"dni-plaintext\">17</div>"
      ]
     },
     "metadata": {},
     "output_type": "display_data"
    }
   ],
   "source": [
    "Func<int, int> timesThree = x => x * 3;\n",
    "\n",
    "return EvalWith5ThenAdd2(timesThree);"
   ]
  },
  {
   "cell_type": "markdown",
   "metadata": {},
   "source": [
    "Now, lets return a function rather than use one as input.    \n",
    "`AdderGenerator :: int -> (int -> int)`"
   ]
  },
  {
   "cell_type": "code",
   "execution_count": null,
   "metadata": {
    "dotnet_interactive": {
     "language": "csharp"
    },
    "vscode": {
     "languageId": "dotnet-interactive.csharp"
    }
   },
   "outputs": [
    {
     "data": {
      "text/html": [
       "<table><thead><tr><th>Item1</th><th>Item2</th></tr></thead><tbody><tr><td><div class=\"dni-plaintext\">2</div></td><td><div class=\"dni-plaintext\">3</div></td></tr></tbody></table>"
      ]
     },
     "metadata": {},
     "output_type": "display_data"
    }
   ],
   "source": [
    "Func<int, int> AdderGenerator(int numberToAdd) => \n",
    "    x =>  x + numberToAdd;\n",
    "\n",
    "//or\n",
    "\n",
    "Func<int, Func<int,int>> AdderGenerator_alt = numberToAdd => \n",
    "    x => x + numberToAdd;\n",
    "\n",
    "// create new adders\n",
    "var add1 = AdderGenerator(1);\n",
    "var add2 = AdderGenerator_alt(2);\n",
    "\n",
    "return (add1(1), add2(1));"
   ]
  },
  {
   "cell_type": "markdown",
   "metadata": {},
   "source": [
    "### void?\n",
    "\n",
    "How do we deal with something like:\n",
    "```csharp\n",
    "void PrintInt(int x)\n",
    "{\n",
    "    Console.WriteLine(x);\n",
    "}\n",
    "```\n",
    "We cannot have `int -> void` since void is the absence of a value. But our function must have a range to map to.  Every function must have some output to map to.    \n",
    "`Unit` to the rescue - it is like a `bool` which has two possible values `true`, `false`, though it only has one possible value `unit`.\n"
   ]
  },
  {
   "cell_type": "markdown",
   "metadata": {},
   "source": [
    "In Funtional langauges the `Unit` type is often reffered to as `()` - however in C# this is a method invocation with no inputs.    \n",
    "Since declaring this concept in c# fully is a bit verbose as we saw earlier with `Five` it is often omitted as an input.    \n",
    "\n",
    "Example:\n",
    "`WhatIsThis :: () -> ()`"
   ]
  },
  {
   "cell_type": "code",
   "execution_count": null,
   "metadata": {
    "dotnet_interactive": {
     "language": "csharp"
    },
    "vscode": {
     "languageId": "dotnet-interactive.csharp"
    }
   },
   "outputs": [
    {
     "data": {
      "text/html": [
       "<table><thead><tr><th>Item1</th><th>Item2</th></tr></thead><tbody><tr><td><div class=\"dni-plaintext\">5</div></td><td><div class=\"dni-plaintext\">5</div></td></tr></tbody></table>"
      ]
     },
     "metadata": {},
     "output_type": "display_data"
    }
   ],
   "source": [
    "Unit WhatIsThis(Unit _) => unit;\n",
    "// or better yet - which captures a bit of that functional syntax by omitting the unit input\n",
    "Unit WhatIsThis() => unit;\n",
    "\n",
    "// doesn't compile because we must return a unit\n",
    "/*\n",
    "Unit DoSomething() => 1 + 1; \n",
    "*/\n",
    "Unit DoSomething() => ignore(1 + 1); // ignore is a wrapper to satisfy the c# compiler\n",
    "\n",
    "// five could now be expressed as\n",
    "Func<int> five = () => 5;\n",
    "//or\n",
    "int Five() => 5;\n",
    "\n",
    "return (five(), Five()); // much better"
   ]
  },
  {
   "cell_type": "markdown",
   "metadata": {},
   "source": [
    "#### Other useful types"
   ]
  },
  {
   "cell_type": "code",
   "execution_count": null,
   "metadata": {
    "dotnet_interactive": {
     "language": "csharp"
    },
    "vscode": {
     "languageId": "dotnet-interactive.csharp"
    }
   },
   "outputs": [],
   "source": [
    "var tuples = (\"Hello\", 1);\n",
    "Lst<int> list = List(1,2,3); // immutable, fixed size\n",
    "Arr<int> arr = Array(1,2,3); // immutable, fixed size\n",
    "Seq<int> seq = Seq(Range(1,10)); // similar to IEnumerable, but not infinite\n",
    "\n",
    "Option<int> someInt = Some(1); // options wrap values that may be missing\n",
    "Option<int> noInt = None;"
   ]
  },
  {
   "cell_type": "markdown",
   "metadata": {},
   "source": [
    "### Currying\n",
    "If 'functionaly' we can only have one input, how do we pass multiple inputs?    \n",
    "1. tuples\n",
    "2. currying! - a series of functions that each take one paramater    \n",
    "\n",
    "Example: `PrintTwoParameters :: int -> int -> ()`"
   ]
  },
  {
   "cell_type": "code",
   "execution_count": null,
   "metadata": {
    "dotnet_interactive": {
     "language": "csharp"
    },
    "vscode": {
     "languageId": "dotnet-interactive.csharp"
    }
   },
   "outputs": [],
   "source": [
    "Func<int, Func<int, Unit>> printTwoParameters = x => y => \n",
    "{\n",
    "    Console.WriteLine($\"x:{x}, y:{y}\");\n",
    "    return unit;\n",
    "};"
   ]
  },
  {
   "cell_type": "markdown",
   "metadata": {},
   "source": [
    "We now have a function that takes a single argument and returns a new function with that parameter baked in.  The new function also takes a single parameter.    "
   ]
  },
  {
   "cell_type": "code",
   "execution_count": null,
   "metadata": {
    "dotnet_interactive": {
     "language": "csharp"
    },
    "vscode": {
     "languageId": "dotnet-interactive.csharp"
    }
   },
   "outputs": [
    {
     "name": "stdout",
     "output_type": "stream",
     "text": [
      "x:1, y:2\r\n",
      "x:1, y:2\r\n"
     ]
    }
   ],
   "source": [
    "var printOneThenY = printTwoParameters(1); // create a new func that prints 1 and whatever else you give it.\n",
    "printOneThenY(2); // finish the function logic with the second parameter.\n",
    "//or\n",
    "printTwoParameters(1)(2);"
   ]
  },
  {
   "cell_type": "markdown",
   "metadata": {},
   "source": [
    "Decalring functions the 'functional way' is a bit verbose and has a runtime cost in c#, so just declare them the 'classical way'"
   ]
  },
  {
   "cell_type": "code",
   "execution_count": null,
   "metadata": {
    "dotnet_interactive": {
     "language": "csharp"
    },
    "vscode": {
     "languageId": "dotnet-interactive.csharp"
    }
   },
   "outputs": [
    {
     "name": "stdout",
     "output_type": "stream",
     "text": [
      "x=1, y=2\r\n"
     ]
    }
   ],
   "source": [
    "static Unit PrintTwoParameters_classical(int x, int y)\n",
    "{\n",
    "    Console.WriteLine($\"x={x}, y={y}\");\n",
    "    return unit;\n",
    "}\n",
    "\n",
    "PrintTwoParameters_classical(1,2);"
   ]
  },
  {
   "cell_type": "markdown",
   "metadata": {},
   "source": [
    "Declaring functions \"the classical way\" misses out on the power of \"curring\"    \n",
    "Language-ext has a prelude function to help restore this missing power."
   ]
  },
  {
   "cell_type": "code",
   "execution_count": null,
   "metadata": {
    "dotnet_interactive": {
     "language": "csharp"
    },
    "vscode": {
     "languageId": "dotnet-interactive.csharp"
    }
   },
   "outputs": [
    {
     "name": "stdout",
     "output_type": "stream",
     "text": [
      "x=1, y=2\r\n",
      "x=1, y=2\r\n"
     ]
    }
   ],
   "source": [
    "var printTwoParmeters_curry = curry<int, int, Unit>(PrintTwoParameters_classical);\n",
    "var x = 1;\n",
    "var y = 2;\n",
    "var printOneThenY_curry = printTwoParmeters_curry(x);\n",
    "var result  = printOneThenY_curry(y);\n",
    "printTwoParmeters_curry(x)(y);\n",
    "\n",
    "// or if input is a 'Func'\n",
    "Func<int,int,Unit> printTwoParameters_classicalFunc = (x, y) => \n",
    "{\n",
    "    Console.WriteLine($\"x={x}, y={y}\");\n",
    "    return unit;\n",
    "};\n",
    "var alt = curry(printTwoParameters_classicalFunc); // input as 'Func' allows you to ommit type params"
   ]
  },
  {
   "cell_type": "markdown",
   "metadata": {},
   "source": [
    "### Partial Application\n"
   ]
  },
  {
   "cell_type": "markdown",
   "metadata": {},
   "source": [
    "Currying leads to 'partial application' - a powerful concept.    \n",
    "The idea is to take a function of N parameters and apply some of the arguments, returning a new function of the remaining arguments.    \n",
    "This is similar to `AdderGenerator` but more generalized.    \n",
    "\n",
    "Example:    \n",
    "`add :: int -> int -> int`    \n",
    "partially apply 2 to get        \n",
    "`addTwo :: int -> int`    \n",
    "\n",
    "`isLessThan :: int -> int -> bool`    \n",
    "partially apply 5 to get    \n",
    "`isLessThan5 :: int -> bool`"
   ]
  },
  {
   "cell_type": "code",
   "execution_count": null,
   "metadata": {
    "dotnet_interactive": {
     "language": "csharp"
    },
    "vscode": {
     "languageId": "dotnet-interactive.csharp"
    }
   },
   "outputs": [
    {
     "name": "stdout",
     "output_type": "stream",
     "text": [
      "3\r\n",
      "(True, False)\r\n",
      "(True, False)\r\n"
     ]
    }
   ],
   "source": [
    "Func<int, int, int> add = (x, y) => x + y;\n",
    "// partial application can be a bit messy in c# so language-ext helps out here.\n",
    "Func<int,int> addTwo = par(add, 2); // partial application\n",
    "\n",
    "WriteLine(addTwo(1));\n",
    "\n",
    "Func<int, int, bool> isLessThan = (x, y) => x > y;\n",
    "Func<int, bool> isLessThan5 = par(isLessThan, 5); \n",
    "Func<int, bool> isGreaterThan5 = lpar(isLessThan, 5);\n",
    "\n",
    "WriteLine((isLessThan5(4), isGreaterThan5(4)));\n",
    "\n",
    "// closer look at par and lpar\n",
    "var isLessThan_fn = (int x) => (int y) => x > y; // a curry-able version of isLessThan, could also expressed as isLessThan_fn = curry(isLessThan);\n",
    "Func<int, bool> isLessThan5_fn = isLessThan_fn(5); // partially apply 5\n",
    "Func<int, bool> isGreaterThan5_fn = x => isLessThan_fn(x)(5); // partially apply 5 'from the left' - basically reverse par\n",
    "\n",
    "WriteLine((isLessThan5_fn(4), isGreaterThan5_fn(4)));\n",
    "\n",
    "// more examples\n"
   ]
  },
  {
   "cell_type": "markdown",
   "metadata": {},
   "source": [
    "A few more examples    \n",
    "\n",
    "Later on, we will revisit this example to show how much more powerful this can be."
   ]
  },
  {
   "cell_type": "code",
   "execution_count": null,
   "metadata": {
    "vscode": {
     "languageId": "dotnet-interactive.csharp"
    }
   },
   "outputs": [
    {
     "name": "stdout",
     "output_type": "stream",
     "text": [
      "x=2\r\n",
      "y=4\r\n",
      "x+y=6\r\n",
      "x=6\r\n",
      "y=3\r\n",
      "x+y=9\r\n"
     ]
    }
   ],
   "source": [
    "Func<Func<string, int, Unit>, int, int, int> adderWithPluggableLogger = (logger, x, y) =>  \n",
    "{\n",
    "    logger(\"x\", x);\n",
    "    logger(\"y\", y);\n",
    "    var result = x + y;\n",
    "    logger(\"x+y\", result);\n",
    "    return result;\n",
    "};\n",
    "\n",
    "Func<string, int, Unit> consoleLogger = (name, val) => \n",
    "{\n",
    "    Console.WriteLine($\"{name}={val}\"); \n",
    "    return unit;\n",
    "};\n",
    "\n",
    "var addWithConsoleLogging = par(adderWithPluggableLogger, consoleLogger);\n",
    "var six = addWithConsoleLogging(2,4);\n",
    "\n",
    "var addSixWithConsoleLogging = par(addWithConsoleLogging, six);\n",
    "addSixWithConsoleLogging(3);"
   ]
  },
  {
   "cell_type": "markdown",
   "metadata": {},
   "source": [
    "### Function Composition \n",
    "Taking the output of one function, and using it as the input of another function.    \n",
    "\n",
    "For example, if you have a function that maps from T1 -> T2 and another function that maps from T2 -> T3, then you can compose them giving you a new function that maps from T1 -> T3.    "
   ]
  },
  {
   "cell_type": "code",
   "execution_count": null,
   "metadata": {
    "dotnet_interactive": {
     "language": "csharp"
    },
    "vscode": {
     "languageId": "dotnet-interactive.csharp"
    }
   },
   "outputs": [
    {
     "data": {
      "text/html": [
       "<div class=\"dni-plaintext\">True</div>"
      ]
     },
     "metadata": {},
     "output_type": "display_data"
    }
   ],
   "source": [
    "// f(x)\n",
    "Func<string, int> f = x => x.Length;\n",
    "// g(x)\n",
    "Func<int, bool> g = x => x < 3;\n",
    "\n",
    "// a new function that uses the output of f(x) as the input of g(x)\n",
    "// h(x) = g o f - that is g of f, or g after f\n",
    "Func<string, bool> h = x => g(f(x));\n",
    "//or using language-ext\n",
    "Func<string, bool> h_composed = compose(f, g);\n",
    "//language-ext alt\n",
    "Func<string, bool> h_composed_alt = f.Compose(g);\n",
    "//classical\n",
    "bool h_classical (string x)\n",
    "{\n",
    "    var y = f(x);\n",
    "    return g(y);\n",
    "}\n",
    "\n",
    "\n",
    "return h(\"hi\");"
   ]
  },
  {
   "cell_type": "markdown",
   "metadata": {},
   "source": [
    "### Combinators\n",
    "A combinator is a function whos results only depends on the functions parameters. That is to say, a combinator is a function that only combines its parameters in some way.    \n",
    "`compose` for example is a combinator, while `Console.WriteLine` is not.    \n",
    "`compose` only uses its parameters, while `Console.WriteLine` depends on I/O."
   ]
  },
  {
   "cell_type": "markdown",
   "metadata": {},
   "source": [
    "**Combinator Birds**"
   ]
  },
  {
   "cell_type": "code",
   "execution_count": null,
   "metadata": {
    "dotnet_interactive": {
     "language": "csharp"
    },
    "vscode": {
     "languageId": "dotnet-interactive.csharp"
    }
   },
   "outputs": [],
   "source": [
    "/// Identity function, or the Idiot bird\n",
    "A I<A>(A x) => x;\n",
    "\n",
    "/// The Kestrel\n",
    "Func<B,A> K<A,B>(A x) => (B y) => x;\n",
    "\n",
    "/// The Mockingbird\n",
    "Func<A, A> M<A>(Func<A,A> x) => a => x(x(a));\n",
    "\n",
    "/// The Thrush\n",
    "Func<Func<A, B>, B> T<A, B>(A x) => (Func<A, B> y) => y(x);\n",
    "\n",
    "/// The Queer bird\n",
    "Func<Func<B, C>, Func<A, C>> Q<A, B, C>(Func<A, B> x) => (Func<B, C> y) => (A z) \n",
    "    => y(x(z));\n",
    "\n",
    "/// The Starling\n",
    "Func<Func<A, B>, Func<A, C>> S<A, B, C>(Func<A, B, C> x) => (Func<A, B> y) => (A z) =>\n",
    "    x(z, y(z));\n",
    "\n",
    "/// The infamous Y-combinator, or Sage bird\n",
    "Func<A, B> Y<A, B>(Func<Func<A, B>, A, B> f) => (A x) =>\n",
    "    f(Y<A, B>(f), x);"
   ]
  },
  {
   "cell_type": "markdown",
   "metadata": {},
   "source": [
    "We will explore thes combinator mose closely when we use a different language such as Haskell, JS, or raw lambda calculus.  It is a bit messy in C#.    \n",
    "That being said, here are a few cool things about these combinatos.    \n",
    "`The Kestral`: This combinator is used to define \"true\", a const, or the first of two things.  It is also the same pattern you use when you create a fluent api in c# (returning yourself).    \n",
    "`The Thrush`: applies x to y, this is the \"pipe\" opperator.    \n",
    "`The Queer bird`: forward composition - 'f andThen g', where backards composition would ge 'f after g'.    \n",
    "`Y-combinator or Sage bird`: Recursion!"
   ]
  },
  {
   "cell_type": "markdown",
   "metadata": {},
   "source": [
    "A combinator is the safest form of a function. There is nothing outside of the function that can change its result.        \n",
    "Using combitators from a combinator library is like using Lego from a lego set to create something new.    \n",
    "\n",
    "Example:"
   ]
  },
  {
   "cell_type": "code",
   "execution_count": null,
   "metadata": {
    "dotnet_interactive": {
     "language": "csharp"
    },
    "vscode": {
     "languageId": "dotnet-interactive.csharp"
    }
   },
   "outputs": [
    {
     "data": {
      "text/html": [
       "<div><div></div><div></div><div><strong>Installed Packages</strong><ul><li><span>LanguageExt.Parsec, 4.2.9</span></li></ul></div></div>"
      ]
     },
     "metadata": {},
     "output_type": "display_data"
    }
   ],
   "source": [
    "// combinator lib for parsing\n",
    "\n",
    "#r \"nuget:LanguageExt.Parsec\"\n",
    "using LanguageExt.Parsec;\n",
    "using static LanguageExt.Parsec.Prim;\n",
    "using static LanguageExt.Parsec.Char;\n",
    "using static LanguageExt.Parsec.Expr;\n",
    "using static LanguageExt.Parsec.Token;"
   ]
  },
  {
   "cell_type": "markdown",
   "metadata": {},
   "source": [
    "Lets parse some characters!"
   ]
  },
  {
   "cell_type": "code",
   "execution_count": null,
   "metadata": {
    "dotnet_interactive": {
     "language": "csharp"
    },
    "vscode": {
     "languageId": "dotnet-interactive.csharp"
    }
   },
   "outputs": [
    {
     "data": {
      "text/html": [
       "<div class=\"dni-plaintext\">a</div>"
      ]
     },
     "metadata": {},
     "output_type": "display_data"
    }
   ],
   "source": [
    "var parser = ch('a'); // creates a parser that can read 'a'.\n",
    "var result = parse(parser, \"abcde\");\n",
    "\n",
    "return result.Reply.Result;"
   ]
  },
  {
   "cell_type": "code",
   "execution_count": null,
   "metadata": {
    "dotnet_interactive": {
     "language": "csharp"
    },
    "vscode": {
     "languageId": "dotnet-interactive.csharp"
    }
   },
   "outputs": [
    {
     "data": {
      "text/html": [
       "<table><thead><tr><th>Item1</th><th>Item2</th></tr></thead><tbody><tr><td><div class=\"dni-plaintext\">a</div></td><td><div class=\"dni-plaintext\">b</div></td></tr></tbody></table>"
      ]
     },
     "metadata": {},
     "output_type": "display_data"
    }
   ],
   "source": [
    "var parser = satisfy(System.Char.IsLetter); // create a parser that can look for things based on a predicate, in this case all letters.\n",
    "var aResult = parse(parser, \"abcde\");\n",
    "var bResult = parse(letter, \"bcdea\"); // lang-ext built in letter parser\n",
    "\n",
    "return (aResult.Reply.Result, bResult.Reply.Result);"
   ]
  },
  {
   "cell_type": "markdown",
   "metadata": {},
   "source": [
    "Great! but this only reads one character.  What if we want to read more?"
   ]
  },
  {
   "cell_type": "code",
   "execution_count": null,
   "metadata": {
    "dotnet_interactive": {
     "language": "csharp"
    },
    "vscode": {
     "languageId": "dotnet-interactive.csharp"
    }
   },
   "outputs": [
    {
     "data": {
      "text/html": [
       "<table><thead><tr><th><i>index</i></th><th>value</th></tr></thead><tbody><tr><td>0</td><td><div class=\"dni-plaintext\">a</div></td></tr><tr><td>1</td><td><div class=\"dni-plaintext\">b</div></td></tr><tr><td>2</td><td><div class=\"dni-plaintext\">c</div></td></tr><tr><td>3</td><td><div class=\"dni-plaintext\">d</div></td></tr><tr><td>4</td><td><div class=\"dni-plaintext\">e</div></td></tr></tbody></table>"
      ]
     },
     "metadata": {},
     "output_type": "display_data"
    }
   ],
   "source": [
    "var parser = many1(letter); // many1 will execute 'letter' 1 or more times and return a Seq\n",
    "var result = parse(parser, \"abcde\");\n",
    "\n",
    "return result.Reply.Result;"
   ]
  },
  {
   "cell_type": "code",
   "execution_count": null,
   "metadata": {
    "dotnet_interactive": {
     "language": "csharp"
    },
    "vscode": {
     "languageId": "dotnet-interactive.csharp"
    }
   },
   "outputs": [
    {
     "data": {
      "text/html": [
       "<table><thead><tr><th><i>index</i></th><th>value</th></tr></thead><tbody><tr><td>0</td><td><div class=\"dni-plaintext\">t</div></td></tr><tr><td>1</td><td><div class=\"dni-plaintext\">w</div></td></tr><tr><td>2</td><td><div class=\"dni-plaintext\">o</div></td></tr></tbody></table>"
      ]
     },
     "metadata": {},
     "output_type": "display_data"
    }
   ],
   "source": [
    "var parser = many1(letter);\n",
    "var result = parse(parser, \"two words\");\n",
    "\n",
    "return result.Reply.Result; // oh no! it stopped after the space - it isn't a letter"
   ]
  },
  {
   "cell_type": "code",
   "execution_count": null,
   "metadata": {
    "dotnet_interactive": {
     "language": "csharp"
    },
    "vscode": {
     "languageId": "dotnet-interactive.csharp"
    }
   },
   "outputs": [
    {
     "data": {
      "text/html": [
       "<table><thead><tr><th><i>index</i></th><th>value</th></tr></thead><tbody><tr><td>0</td><td><div class=\"dni-plaintext\">t</div></td></tr><tr><td>1</td><td><div class=\"dni-plaintext\">w</div></td></tr><tr><td>2</td><td><div class=\"dni-plaintext\">o</div></td></tr></tbody></table>"
      ]
     },
     "metadata": {},
     "output_type": "display_data"
    }
   ],
   "source": [
    "var spaces = many(satisfy(System.Char.IsWhiteSpace)); // many is 0 or more times\n",
    "var word = from w in many1(letter)\n",
    "           from s in spaces\n",
    "           select w;\n",
    "\n",
    "var result = parse(word, \"two words\");\n",
    "return result.Reply.Result; // so far it doesn't seem any better, but since we handle spaces now lets try and apply our \"word\" parser \"many\" times."
   ]
  },
  {
   "cell_type": "code",
   "execution_count": null,
   "metadata": {
    "dotnet_interactive": {
     "language": "csharp"
    },
    "vscode": {
     "languageId": "dotnet-interactive.csharp"
    }
   },
   "outputs": [
    {
     "data": {
      "text/html": [
       "<table><thead><tr><th><i>index</i></th><th>value</th></tr></thead><tbody><tr><td>0</td><td><div class=\"dni-plaintext\">[ t, w, o ]</div></td></tr><tr><td>1</td><td><div class=\"dni-plaintext\">[ w, o, r, d, s ]</div></td></tr></tbody></table>"
      ]
     },
     "metadata": {},
     "output_type": "display_data"
    }
   ],
   "source": [
    "var parser = many1(word);\n",
    "var result = parse(parser, \"two words\");\n",
    "\n",
    "return result.Reply.Result;"
   ]
  },
  {
   "cell_type": "code",
   "execution_count": null,
   "metadata": {
    "dotnet_interactive": {
     "language": "csharp"
    },
    "vscode": {
     "languageId": "dotnet-interactive.csharp"
    }
   },
   "outputs": [
    {
     "data": {
      "text/html": [
       "<table><thead><tr><th><i>index</i></th><th>value</th></tr></thead><tbody><tr><td>0</td><td>two</td></tr><tr><td>1</td><td>words</td></tr></tbody></table>"
      ]
     },
     "metadata": {},
     "output_type": "display_data"
    }
   ],
   "source": [
    "// and with a little adjustment to the inner parser to return the words rather than chars\n",
    "var word = from w in asString(many1(letter))\n",
    "           from s in spaces\n",
    "           select w;\n",
    "var parser = many1(word);\n",
    "var result = parse(parser, \"two words\");\n",
    "\n",
    "return result.Reply.Result;"
   ]
  },
  {
   "cell_type": "markdown",
   "metadata": {},
   "source": [
    "So far it has been pretty easy to build up a parser from these existing peices.  But what about when we need to parse integers?"
   ]
  },
  {
   "cell_type": "code",
   "execution_count": null,
   "metadata": {
    "dotnet_interactive": {
     "language": "csharp"
    },
    "vscode": {
     "languageId": "dotnet-interactive.csharp"
    }
   },
   "outputs": [
    {
     "data": {
      "text/html": [
       "<table><thead><tr><th><i>index</i></th><th>value</th></tr></thead><tbody><tr><td>0</td><td><div class=\"dni-plaintext\">123</div></td></tr><tr><td>1</td><td><div class=\"dni-plaintext\">1</div></td></tr><tr><td>2</td><td><div class=\"dni-plaintext\">2</div></td></tr><tr><td>3</td><td><div class=\"dni-plaintext\">3</div></td></tr></tbody></table>"
      ]
     },
     "metadata": {},
     "output_type": "display_data"
    }
   ],
   "source": [
    "var number = from d in asString(many1(digit))   // similar as before but we want a digit, not letter\n",
    "             from s in spaces                   // check it out! we are reusing our spaces parser from before!\n",
    "             select Int32.Parse(d);\n",
    "\n",
    "var parser = many1(number);\n",
    "var result = parse(parser, \"123 1 2 3\");\n",
    "\n",
    "return result.Reply.Result;\n"
   ]
  },
  {
   "cell_type": "markdown",
   "metadata": {},
   "source": [
    "Great! we can read numbers now! We are also starting to see the power of combinators in action.    \n",
    "We can easily create and chain together new parsers that 'just work' because it is all Parser in Parser out.    \n",
    "What about both letters and numbers at the same time?!\n",
    "\n",
    "First we need a common abstraction for numbers and words"
   ]
  },
  {
   "cell_type": "code",
   "execution_count": null,
   "metadata": {
    "dotnet_interactive": {
     "language": "csharp"
    },
    "vscode": {
     "languageId": "dotnet-interactive.csharp"
    }
   },
   "outputs": [],
   "source": [
    "abstract class Term { };\n",
    "\n",
    "class Word : Term\n",
    "{\n",
    "    public readonly string Value;\n",
    "    public Word(string value) => Value = value;\n",
    "}\n",
    "\n",
    "class Number : Term\n",
    "{\n",
    "    public readonly int Value;\n",
    "    public Number(int value) => Value = value;\n",
    "}"
   ]
  },
  {
   "cell_type": "markdown",
   "metadata": {},
   "source": [
    "Next we need to introduce a new combinator: `either`.  This combinator takes two parsers and returns a new parser that will try both sub parsers if needed.    \n",
    "For example: if a digit comes in, then the `word` parser will fail.  Should that happen, our new parer is now smart enough to try a second parser `digit`."
   ]
  },
  {
   "cell_type": "code",
   "execution_count": null,
   "metadata": {
    "dotnet_interactive": {
     "language": "csharp"
    },
    "vscode": {
     "languageId": "dotnet-interactive.csharp"
    }
   },
   "outputs": [
    {
     "data": {
      "text/html": [
       "<table><thead><tr><th><i>index</i></th><th><i>type</i></th><th>Value</th></tr></thead><tbody><tr><td>0</td><td>Submission#354+Word</td><td>Hello</td></tr><tr><td>1</td><td>Submission#354+Number</td><td><div class=\"dni-plaintext\">123</div></td></tr></tbody></table>"
      ]
     },
     "metadata": {},
     "output_type": "display_data"
    }
   ],
   "source": [
    "// small updates to our word and number parsers to use the \"terms\" abstraction\n",
    "var word = from w in asString(many1(letter))\n",
    "           from s in spaces\n",
    "           select new Word(w) as Term;\n",
    "\n",
    "var number = from d in asString(many1(digit))\n",
    "             from s in spaces\n",
    "             select new Number(Int32.Parse(d)) as Term;\n",
    "\n",
    "var term = either<Term>(word, number);\n",
    "\n",
    "// create our final parser that removes leading white space and invokes `term` many times\n",
    "var parser = from sp in spaces\n",
    "             from ws in many1(term)\n",
    "             select ws;\n",
    "\n",
    "var result = parser.Parse(\"Hello 123\");\n",
    "return result.Reply.Result;"
   ]
  },
  {
   "cell_type": "markdown",
   "metadata": {},
   "source": [
    "Boom! We solved a simple problem (parsing a single character) and through the power of function values and combinators, built up a parser that can handle numbers and words! \n",
    "\n",
    "Lets keep going, we have one more problem to solve in this example.   \n",
    "You may have noticed we always need `from s in spaces`.  As we add more parsable types this will get annoying.  Lets fix it!    \n",
    "\n",
    "We will do this by creating one more parser `token`.  Its job will be to 'tokenize' the term, and by that I mean it will remove trailing spaces."
   ]
  },
  {
   "cell_type": "code",
   "execution_count": null,
   "metadata": {
    "dotnet_interactive": {
     "language": "csharp"
    },
    "vscode": {
     "languageId": "dotnet-interactive.csharp"
    }
   },
   "outputs": [],
   "source": [
    "Parser<A> token<A>(Parser<A> parserA) =>\n",
    "    from res in parserA\n",
    "    from spc in spaces\n",
    "    select res;"
   ]
  },
  {
   "cell_type": "markdown",
   "metadata": {},
   "source": [
    "easy peasy! lets use it!"
   ]
  },
  {
   "cell_type": "code",
   "execution_count": null,
   "metadata": {
    "dotnet_interactive": {
     "language": "csharp"
    },
    "vscode": {
     "languageId": "dotnet-interactive.csharp"
    }
   },
   "outputs": [
    {
     "data": {
      "text/html": [
       "<table><thead><tr><th><i>index</i></th><th><i>type</i></th><th>Value</th></tr></thead><tbody><tr><td>0</td><td>Submission#354+Number</td><td><div class=\"dni-plaintext\">321</div></td></tr><tr><td>1</td><td>Submission#354+Word</td><td>Hello</td></tr><tr><td>2</td><td>Submission#354+Number</td><td><div class=\"dni-plaintext\">123</div></td></tr></tbody></table>"
      ]
     },
     "metadata": {},
     "output_type": "display_data"
    }
   ],
   "source": [
    "var word = from w in token(asString(many1(letter)))\n",
    "           select new Word(w) as Term;\n",
    "\n",
    "var number = from d in token(asString(many1(digit)))\n",
    "             select new Number(Int32.Parse(d)) as Term;\n",
    "\n",
    "var term = either<Term>(word, number);\n",
    "\n",
    "// create our final parser that removes leading white space and invokes `term` many times\n",
    "var parser = from sp in spaces\n",
    "             from ws in many1(term)\n",
    "             select ws;\n",
    "\n",
    "var result = parser.Parse(\"   321Hello 123\");\n",
    "return result.Reply.Result;"
   ]
  },
  {
   "cell_type": "markdown",
   "metadata": {},
   "source": [
    "\"321Hello\" was parsed as \"321\" and \"Hello\".  This may or may not be what we want. It happened this way because our spaces parser is looking for `0` or more spaces, and therefore succedded when there was no space.    \n",
    "\n",
    "What if we wanted space delimited numbers and words but not words that contain numbers?"
   ]
  },
  {
   "cell_type": "code",
   "execution_count": null,
   "metadata": {
    "dotnet_interactive": {
     "language": "csharp"
    },
    "vscode": {
     "languageId": "dotnet-interactive.csharp"
    }
   },
   "outputs": [
    {
     "name": "stdout",
     "output_type": "stream",
     "text": [
      "Faulted: True, Result: error at (line 1, column 5): unexpected t, expecting digit or end of input\r\n",
      "Faulted: False, Result: [Number { Value = 4 }, Word { Value = terms }, Word { Value = are }, Word { Value = here }]\r\n"
     ]
    },
    {
     "data": {
      "text/html": [
       "<table><thead><tr><th><i>index</i></th><th><i>type</i></th><th>Value</th></tr></thead><tbody><tr><td>0</td><td>Submission#361+Number</td><td><div class=\"dni-plaintext\">4</div></td></tr><tr><td>1</td><td>Submission#361+Word</td><td>terms</td></tr><tr><td>2</td><td>Submission#361+Word</td><td>are</td></tr><tr><td>3</td><td>Submission#361+Word</td><td>here</td></tr></tbody></table>"
      ]
     },
     "metadata": {},
     "output_type": "display_data"
    }
   ],
   "source": [
    "// update spaces to utilize either\n",
    "// we want to enforce `1` space - but can't fail on eof.\n",
    "var spaces = either(\n",
    "    eof,\n",
    "    // we don't care about the spaces, and we need a common abstaction with eof parser\n",
    "    // so we map to unit to create a parser<unit>\n",
    "    many1(satisfy(System.Char.IsWhiteSpace)).Map(_ => unit) \n",
    ");\n",
    "\n",
    "var word = from w in token(asString(many1(letter)))\n",
    "           select new Word(w) as Term;\n",
    "\n",
    "var number = from d in token(asString(many1(digit)))\n",
    "             select new Number(Int32.Parse(d)) as Term;\n",
    "\n",
    "var term = either<Term>(word, number);\n",
    "\n",
    "var parser = from sp in spaces\n",
    "             from ws in many1(term)\n",
    "             select ws;\n",
    "\n",
    "var result = parse(parser, \"   4terms are here\");\n",
    "Console.WriteLine($\"Faulted: {result.IsFaulted}, Result: {result.Reply.Error}\"); // an error showing us what went wrong\n",
    "\n",
    "var result2 = parse(parser, \"   4 terms are here\");\n",
    "Console.WriteLine($\"Faulted: {result2.IsFaulted}, Result: {result2.Reply.Result}\"); // [number, word, word, word]\n",
    "return result2.Reply.Result;"
   ]
  },
  {
   "cell_type": "markdown",
   "metadata": {},
   "source": [
    "Success! - sorta, we broke our parser in cases where there is no leading space."
   ]
  },
  {
   "cell_type": "code",
   "execution_count": null,
   "metadata": {
    "dotnet_interactive": {
     "language": "csharp"
    },
    "vscode": {
     "languageId": "dotnet-interactive.csharp"
    }
   },
   "outputs": [
    {
     "data": {
      "text/html": [
       "<table><thead><tr><th><i>index</i></th><th><i>type</i></th><th>Value</th></tr></thead><tbody><tr><td>0</td><td>Submission#354+Word</td><td>no</td></tr><tr><td>1</td><td>Submission#354+Word</td><td>leading</td></tr><tr><td>2</td><td>Submission#354+Word</td><td>space</td></tr><tr><td>3</td><td>Submission#354+Number</td><td><div class=\"dni-plaintext\">7</div></td></tr><tr><td>4</td><td>Submission#354+Word</td><td>terms</td></tr><tr><td>5</td><td>Submission#354+Word</td><td>are</td></tr><tr><td>6</td><td>Submission#354+Word</td><td>here</td></tr></tbody></table>"
      ]
     },
     "metadata": {},
     "output_type": "display_data"
    }
   ],
   "source": [
    "// perhaps we could just create a seperate spaces paser for when we are ok with `0` spaces\n",
    "var maybeSpaces = many(satisfy(System.Char.IsWhiteSpace)); // perhaps isSpace = satisfy(System.Char.IsWhiteSpace) could be abstracted\n",
    "var parser = from sp in maybeSpaces\n",
    "             from ws in many1(term)\n",
    "             select ws;\n",
    "\n",
    "var result2 = parse(parser, \"no leading space   7 terms are here\");\n",
    "return result2.Reply.Result;"
   ]
  },
  {
   "cell_type": "markdown",
   "metadata": {},
   "source": [
    "Our final parsing code"
   ]
  },
  {
   "cell_type": "code",
   "execution_count": null,
   "metadata": {
    "dotnet_interactive": {
     "language": "csharp"
    },
    "vscode": {
     "languageId": "dotnet-interactive.csharp"
    }
   },
   "outputs": [
    {
     "name": "stdout",
     "output_type": "stream",
     "text": [
      "Faulted: True, Result: error at (line 1, column 5): unexpected t, expecting digit or end of input\r\n",
      "Faulted: False, Result: [Number { Value = 4 }, Word { Value = terms }, Word { Value = are }, Word { Value = here }]\r\n",
      "Faulted: False, Result: [Word { Value = no }, Word { Value = leading }, Word { Value = spaces }, Number { Value = 7 }, Word { Value = terms }, Word { Value = are }, Word { Value = here }]\r\n"
     ]
    },
    {
     "data": {
      "text/html": [
       "<table><thead><tr><th><i>index</i></th><th><i>type</i></th><th>Value</th></tr></thead><tbody><tr><td>0</td><td>Submission#364+Word</td><td>no</td></tr><tr><td>1</td><td>Submission#364+Word</td><td>leading</td></tr><tr><td>2</td><td>Submission#364+Word</td><td>spaces</td></tr><tr><td>3</td><td>Submission#364+Number</td><td><div class=\"dni-plaintext\">7</div></td></tr><tr><td>4</td><td>Submission#364+Word</td><td>terms</td></tr><tr><td>5</td><td>Submission#364+Word</td><td>are</td></tr><tr><td>6</td><td>Submission#364+Word</td><td>here</td></tr></tbody></table>"
      ]
     },
     "metadata": {},
     "output_type": "display_data"
    }
   ],
   "source": [
    "abstract record Term { };\n",
    "record Word(string Value) : Term;\n",
    "record Number(int Value) : Term;\n",
    "\n",
    "var isSpace = satisfy(System.Char.IsWhiteSpace);\n",
    "var spaces = either(eof, many1(isSpace).Map(_ => unit));\n",
    "\n",
    "Parser<A> token<A>(Parser<A> parserA) =>\n",
    "    from res in parserA\n",
    "    from spc in spaces\n",
    "    select res;\n",
    "\n",
    "var word = \n",
    "    from w in token(asString(many1(letter)))\n",
    "    select new Word(w) as Term;\n",
    "\n",
    "var number = \n",
    "    from d in token(asString(many1(digit)))\n",
    "    select new Number(Int32.Parse(d)) as Term;\n",
    "\n",
    "var term = either<Term>(word, number);\n",
    "\n",
    "var parser = \n",
    "    from sp in many(isSpace)\n",
    "    from ws in many1(term)\n",
    "    select ws;\n",
    "\n",
    "var result = parse(parser, \"   4terms are here\");\n",
    "Console.WriteLine($\"Faulted: {result.IsFaulted}, Result: {result.Reply.Error}\"); // an error showing us what went wrong\n",
    "\n",
    "var result2 = parse(parser, \"   4 terms are here\");\n",
    "Console.WriteLine($\"Faulted: {result2.IsFaulted}, Result: {result2.Reply.Result}\"); // [number, word, word, word]\n",
    "\n",
    "var result3 = parse(parser, \"no leading spaces   7 terms are here\");\n",
    "Console.WriteLine($\"Faulted: {result3.IsFaulted}, Result: {result3.Reply.Result}\"); // [word, word, word, number, word, word, word]\n",
    "return result3.Reply.Result;"
   ]
  },
  {
   "cell_type": "markdown",
   "metadata": {},
   "source": [
    "I'm not very familure with query syntax - What would this look like in method syntax?"
   ]
  },
  {
   "cell_type": "code",
   "execution_count": null,
   "metadata": {
    "dotnet_interactive": {
     "language": "csharp"
    },
    "vscode": {
     "languageId": "dotnet-interactive.csharp"
    }
   },
   "outputs": [],
   "source": [
    "//todo:"
   ]
  },
  {
   "cell_type": "markdown",
   "metadata": {},
   "source": [
    "### Function Signatures"
   ]
  }
 ],
 "metadata": {
  "kernelspec": {
   "display_name": ".NET (C#)",
   "language": "C#",
   "name": ".net-csharp"
  },
  "language_info": {
   "name": "C#"
  }
 },
 "nbformat": 4,
 "nbformat_minor": 2
}
